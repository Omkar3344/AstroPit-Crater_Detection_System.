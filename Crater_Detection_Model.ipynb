{
  "nbformat": 4,
  "nbformat_minor": 0,
  "metadata": {
    "colab": {
      "provenance": [],
      "gpuType": "T4"
    },
    "kernelspec": {
      "name": "python3",
      "display_name": "Python 3"
    },
    "language_info": {
      "name": "python"
    },
    "accelerator": "GPU"
  },
  "cells": [
    {
      "cell_type": "code",
      "execution_count": 1,
      "metadata": {
        "colab": {
          "base_uri": "https://localhost:8080/"
        },
        "id": "sftJ9BXjPqzI",
        "outputId": "e4049d38-6155-4ffd-8cc9-92e9355dc201"
      },
      "outputs": [
        {
          "output_type": "stream",
          "name": "stdout",
          "text": [
            "Mounted at /content/drive\n",
            "Collecting ultralytics\n",
            "  Downloading ultralytics-8.3.111-py3-none-any.whl.metadata (37 kB)\n",
            "Requirement already satisfied: numpy<=2.1.1,>=1.23.0 in /usr/local/lib/python3.11/dist-packages (from ultralytics) (2.0.2)\n",
            "Requirement already satisfied: matplotlib>=3.3.0 in /usr/local/lib/python3.11/dist-packages (from ultralytics) (3.10.0)\n",
            "Requirement already satisfied: opencv-python>=4.6.0 in /usr/local/lib/python3.11/dist-packages (from ultralytics) (4.11.0.86)\n",
            "Requirement already satisfied: pillow>=7.1.2 in /usr/local/lib/python3.11/dist-packages (from ultralytics) (11.1.0)\n",
            "Requirement already satisfied: pyyaml>=5.3.1 in /usr/local/lib/python3.11/dist-packages (from ultralytics) (6.0.2)\n",
            "Requirement already satisfied: requests>=2.23.0 in /usr/local/lib/python3.11/dist-packages (from ultralytics) (2.32.3)\n",
            "Requirement already satisfied: scipy>=1.4.1 in /usr/local/lib/python3.11/dist-packages (from ultralytics) (1.14.1)\n",
            "Requirement already satisfied: torch>=1.8.0 in /usr/local/lib/python3.11/dist-packages (from ultralytics) (2.6.0+cu124)\n",
            "Requirement already satisfied: torchvision>=0.9.0 in /usr/local/lib/python3.11/dist-packages (from ultralytics) (0.21.0+cu124)\n",
            "Requirement already satisfied: tqdm>=4.64.0 in /usr/local/lib/python3.11/dist-packages (from ultralytics) (4.67.1)\n",
            "Requirement already satisfied: psutil in /usr/local/lib/python3.11/dist-packages (from ultralytics) (5.9.5)\n",
            "Requirement already satisfied: py-cpuinfo in /usr/local/lib/python3.11/dist-packages (from ultralytics) (9.0.0)\n",
            "Requirement already satisfied: pandas>=1.1.4 in /usr/local/lib/python3.11/dist-packages (from ultralytics) (2.2.2)\n",
            "Requirement already satisfied: seaborn>=0.11.0 in /usr/local/lib/python3.11/dist-packages (from ultralytics) (0.13.2)\n",
            "Collecting ultralytics-thop>=2.0.0 (from ultralytics)\n",
            "  Downloading ultralytics_thop-2.0.14-py3-none-any.whl.metadata (9.4 kB)\n",
            "Requirement already satisfied: contourpy>=1.0.1 in /usr/local/lib/python3.11/dist-packages (from matplotlib>=3.3.0->ultralytics) (1.3.1)\n",
            "Requirement already satisfied: cycler>=0.10 in /usr/local/lib/python3.11/dist-packages (from matplotlib>=3.3.0->ultralytics) (0.12.1)\n",
            "Requirement already satisfied: fonttools>=4.22.0 in /usr/local/lib/python3.11/dist-packages (from matplotlib>=3.3.0->ultralytics) (4.57.0)\n",
            "Requirement already satisfied: kiwisolver>=1.3.1 in /usr/local/lib/python3.11/dist-packages (from matplotlib>=3.3.0->ultralytics) (1.4.8)\n",
            "Requirement already satisfied: packaging>=20.0 in /usr/local/lib/python3.11/dist-packages (from matplotlib>=3.3.0->ultralytics) (24.2)\n",
            "Requirement already satisfied: pyparsing>=2.3.1 in /usr/local/lib/python3.11/dist-packages (from matplotlib>=3.3.0->ultralytics) (3.2.3)\n",
            "Requirement already satisfied: python-dateutil>=2.7 in /usr/local/lib/python3.11/dist-packages (from matplotlib>=3.3.0->ultralytics) (2.8.2)\n",
            "Requirement already satisfied: pytz>=2020.1 in /usr/local/lib/python3.11/dist-packages (from pandas>=1.1.4->ultralytics) (2025.2)\n",
            "Requirement already satisfied: tzdata>=2022.7 in /usr/local/lib/python3.11/dist-packages (from pandas>=1.1.4->ultralytics) (2025.2)\n",
            "Requirement already satisfied: charset-normalizer<4,>=2 in /usr/local/lib/python3.11/dist-packages (from requests>=2.23.0->ultralytics) (3.4.1)\n",
            "Requirement already satisfied: idna<4,>=2.5 in /usr/local/lib/python3.11/dist-packages (from requests>=2.23.0->ultralytics) (3.10)\n",
            "Requirement already satisfied: urllib3<3,>=1.21.1 in /usr/local/lib/python3.11/dist-packages (from requests>=2.23.0->ultralytics) (2.3.0)\n",
            "Requirement already satisfied: certifi>=2017.4.17 in /usr/local/lib/python3.11/dist-packages (from requests>=2.23.0->ultralytics) (2025.1.31)\n",
            "Requirement already satisfied: filelock in /usr/local/lib/python3.11/dist-packages (from torch>=1.8.0->ultralytics) (3.18.0)\n",
            "Requirement already satisfied: typing-extensions>=4.10.0 in /usr/local/lib/python3.11/dist-packages (from torch>=1.8.0->ultralytics) (4.13.1)\n",
            "Requirement already satisfied: networkx in /usr/local/lib/python3.11/dist-packages (from torch>=1.8.0->ultralytics) (3.4.2)\n",
            "Requirement already satisfied: jinja2 in /usr/local/lib/python3.11/dist-packages (from torch>=1.8.0->ultralytics) (3.1.6)\n",
            "Requirement already satisfied: fsspec in /usr/local/lib/python3.11/dist-packages (from torch>=1.8.0->ultralytics) (2025.3.2)\n",
            "Collecting nvidia-cuda-nvrtc-cu12==12.4.127 (from torch>=1.8.0->ultralytics)\n",
            "  Downloading nvidia_cuda_nvrtc_cu12-12.4.127-py3-none-manylinux2014_x86_64.whl.metadata (1.5 kB)\n",
            "Collecting nvidia-cuda-runtime-cu12==12.4.127 (from torch>=1.8.0->ultralytics)\n",
            "  Downloading nvidia_cuda_runtime_cu12-12.4.127-py3-none-manylinux2014_x86_64.whl.metadata (1.5 kB)\n",
            "Collecting nvidia-cuda-cupti-cu12==12.4.127 (from torch>=1.8.0->ultralytics)\n",
            "  Downloading nvidia_cuda_cupti_cu12-12.4.127-py3-none-manylinux2014_x86_64.whl.metadata (1.6 kB)\n",
            "Collecting nvidia-cudnn-cu12==9.1.0.70 (from torch>=1.8.0->ultralytics)\n",
            "  Downloading nvidia_cudnn_cu12-9.1.0.70-py3-none-manylinux2014_x86_64.whl.metadata (1.6 kB)\n",
            "Collecting nvidia-cublas-cu12==12.4.5.8 (from torch>=1.8.0->ultralytics)\n",
            "  Downloading nvidia_cublas_cu12-12.4.5.8-py3-none-manylinux2014_x86_64.whl.metadata (1.5 kB)\n",
            "Collecting nvidia-cufft-cu12==11.2.1.3 (from torch>=1.8.0->ultralytics)\n",
            "  Downloading nvidia_cufft_cu12-11.2.1.3-py3-none-manylinux2014_x86_64.whl.metadata (1.5 kB)\n",
            "Collecting nvidia-curand-cu12==10.3.5.147 (from torch>=1.8.0->ultralytics)\n",
            "  Downloading nvidia_curand_cu12-10.3.5.147-py3-none-manylinux2014_x86_64.whl.metadata (1.5 kB)\n",
            "Collecting nvidia-cusolver-cu12==11.6.1.9 (from torch>=1.8.0->ultralytics)\n",
            "  Downloading nvidia_cusolver_cu12-11.6.1.9-py3-none-manylinux2014_x86_64.whl.metadata (1.6 kB)\n",
            "Collecting nvidia-cusparse-cu12==12.3.1.170 (from torch>=1.8.0->ultralytics)\n",
            "  Downloading nvidia_cusparse_cu12-12.3.1.170-py3-none-manylinux2014_x86_64.whl.metadata (1.6 kB)\n",
            "Requirement already satisfied: nvidia-cusparselt-cu12==0.6.2 in /usr/local/lib/python3.11/dist-packages (from torch>=1.8.0->ultralytics) (0.6.2)\n",
            "Requirement already satisfied: nvidia-nccl-cu12==2.21.5 in /usr/local/lib/python3.11/dist-packages (from torch>=1.8.0->ultralytics) (2.21.5)\n",
            "Requirement already satisfied: nvidia-nvtx-cu12==12.4.127 in /usr/local/lib/python3.11/dist-packages (from torch>=1.8.0->ultralytics) (12.4.127)\n",
            "Collecting nvidia-nvjitlink-cu12==12.4.127 (from torch>=1.8.0->ultralytics)\n",
            "  Downloading nvidia_nvjitlink_cu12-12.4.127-py3-none-manylinux2014_x86_64.whl.metadata (1.5 kB)\n",
            "Requirement already satisfied: triton==3.2.0 in /usr/local/lib/python3.11/dist-packages (from torch>=1.8.0->ultralytics) (3.2.0)\n",
            "Requirement already satisfied: sympy==1.13.1 in /usr/local/lib/python3.11/dist-packages (from torch>=1.8.0->ultralytics) (1.13.1)\n",
            "Requirement already satisfied: mpmath<1.4,>=1.1.0 in /usr/local/lib/python3.11/dist-packages (from sympy==1.13.1->torch>=1.8.0->ultralytics) (1.3.0)\n",
            "Requirement already satisfied: six>=1.5 in /usr/local/lib/python3.11/dist-packages (from python-dateutil>=2.7->matplotlib>=3.3.0->ultralytics) (1.17.0)\n",
            "Requirement already satisfied: MarkupSafe>=2.0 in /usr/local/lib/python3.11/dist-packages (from jinja2->torch>=1.8.0->ultralytics) (3.0.2)\n",
            "Downloading ultralytics-8.3.111-py3-none-any.whl (978 kB)\n",
            "\u001b[2K   \u001b[90m━━━━━━━━━━━━━━━━━━━━━━━━━━━━━━━━━━━━━━━━\u001b[0m \u001b[32m978.8/978.8 kB\u001b[0m \u001b[31m38.4 MB/s\u001b[0m eta \u001b[36m0:00:00\u001b[0m\n",
            "\u001b[?25hDownloading nvidia_cublas_cu12-12.4.5.8-py3-none-manylinux2014_x86_64.whl (363.4 MB)\n",
            "\u001b[2K   \u001b[90m━━━━━━━━━━━━━━━━━━━━━━━━━━━━━━━━━━━━━━━━\u001b[0m \u001b[32m363.4/363.4 MB\u001b[0m \u001b[31m4.8 MB/s\u001b[0m eta \u001b[36m0:00:00\u001b[0m\n",
            "\u001b[?25hDownloading nvidia_cuda_cupti_cu12-12.4.127-py3-none-manylinux2014_x86_64.whl (13.8 MB)\n",
            "\u001b[2K   \u001b[90m━━━━━━━━━━━━━━━━━━━━━━━━━━━━━━━━━━━━━━━━\u001b[0m \u001b[32m13.8/13.8 MB\u001b[0m \u001b[31m121.5 MB/s\u001b[0m eta \u001b[36m0:00:00\u001b[0m\n",
            "\u001b[?25hDownloading nvidia_cuda_nvrtc_cu12-12.4.127-py3-none-manylinux2014_x86_64.whl (24.6 MB)\n",
            "\u001b[2K   \u001b[90m━━━━━━━━━━━━━━━━━━━━━━━━━━━━━━━━━━━━━━━━\u001b[0m \u001b[32m24.6/24.6 MB\u001b[0m \u001b[31m102.5 MB/s\u001b[0m eta \u001b[36m0:00:00\u001b[0m\n",
            "\u001b[?25hDownloading nvidia_cuda_runtime_cu12-12.4.127-py3-none-manylinux2014_x86_64.whl (883 kB)\n",
            "\u001b[2K   \u001b[90m━━━━━━━━━━━━━━━━━━━━━━━━━━━━━━━━━━━━━━━━\u001b[0m \u001b[32m883.7/883.7 kB\u001b[0m \u001b[31m57.6 MB/s\u001b[0m eta \u001b[36m0:00:00\u001b[0m\n",
            "\u001b[?25hDownloading nvidia_cudnn_cu12-9.1.0.70-py3-none-manylinux2014_x86_64.whl (664.8 MB)\n",
            "\u001b[2K   \u001b[90m━━━━━━━━━━━━━━━━━━━━━━━━━━━━━━━━━━━━━━━━\u001b[0m \u001b[32m664.8/664.8 MB\u001b[0m \u001b[31m2.8 MB/s\u001b[0m eta \u001b[36m0:00:00\u001b[0m\n",
            "\u001b[?25hDownloading nvidia_cufft_cu12-11.2.1.3-py3-none-manylinux2014_x86_64.whl (211.5 MB)\n",
            "\u001b[2K   \u001b[90m━━━━━━━━━━━━━━━━━━━━━━━━━━━━━━━━━━━━━━━━\u001b[0m \u001b[32m211.5/211.5 MB\u001b[0m \u001b[31m6.8 MB/s\u001b[0m eta \u001b[36m0:00:00\u001b[0m\n",
            "\u001b[?25hDownloading nvidia_curand_cu12-10.3.5.147-py3-none-manylinux2014_x86_64.whl (56.3 MB)\n",
            "\u001b[2K   \u001b[90m━━━━━━━━━━━━━━━━━━━━━━━━━━━━━━━━━━━━━━━━\u001b[0m \u001b[32m56.3/56.3 MB\u001b[0m \u001b[31m14.4 MB/s\u001b[0m eta \u001b[36m0:00:00\u001b[0m\n",
            "\u001b[?25hDownloading nvidia_cusolver_cu12-11.6.1.9-py3-none-manylinux2014_x86_64.whl (127.9 MB)\n",
            "\u001b[2K   \u001b[90m━━━━━━━━━━━━━━━━━━━━━━━━━━━━━━━━━━━━━━━━\u001b[0m \u001b[32m127.9/127.9 MB\u001b[0m \u001b[31m7.7 MB/s\u001b[0m eta \u001b[36m0:00:00\u001b[0m\n",
            "\u001b[?25hDownloading nvidia_cusparse_cu12-12.3.1.170-py3-none-manylinux2014_x86_64.whl (207.5 MB)\n",
            "\u001b[2K   \u001b[90m━━━━━━━━━━━━━━━━━━━━━━━━━━━━━━━━━━━━━━━━\u001b[0m \u001b[32m207.5/207.5 MB\u001b[0m \u001b[31m5.7 MB/s\u001b[0m eta \u001b[36m0:00:00\u001b[0m\n",
            "\u001b[?25hDownloading nvidia_nvjitlink_cu12-12.4.127-py3-none-manylinux2014_x86_64.whl (21.1 MB)\n",
            "\u001b[2K   \u001b[90m━━━━━━━━━━━━━━━━━━━━━━━━━━━━━━━━━━━━━━━━\u001b[0m \u001b[32m21.1/21.1 MB\u001b[0m \u001b[31m105.0 MB/s\u001b[0m eta \u001b[36m0:00:00\u001b[0m\n",
            "\u001b[?25hDownloading ultralytics_thop-2.0.14-py3-none-any.whl (26 kB)\n",
            "Installing collected packages: nvidia-nvjitlink-cu12, nvidia-curand-cu12, nvidia-cufft-cu12, nvidia-cuda-runtime-cu12, nvidia-cuda-nvrtc-cu12, nvidia-cuda-cupti-cu12, nvidia-cublas-cu12, nvidia-cusparse-cu12, nvidia-cudnn-cu12, nvidia-cusolver-cu12, ultralytics-thop, ultralytics\n",
            "  Attempting uninstall: nvidia-nvjitlink-cu12\n",
            "    Found existing installation: nvidia-nvjitlink-cu12 12.5.82\n",
            "    Uninstalling nvidia-nvjitlink-cu12-12.5.82:\n",
            "      Successfully uninstalled nvidia-nvjitlink-cu12-12.5.82\n",
            "  Attempting uninstall: nvidia-curand-cu12\n",
            "    Found existing installation: nvidia-curand-cu12 10.3.6.82\n",
            "    Uninstalling nvidia-curand-cu12-10.3.6.82:\n",
            "      Successfully uninstalled nvidia-curand-cu12-10.3.6.82\n",
            "  Attempting uninstall: nvidia-cufft-cu12\n",
            "    Found existing installation: nvidia-cufft-cu12 11.2.3.61\n",
            "    Uninstalling nvidia-cufft-cu12-11.2.3.61:\n",
            "      Successfully uninstalled nvidia-cufft-cu12-11.2.3.61\n",
            "  Attempting uninstall: nvidia-cuda-runtime-cu12\n",
            "    Found existing installation: nvidia-cuda-runtime-cu12 12.5.82\n",
            "    Uninstalling nvidia-cuda-runtime-cu12-12.5.82:\n",
            "      Successfully uninstalled nvidia-cuda-runtime-cu12-12.5.82\n",
            "  Attempting uninstall: nvidia-cuda-nvrtc-cu12\n",
            "    Found existing installation: nvidia-cuda-nvrtc-cu12 12.5.82\n",
            "    Uninstalling nvidia-cuda-nvrtc-cu12-12.5.82:\n",
            "      Successfully uninstalled nvidia-cuda-nvrtc-cu12-12.5.82\n",
            "  Attempting uninstall: nvidia-cuda-cupti-cu12\n",
            "    Found existing installation: nvidia-cuda-cupti-cu12 12.5.82\n",
            "    Uninstalling nvidia-cuda-cupti-cu12-12.5.82:\n",
            "      Successfully uninstalled nvidia-cuda-cupti-cu12-12.5.82\n",
            "  Attempting uninstall: nvidia-cublas-cu12\n",
            "    Found existing installation: nvidia-cublas-cu12 12.5.3.2\n",
            "    Uninstalling nvidia-cublas-cu12-12.5.3.2:\n",
            "      Successfully uninstalled nvidia-cublas-cu12-12.5.3.2\n",
            "  Attempting uninstall: nvidia-cusparse-cu12\n",
            "    Found existing installation: nvidia-cusparse-cu12 12.5.1.3\n",
            "    Uninstalling nvidia-cusparse-cu12-12.5.1.3:\n",
            "      Successfully uninstalled nvidia-cusparse-cu12-12.5.1.3\n",
            "  Attempting uninstall: nvidia-cudnn-cu12\n",
            "    Found existing installation: nvidia-cudnn-cu12 9.3.0.75\n",
            "    Uninstalling nvidia-cudnn-cu12-9.3.0.75:\n",
            "      Successfully uninstalled nvidia-cudnn-cu12-9.3.0.75\n",
            "  Attempting uninstall: nvidia-cusolver-cu12\n",
            "    Found existing installation: nvidia-cusolver-cu12 11.6.3.83\n",
            "    Uninstalling nvidia-cusolver-cu12-11.6.3.83:\n",
            "      Successfully uninstalled nvidia-cusolver-cu12-11.6.3.83\n",
            "Successfully installed nvidia-cublas-cu12-12.4.5.8 nvidia-cuda-cupti-cu12-12.4.127 nvidia-cuda-nvrtc-cu12-12.4.127 nvidia-cuda-runtime-cu12-12.4.127 nvidia-cudnn-cu12-9.1.0.70 nvidia-cufft-cu12-11.2.1.3 nvidia-curand-cu12-10.3.5.147 nvidia-cusolver-cu12-11.6.1.9 nvidia-cusparse-cu12-12.3.1.170 nvidia-nvjitlink-cu12-12.4.127 ultralytics-8.3.111 ultralytics-thop-2.0.14\n",
            "Requirement already satisfied: opencv-python-headless in /usr/local/lib/python3.11/dist-packages (4.11.0.86)\n",
            "Requirement already satisfied: numpy>=1.21.2 in /usr/local/lib/python3.11/dist-packages (from opencv-python-headless) (2.0.2)\n",
            "Requirement already satisfied: scikit-learn in /usr/local/lib/python3.11/dist-packages (1.6.1)\n",
            "Requirement already satisfied: numpy>=1.19.5 in /usr/local/lib/python3.11/dist-packages (from scikit-learn) (2.0.2)\n",
            "Requirement already satisfied: scipy>=1.6.0 in /usr/local/lib/python3.11/dist-packages (from scikit-learn) (1.14.1)\n",
            "Requirement already satisfied: joblib>=1.2.0 in /usr/local/lib/python3.11/dist-packages (from scikit-learn) (1.4.2)\n",
            "Requirement already satisfied: threadpoolctl>=3.1.0 in /usr/local/lib/python3.11/dist-packages (from scikit-learn) (3.6.0)\n",
            "Requirement already satisfied: matplotlib in /usr/local/lib/python3.11/dist-packages (3.10.0)\n",
            "Requirement already satisfied: contourpy>=1.0.1 in /usr/local/lib/python3.11/dist-packages (from matplotlib) (1.3.1)\n",
            "Requirement already satisfied: cycler>=0.10 in /usr/local/lib/python3.11/dist-packages (from matplotlib) (0.12.1)\n",
            "Requirement already satisfied: fonttools>=4.22.0 in /usr/local/lib/python3.11/dist-packages (from matplotlib) (4.57.0)\n",
            "Requirement already satisfied: kiwisolver>=1.3.1 in /usr/local/lib/python3.11/dist-packages (from matplotlib) (1.4.8)\n",
            "Requirement already satisfied: numpy>=1.23 in /usr/local/lib/python3.11/dist-packages (from matplotlib) (2.0.2)\n",
            "Requirement already satisfied: packaging>=20.0 in /usr/local/lib/python3.11/dist-packages (from matplotlib) (24.2)\n",
            "Requirement already satisfied: pillow>=8 in /usr/local/lib/python3.11/dist-packages (from matplotlib) (11.1.0)\n",
            "Requirement already satisfied: pyparsing>=2.3.1 in /usr/local/lib/python3.11/dist-packages (from matplotlib) (3.2.3)\n",
            "Requirement already satisfied: python-dateutil>=2.7 in /usr/local/lib/python3.11/dist-packages (from matplotlib) (2.8.2)\n",
            "Requirement already satisfied: six>=1.5 in /usr/local/lib/python3.11/dist-packages (from python-dateutil>=2.7->matplotlib) (1.17.0)\n",
            "Requirement already satisfied: pandas in /usr/local/lib/python3.11/dist-packages (2.2.2)\n",
            "Requirement already satisfied: numpy>=1.23.2 in /usr/local/lib/python3.11/dist-packages (from pandas) (2.0.2)\n",
            "Requirement already satisfied: python-dateutil>=2.8.2 in /usr/local/lib/python3.11/dist-packages (from pandas) (2.8.2)\n",
            "Requirement already satisfied: pytz>=2020.1 in /usr/local/lib/python3.11/dist-packages (from pandas) (2025.2)\n",
            "Requirement already satisfied: tzdata>=2022.7 in /usr/local/lib/python3.11/dist-packages (from pandas) (2025.2)\n",
            "Requirement already satisfied: six>=1.5 in /usr/local/lib/python3.11/dist-packages (from python-dateutil>=2.8.2->pandas) (1.17.0)\n",
            "Requirement already satisfied: kaggle in /usr/local/lib/python3.11/dist-packages (1.7.4.2)\n",
            "Requirement already satisfied: bleach in /usr/local/lib/python3.11/dist-packages (from kaggle) (6.2.0)\n",
            "Requirement already satisfied: certifi>=14.05.14 in /usr/local/lib/python3.11/dist-packages (from kaggle) (2025.1.31)\n",
            "Requirement already satisfied: charset-normalizer in /usr/local/lib/python3.11/dist-packages (from kaggle) (3.4.1)\n",
            "Requirement already satisfied: idna in /usr/local/lib/python3.11/dist-packages (from kaggle) (3.10)\n",
            "Requirement already satisfied: protobuf in /usr/local/lib/python3.11/dist-packages (from kaggle) (5.29.4)\n",
            "Requirement already satisfied: python-dateutil>=2.5.3 in /usr/local/lib/python3.11/dist-packages (from kaggle) (2.8.2)\n",
            "Requirement already satisfied: python-slugify in /usr/local/lib/python3.11/dist-packages (from kaggle) (8.0.4)\n",
            "Requirement already satisfied: requests in /usr/local/lib/python3.11/dist-packages (from kaggle) (2.32.3)\n",
            "Requirement already satisfied: setuptools>=21.0.0 in /usr/local/lib/python3.11/dist-packages (from kaggle) (75.2.0)\n",
            "Requirement already satisfied: six>=1.10 in /usr/local/lib/python3.11/dist-packages (from kaggle) (1.17.0)\n",
            "Requirement already satisfied: text-unidecode in /usr/local/lib/python3.11/dist-packages (from kaggle) (1.3)\n",
            "Requirement already satisfied: tqdm in /usr/local/lib/python3.11/dist-packages (from kaggle) (4.67.1)\n",
            "Requirement already satisfied: urllib3>=1.15.1 in /usr/local/lib/python3.11/dist-packages (from kaggle) (2.3.0)\n",
            "Requirement already satisfied: webencodings in /usr/local/lib/python3.11/dist-packages (from kaggle) (0.5.1)\n"
          ]
        }
      ],
      "source": [
        "# Create a new notebook in Google Colab\n",
        "# Mount Google Drive for persistent storage\n",
        "from google.colab import drive\n",
        "drive.mount('/content/drive')\n",
        "\n",
        "# Create a project folder\n",
        "!mkdir -p /content/drive/MyDrive/crater_detection\n",
        "\n",
        "# Install required packages\n",
        "!pip install ultralytics\n",
        "!pip install opencv-python-headless\n",
        "!pip install scikit-learn\n",
        "!pip install matplotlib\n",
        "!pip install pandas\n",
        "!pip install kaggle"
      ]
    },
    {
      "cell_type": "code",
      "source": [
        "# Upload your kaggle.json API key\n",
        "from google.colab import files\n",
        "uploaded = files.upload()  # Upload your kaggle.json\n",
        "\n",
        "# Setup Kaggle credentials\n",
        "!mkdir -p ~/.kaggle\n",
        "!cp kaggle.json ~/.kaggle/\n",
        "!chmod 600 ~/.kaggle/kaggle.json\n",
        "\n",
        "# Search for planetary/crater datasets\n",
        "!kaggle datasets list -s \"mars crater\"\n",
        "\n",
        "# Download a specific dataset (replace with your chosen dataset)\n",
        "!kaggle datasets download -d lincolnzh/martianlunar-crater-detection-dataset\n",
        "!unzip martianlunar-crater-detection-dataset.zip -d /content/dataset"
      ],
      "metadata": {
        "colab": {
          "base_uri": "https://localhost:8080/",
          "height": 1000
        },
        "id": "YZ4C9vnAQF8Q",
        "outputId": "953380dd-7cd4-457a-f80b-aa1d0647d60c"
      },
      "execution_count": 2,
      "outputs": [
        {
          "output_type": "display_data",
          "data": {
            "text/plain": [
              "<IPython.core.display.HTML object>"
            ],
            "text/html": [
              "\n",
              "     <input type=\"file\" id=\"files-52a63577-4a0a-44d0-a3fb-498f2f4c1394\" name=\"files[]\" multiple disabled\n",
              "        style=\"border:none\" />\n",
              "     <output id=\"result-52a63577-4a0a-44d0-a3fb-498f2f4c1394\">\n",
              "      Upload widget is only available when the cell has been executed in the\n",
              "      current browser session. Please rerun this cell to enable.\n",
              "      </output>\n",
              "      <script>// Copyright 2017 Google LLC\n",
              "//\n",
              "// Licensed under the Apache License, Version 2.0 (the \"License\");\n",
              "// you may not use this file except in compliance with the License.\n",
              "// You may obtain a copy of the License at\n",
              "//\n",
              "//      http://www.apache.org/licenses/LICENSE-2.0\n",
              "//\n",
              "// Unless required by applicable law or agreed to in writing, software\n",
              "// distributed under the License is distributed on an \"AS IS\" BASIS,\n",
              "// WITHOUT WARRANTIES OR CONDITIONS OF ANY KIND, either express or implied.\n",
              "// See the License for the specific language governing permissions and\n",
              "// limitations under the License.\n",
              "\n",
              "/**\n",
              " * @fileoverview Helpers for google.colab Python module.\n",
              " */\n",
              "(function(scope) {\n",
              "function span(text, styleAttributes = {}) {\n",
              "  const element = document.createElement('span');\n",
              "  element.textContent = text;\n",
              "  for (const key of Object.keys(styleAttributes)) {\n",
              "    element.style[key] = styleAttributes[key];\n",
              "  }\n",
              "  return element;\n",
              "}\n",
              "\n",
              "// Max number of bytes which will be uploaded at a time.\n",
              "const MAX_PAYLOAD_SIZE = 100 * 1024;\n",
              "\n",
              "function _uploadFiles(inputId, outputId) {\n",
              "  const steps = uploadFilesStep(inputId, outputId);\n",
              "  const outputElement = document.getElementById(outputId);\n",
              "  // Cache steps on the outputElement to make it available for the next call\n",
              "  // to uploadFilesContinue from Python.\n",
              "  outputElement.steps = steps;\n",
              "\n",
              "  return _uploadFilesContinue(outputId);\n",
              "}\n",
              "\n",
              "// This is roughly an async generator (not supported in the browser yet),\n",
              "// where there are multiple asynchronous steps and the Python side is going\n",
              "// to poll for completion of each step.\n",
              "// This uses a Promise to block the python side on completion of each step,\n",
              "// then passes the result of the previous step as the input to the next step.\n",
              "function _uploadFilesContinue(outputId) {\n",
              "  const outputElement = document.getElementById(outputId);\n",
              "  const steps = outputElement.steps;\n",
              "\n",
              "  const next = steps.next(outputElement.lastPromiseValue);\n",
              "  return Promise.resolve(next.value.promise).then((value) => {\n",
              "    // Cache the last promise value to make it available to the next\n",
              "    // step of the generator.\n",
              "    outputElement.lastPromiseValue = value;\n",
              "    return next.value.response;\n",
              "  });\n",
              "}\n",
              "\n",
              "/**\n",
              " * Generator function which is called between each async step of the upload\n",
              " * process.\n",
              " * @param {string} inputId Element ID of the input file picker element.\n",
              " * @param {string} outputId Element ID of the output display.\n",
              " * @return {!Iterable<!Object>} Iterable of next steps.\n",
              " */\n",
              "function* uploadFilesStep(inputId, outputId) {\n",
              "  const inputElement = document.getElementById(inputId);\n",
              "  inputElement.disabled = false;\n",
              "\n",
              "  const outputElement = document.getElementById(outputId);\n",
              "  outputElement.innerHTML = '';\n",
              "\n",
              "  const pickedPromise = new Promise((resolve) => {\n",
              "    inputElement.addEventListener('change', (e) => {\n",
              "      resolve(e.target.files);\n",
              "    });\n",
              "  });\n",
              "\n",
              "  const cancel = document.createElement('button');\n",
              "  inputElement.parentElement.appendChild(cancel);\n",
              "  cancel.textContent = 'Cancel upload';\n",
              "  const cancelPromise = new Promise((resolve) => {\n",
              "    cancel.onclick = () => {\n",
              "      resolve(null);\n",
              "    };\n",
              "  });\n",
              "\n",
              "  // Wait for the user to pick the files.\n",
              "  const files = yield {\n",
              "    promise: Promise.race([pickedPromise, cancelPromise]),\n",
              "    response: {\n",
              "      action: 'starting',\n",
              "    }\n",
              "  };\n",
              "\n",
              "  cancel.remove();\n",
              "\n",
              "  // Disable the input element since further picks are not allowed.\n",
              "  inputElement.disabled = true;\n",
              "\n",
              "  if (!files) {\n",
              "    return {\n",
              "      response: {\n",
              "        action: 'complete',\n",
              "      }\n",
              "    };\n",
              "  }\n",
              "\n",
              "  for (const file of files) {\n",
              "    const li = document.createElement('li');\n",
              "    li.append(span(file.name, {fontWeight: 'bold'}));\n",
              "    li.append(span(\n",
              "        `(${file.type || 'n/a'}) - ${file.size} bytes, ` +\n",
              "        `last modified: ${\n",
              "            file.lastModifiedDate ? file.lastModifiedDate.toLocaleDateString() :\n",
              "                                    'n/a'} - `));\n",
              "    const percent = span('0% done');\n",
              "    li.appendChild(percent);\n",
              "\n",
              "    outputElement.appendChild(li);\n",
              "\n",
              "    const fileDataPromise = new Promise((resolve) => {\n",
              "      const reader = new FileReader();\n",
              "      reader.onload = (e) => {\n",
              "        resolve(e.target.result);\n",
              "      };\n",
              "      reader.readAsArrayBuffer(file);\n",
              "    });\n",
              "    // Wait for the data to be ready.\n",
              "    let fileData = yield {\n",
              "      promise: fileDataPromise,\n",
              "      response: {\n",
              "        action: 'continue',\n",
              "      }\n",
              "    };\n",
              "\n",
              "    // Use a chunked sending to avoid message size limits. See b/62115660.\n",
              "    let position = 0;\n",
              "    do {\n",
              "      const length = Math.min(fileData.byteLength - position, MAX_PAYLOAD_SIZE);\n",
              "      const chunk = new Uint8Array(fileData, position, length);\n",
              "      position += length;\n",
              "\n",
              "      const base64 = btoa(String.fromCharCode.apply(null, chunk));\n",
              "      yield {\n",
              "        response: {\n",
              "          action: 'append',\n",
              "          file: file.name,\n",
              "          data: base64,\n",
              "        },\n",
              "      };\n",
              "\n",
              "      let percentDone = fileData.byteLength === 0 ?\n",
              "          100 :\n",
              "          Math.round((position / fileData.byteLength) * 100);\n",
              "      percent.textContent = `${percentDone}% done`;\n",
              "\n",
              "    } while (position < fileData.byteLength);\n",
              "  }\n",
              "\n",
              "  // All done.\n",
              "  yield {\n",
              "    response: {\n",
              "      action: 'complete',\n",
              "    }\n",
              "  };\n",
              "}\n",
              "\n",
              "scope.google = scope.google || {};\n",
              "scope.google.colab = scope.google.colab || {};\n",
              "scope.google.colab._files = {\n",
              "  _uploadFiles,\n",
              "  _uploadFilesContinue,\n",
              "};\n",
              "})(self);\n",
              "</script> "
            ]
          },
          "metadata": {}
        },
        {
          "output_type": "stream",
          "name": "stdout",
          "text": [
            "Saving kaggle.json to kaggle.json\n",
            "ref                                                             title                                                    size  lastUpdated                 downloadCount  voteCount  usabilityRating  \n",
            "--------------------------------------------------------------  -------------------------------------------------  ----------  --------------------------  -------------  ---------  ---------------  \n",
            "codebreaker619/mars-crater-study-dataset                        Mars Crater Study Dataset                             4068517  2021-01-11 06:25:49.220000            593         32  0.9411765        \n",
            "lincolnzh/martianlunar-crater-detection-dataset                 Martian/Lunar Crater Detection Dataset               77604628  2022-02-15 00:18:51.217000           2478         29  0.9375           \n",
            "docxian/mars-maps                                               Mars Maps                                             2616710  2021-01-11 19:43:34.940000             63          7  0.625            \n",
            "hunter0007/curiosity-rover-nasa-jet-propulsion-laboratory       Curiosity Rover : NASA Jet Propulsion Laboratory🤖   513325088  2023-02-01 00:40:25.660000             29          4  0.875            \n",
            "shubhamchauhan22222/mars-landmark-detection                     Mars landmark detection                             145147872  2023-12-13 05:15:27.757000             79          6  0.7058824        \n",
            "brsdincer/hirise-map-mars-nasa-image                            HIRISE Mars Reconnaissan / NASA - IMAGE/LABEL      1875667335  2023-02-18 23:28:48.003000            230         10  0.7647059        \n",
            "thedevastator/mars-weather-data-from-2012-to-2018               Mars Weather Data                                      125044  2023-01-18 09:19:33.110000            251          6  0.9411765        \n",
            "santoshchavan/detecting-the-instance-of-a-crater-on-mars        Detecting the instance of a crater on Mars           36517448  2020-05-14 10:56:11.473000             24          1  0.3529412        \n",
            "canmichaelhucko/mars-crater-segmentation                        mars-crater-segmentation                            973283020  2024-12-27 18:34:57.510000              1          0  0.25             \n",
            "zainebboujelbene/mars-crater-segmentation                       Mars Crater Segmentation                             50530274  2022-12-15 17:39:47.723000             35          0  0.25             \n",
            "ryandpark/planetary-surface-features-change-dataset             Planetary Surface Features Change Dataset           352659396  2022-07-20 14:47:41.897000             49          6  0.625            \n",
            "thedevastator/mars-and-earth-weather-conditions                 Mars and Earth Weather Conditions                      125044  2023-01-22 09:15:12.607000            130          1  0.9411765        \n",
            "zainebboujelbene/mars-craters-dataset                           Mars Craters Dataset                               1612893405  2022-12-16 21:57:20.317000             15          0  0.25             \n",
            "mexwell/mars-weather                                            👽 Mars Weather                                         163011  2023-10-04 09:27:53.190000             86          1  0.9411765        \n",
            "sweeteyesbirb/meteoritical-bulletin-dataset                     Meteorite Landings Data                               3361441  2024-10-16 16:14:05.883000             13          0  0.9411765        \n",
            "nasaresearcher/asteroid-features-for-hazardous-prediction-nasa  Asteroid Features For Hazardous Prediction (NASA)      883274  2022-02-07 21:32:20.300000            117          2  0.5294118        \n",
            "Dataset URL: https://www.kaggle.com/datasets/lincolnzh/martianlunar-crater-detection-dataset\n",
            "License(s): Attribution 4.0 International (CC BY 4.0)\n",
            "Archive:  martianlunar-crater-detection-dataset.zip\n",
            "  inflating: /content/dataset/best.pt  \n",
            "  inflating: /content/dataset/craters/test/images/010_png.rf.fcf5e274562ee69a325f9d7a0b30767f.jpg  \n",
            "  inflating: /content/dataset/craters/test/images/015_png.rf.7d5b2091b6339c9480a171a59c52c3b9.jpg  \n",
            "  inflating: /content/dataset/craters/test/images/019_png.rf.1930cd277f9bf0e3fa57f2dcfee0385f.jpg  \n",
            "  inflating: /content/dataset/craters/test/images/04_png.rf.81a7d6cbeb9dc09e5a8ecd40e185fc92.jpg  \n",
            "  inflating: /content/dataset/craters/test/images/mars_crater--100-_jpg.rf.a2ad5867efb2d73e86d9d980ca40a9fe.jpg  \n",
            "  inflating: /content/dataset/craters/test/images/mars_crater--108-_jpg.rf.9395f473f249e064dbfea078e2519a17.jpg  \n",
            "  inflating: /content/dataset/craters/test/images/mars_crater--116-_jpg.rf.2e550a693a8800808e68848484716b95.jpg  \n",
            "  inflating: /content/dataset/craters/test/images/mars_crater--117-_jpg.rf.b412b6593d102c5f9dda7bce79bb815c.jpg  \n",
            "  inflating: /content/dataset/craters/test/images/mars_crater--12-_jpg.rf.26060e7ca4ca8781bcaf011b9b70b7db.jpg  \n",
            "  inflating: /content/dataset/craters/test/images/mars_crater--25-_jpg.rf.a06bfa24b404b064ead471f56d636e0e.jpg  \n",
            "  inflating: /content/dataset/craters/test/images/mars_crater--31-_jpg.rf.5030dfd316db1570d5f2ad396fa87d4d.jpg  \n",
            "  inflating: /content/dataset/craters/test/images/mars_crater--32-_jpg.rf.2f0302a2f32a7b05f5c55e3dac97f1ea.jpg  \n",
            "  inflating: /content/dataset/craters/test/images/mars_crater--33-_jpg.rf.baf9c7be01ba1f4b954e0e5be0560c80.jpg  \n",
            "  inflating: /content/dataset/craters/test/images/mars_crater--46-_jpg.rf.369e88a43859f97a595d2091746600f4.jpg  \n",
            "  inflating: /content/dataset/craters/test/images/mars_crater--51-_jpg.rf.2f21cd1782f9da8bb8f1ada8efa134a7.jpg  \n",
            "  inflating: /content/dataset/craters/test/images/mars_crater--60-_jpg.rf.df89b1f82e171f73f5402c29b6637aa8.jpg  \n",
            "  inflating: /content/dataset/craters/test/images/mars_crater--65-_jpg.rf.34ab64f1f6ce5a4b360ea66eae77d4b9.jpg  \n",
            "  inflating: /content/dataset/craters/test/images/mars_crater--66-_jpg.rf.85564f58f27e684c94c8a0e484cc289e.jpg  \n",
            "  inflating: /content/dataset/craters/test/images/mars_crater--97-_jpg.rf.63347c2ec963cf5c4ab641e1ba872df1.jpg  \n",
            "  inflating: /content/dataset/craters/test/labels/010_png.rf.fcf5e274562ee69a325f9d7a0b30767f.txt  \n",
            "  inflating: /content/dataset/craters/test/labels/015_png.rf.7d5b2091b6339c9480a171a59c52c3b9.txt  \n",
            "  inflating: /content/dataset/craters/test/labels/019_png.rf.1930cd277f9bf0e3fa57f2dcfee0385f.txt  \n",
            "  inflating: /content/dataset/craters/test/labels/04_png.rf.81a7d6cbeb9dc09e5a8ecd40e185fc92.txt  \n",
            "  inflating: /content/dataset/craters/test/labels/mars_crater--100-_jpg.rf.a2ad5867efb2d73e86d9d980ca40a9fe.txt  \n",
            "  inflating: /content/dataset/craters/test/labels/mars_crater--108-_jpg.rf.9395f473f249e064dbfea078e2519a17.txt  \n",
            "  inflating: /content/dataset/craters/test/labels/mars_crater--116-_jpg.rf.2e550a693a8800808e68848484716b95.txt  \n",
            "  inflating: /content/dataset/craters/test/labels/mars_crater--117-_jpg.rf.b412b6593d102c5f9dda7bce79bb815c.txt  \n",
            "  inflating: /content/dataset/craters/test/labels/mars_crater--12-_jpg.rf.26060e7ca4ca8781bcaf011b9b70b7db.txt  \n",
            "  inflating: /content/dataset/craters/test/labels/mars_crater--25-_jpg.rf.a06bfa24b404b064ead471f56d636e0e.txt  \n",
            "  inflating: /content/dataset/craters/test/labels/mars_crater--31-_jpg.rf.5030dfd316db1570d5f2ad396fa87d4d.txt  \n",
            "  inflating: /content/dataset/craters/test/labels/mars_crater--32-_jpg.rf.2f0302a2f32a7b05f5c55e3dac97f1ea.txt  \n",
            "  inflating: /content/dataset/craters/test/labels/mars_crater--33-_jpg.rf.baf9c7be01ba1f4b954e0e5be0560c80.txt  \n",
            "  inflating: /content/dataset/craters/test/labels/mars_crater--46-_jpg.rf.369e88a43859f97a595d2091746600f4.txt  \n",
            "  inflating: /content/dataset/craters/test/labels/mars_crater--51-_jpg.rf.2f21cd1782f9da8bb8f1ada8efa134a7.txt  \n",
            "  inflating: /content/dataset/craters/test/labels/mars_crater--60-_jpg.rf.df89b1f82e171f73f5402c29b6637aa8.txt  \n",
            "  inflating: /content/dataset/craters/test/labels/mars_crater--65-_jpg.rf.34ab64f1f6ce5a4b360ea66eae77d4b9.txt  \n",
            "  inflating: /content/dataset/craters/test/labels/mars_crater--66-_jpg.rf.85564f58f27e684c94c8a0e484cc289e.txt  \n",
            "  inflating: /content/dataset/craters/test/labels/mars_crater--97-_jpg.rf.63347c2ec963cf5c4ab641e1ba872df1.txt  \n",
            "  inflating: /content/dataset/craters/train/images/011_png.rf.8ac312b4898f0106d10b76952a55d237.jpg  \n",
            "  inflating: /content/dataset/craters/train/images/012_png.rf.64da6ff4c62638096ee6e5bf689706bc.jpg  \n",
            "  inflating: /content/dataset/craters/train/images/013_png.rf.ee44d5aa33fd33a1ed62ae233180f505.jpg  \n",
            "  inflating: /content/dataset/craters/train/images/016_png.rf.1973f9540ae7f672257609a8e5721ab3.jpg  \n",
            "  inflating: /content/dataset/craters/train/images/017_png.rf.1504c0d3ecbf20af6bc5114ca197a0dd.jpg  \n",
            "  inflating: /content/dataset/craters/train/images/018_png.rf.2d4eed5581681fe83830e51634befdaf.jpg  \n",
            "  inflating: /content/dataset/craters/train/images/01_png.rf.4d2ebc5ed98ad1e69d667aadbce63d53.jpg  \n",
            "  inflating: /content/dataset/craters/train/images/020_png.rf.ce87f4889d7441275135633392f98ed7.jpg  \n",
            "  inflating: /content/dataset/craters/train/images/022_png.rf.00ae4e655a2774bada1e254641482935.jpg  \n",
            "  inflating: /content/dataset/craters/train/images/02_png.rf.610687947e4c92f77e6462104ec4b924.jpg  \n",
            "  inflating: /content/dataset/craters/train/images/03_png.rf.8f7b31e14642026833b7c0dcd1832862.jpg  \n",
            "  inflating: /content/dataset/craters/train/images/05_png.rf.844343145246e51e66a345419e1862bf.jpg  \n",
            "  inflating: /content/dataset/craters/train/images/06_png.rf.aaf8c66b9e4d5e99a3dc70bae7f62c07.jpg  \n",
            "  inflating: /content/dataset/craters/train/images/07_png.rf.3fba5e95c6827aa6c4132e70f2086555.jpg  \n",
            "  inflating: /content/dataset/craters/train/images/08_png.rf.944efdd0f108140b368d7ad2c37426df.jpg  \n",
            "  inflating: /content/dataset/craters/train/images/09_png.rf.3b796e77a5f0036af4cd4413fcbe07a5.jpg  \n",
            "  inflating: /content/dataset/craters/train/images/mars_crater--0-_jpg.rf.40c1dec94c66ab07d9da8c74fa58d6f8.jpg  \n",
            "  inflating: /content/dataset/craters/train/images/mars_crater--10-_jpg.rf.585b1aa305997e3055e86fcac72a806b.jpg  \n",
            "  inflating: /content/dataset/craters/train/images/mars_crater--101-_jpg.rf.8f4eb1c77ab9e64d2fd691a6e0fcd3ec.jpg  \n",
            "  inflating: /content/dataset/craters/train/images/mars_crater--102-_jpg.rf.9cdbcc724e2e7baf5c5c17aed91c769b.jpg  \n",
            "  inflating: /content/dataset/craters/train/images/mars_crater--103-_jpg.rf.61597458910fb0eed55b415c9cbac3bf.jpg  \n",
            "  inflating: /content/dataset/craters/train/images/mars_crater--105-_jpg.rf.338dccc756e50430460dfb6f6191d1c5.jpg  \n",
            "  inflating: /content/dataset/craters/train/images/mars_crater--106-_jpg.rf.05aa3dbbbdc9651cb8c51d26c2847805.jpg  \n",
            "  inflating: /content/dataset/craters/train/images/mars_crater--109-_jpg.rf.29afc1137114a2b872f484326254e949.jpg  \n",
            "  inflating: /content/dataset/craters/train/images/mars_crater--11-_jpg.rf.9e8de286e3d84938f34bb6bf35825343.jpg  \n",
            "  inflating: /content/dataset/craters/train/images/mars_crater--110-_jpg.rf.593f6a3d9aed98e7a08955e700765222.jpg  \n",
            "  inflating: /content/dataset/craters/train/images/mars_crater--111-_jpg.rf.215f88d6bd7a6d86560754be694fc2f3.jpg  \n",
            "  inflating: /content/dataset/craters/train/images/mars_crater--113-_jpg.rf.a7713d55de03a1a7487429d414e1005c.jpg  \n",
            "  inflating: /content/dataset/craters/train/images/mars_crater--118-_jpg.rf.0a8b3fb0e1332e576901e596ad55e30a.jpg  \n",
            "  inflating: /content/dataset/craters/train/images/mars_crater--119-_jpg.rf.5cd500a3dcc977038a875b5115f9eda4.jpg  \n",
            "  inflating: /content/dataset/craters/train/images/mars_crater--120-_jpg.rf.a870131b0b5974e8351a32ade2d5f0f3.jpg  \n",
            "  inflating: /content/dataset/craters/train/images/mars_crater--14-_jpg.rf.e050bff73578e2a9ad30e339b898f839.jpg  \n",
            "  inflating: /content/dataset/craters/train/images/mars_crater--15-_jpg.rf.c669035a909b835be84fa4fc67bf3f40.jpg  \n",
            "  inflating: /content/dataset/craters/train/images/mars_crater--16-_jpg.rf.bf5f6796b4ec5d351b47efae2e866934.jpg  \n",
            "  inflating: /content/dataset/craters/train/images/mars_crater--17-_jpg.rf.c051d4c804f2fed2aa32999cc9fd0b48.jpg  \n",
            "  inflating: /content/dataset/craters/train/images/mars_crater--18-_jpg.rf.8214037c811619bbe37024a557c9251f.jpg  \n",
            "  inflating: /content/dataset/craters/train/images/mars_crater--19-_jpg.rf.a9e7485a270816a553c3d7e0c3fddd30.jpg  \n",
            "  inflating: /content/dataset/craters/train/images/mars_crater--2-_jpg.rf.a65bb7ee68968509ac0b28df75e1f251.jpg  \n",
            "  inflating: /content/dataset/craters/train/images/mars_crater--20-_jpg.rf.cb4c2603f4a62bbe96328c29cec6d68e.jpg  \n",
            "  inflating: /content/dataset/craters/train/images/mars_crater--21-_jpg.rf.63688e718106a9b061bb702a298e7a54.jpg  \n",
            "  inflating: /content/dataset/craters/train/images/mars_crater--22-_jpg.rf.3ed23daa3923c22a459593cb449a7336.jpg  \n",
            "  inflating: /content/dataset/craters/train/images/mars_crater--24-_jpg.rf.4614bb6844fda70ea8a3b4f515cb7e8f.jpg  \n",
            "  inflating: /content/dataset/craters/train/images/mars_crater--26-_jpg.rf.e34074ddcd6c44fa17b7a7689f7ddfa4.jpg  \n",
            "  inflating: /content/dataset/craters/train/images/mars_crater--27-_jpg.rf.158fc0c6a694bba2f0afa44fd76a7f5a.jpg  \n",
            "  inflating: /content/dataset/craters/train/images/mars_crater--3-_jpg.rf.17bb27df5c5e6a501f790342675bc145.jpg  \n",
            "  inflating: /content/dataset/craters/train/images/mars_crater--30-_jpg.rf.0fb68bf5aece1859bc5f080e66b4fef1.jpg  \n",
            "  inflating: /content/dataset/craters/train/images/mars_crater--34-_jpg.rf.5617051b3d6a801330f8d4f7df9e3239.jpg  \n",
            "  inflating: /content/dataset/craters/train/images/mars_crater--35-_jpg.rf.826bc4b2a3a69c48144834f40d92439f.jpg  \n",
            "  inflating: /content/dataset/craters/train/images/mars_crater--36-_jpg.rf.0100a780ad4217b29c2dc9b46deec040.jpg  \n",
            "  inflating: /content/dataset/craters/train/images/mars_crater--37-_jpg.rf.c2a35d9de333416eb4d6d8f0d6b3310a.jpg  \n",
            "  inflating: /content/dataset/craters/train/images/mars_crater--38-_jpg.rf.e6f3636efb075ba61dafa478e6b21de2.jpg  \n",
            "  inflating: /content/dataset/craters/train/images/mars_crater--39-_jpg.rf.dbcaca888781a42f7bb3ce2c922da228.jpg  \n",
            "  inflating: /content/dataset/craters/train/images/mars_crater--4-_jpg.rf.b31f215c27d917bdb7c7c545db2bc36b.jpg  \n",
            "  inflating: /content/dataset/craters/train/images/mars_crater--41-_jpg.rf.5b367c681ccf0dfa9c5fddf287926d83.jpg  \n",
            "  inflating: /content/dataset/craters/train/images/mars_crater--42-_jpg.rf.0cea1f9d9cf45fb141abf4e9aaae4c84.jpg  \n",
            "  inflating: /content/dataset/craters/train/images/mars_crater--43-_jpg.rf.27ea7a65603205e491bc439c1d654cf4.jpg  \n",
            "  inflating: /content/dataset/craters/train/images/mars_crater--44-_jpg.rf.627a604f51a4479d1f1660c5cf2af5c4.jpg  \n",
            "  inflating: /content/dataset/craters/train/images/mars_crater--45-_jpg.rf.d69fa5e159ad8e5fe17b96deaba99c18.jpg  \n",
            "  inflating: /content/dataset/craters/train/images/mars_crater--48-_jpg.rf.cc5528a8dcf4a11085a0a01d5c9084bc.jpg  \n",
            "  inflating: /content/dataset/craters/train/images/mars_crater--49-_jpg.rf.5ea4703986c80bcfa03f0f99e4067c6f.jpg  \n",
            "  inflating: /content/dataset/craters/train/images/mars_crater--5-_jpg.rf.6acb650edc64d6e1a02a0eef00e95113.jpg  \n",
            "  inflating: /content/dataset/craters/train/images/mars_crater--50-_jpg.rf.02be16d199897982df8e6ea8f3e5818f.jpg  \n",
            "  inflating: /content/dataset/craters/train/images/mars_crater--52-_jpg.rf.1a227f21c518775052f847053022cd86.jpg  \n",
            "  inflating: /content/dataset/craters/train/images/mars_crater--53-_jpg.rf.20acc76fad4fecd456d4b0e77c9bbbb1.jpg  \n",
            "  inflating: /content/dataset/craters/train/images/mars_crater--54-_jpg.rf.2313c9f439999313bfb527534bbdc501.jpg  \n",
            "  inflating: /content/dataset/craters/train/images/mars_crater--55-_jpg.rf.452ea46e23156b2c86433eb9054b1a6a.jpg  \n",
            "  inflating: /content/dataset/craters/train/images/mars_crater--56-_jpg.rf.6f0dcbff4ea66014aef178b840d29238.jpg  \n",
            "  inflating: /content/dataset/craters/train/images/mars_crater--57-_jpg.rf.a783aaeaf00ae5d57bec64438050285f.jpg  \n",
            "  inflating: /content/dataset/craters/train/images/mars_crater--58-_jpg.rf.d668b2f63bd183cb629754db3ff6cf1f.jpg  \n",
            "  inflating: /content/dataset/craters/train/images/mars_crater--59-_jpg.rf.4f609e19d4f7f9987f696183edd87e99.jpg  \n",
            "  inflating: /content/dataset/craters/train/images/mars_crater--6-_jpg.rf.ebff635e74e807f0377c656009482d1c.jpg  \n",
            "  inflating: /content/dataset/craters/train/images/mars_crater--61-_jpg.rf.1398b749af6c18cf177cc97396129bd0.jpg  \n",
            "  inflating: /content/dataset/craters/train/images/mars_crater--62-_jpg.rf.18dd7779b62fb78d5f07060fec32079d.jpg  \n",
            "  inflating: /content/dataset/craters/train/images/mars_crater--68-_jpg.rf.e503921bd751aed3cfd662cda03ab6b6.jpg  \n",
            "  inflating: /content/dataset/craters/train/images/mars_crater--69-_jpg.rf.8677e1c58b60bd19c197032d3e749cda.jpg  \n",
            "  inflating: /content/dataset/craters/train/images/mars_crater--7-_jpg.rf.84b2a78c125aa0230712626eb381a2b4.jpg  \n",
            "  inflating: /content/dataset/craters/train/images/mars_crater--70-_jpg.rf.30c918cda3fcb18a9ff9ce047e0a93a0.jpg  \n",
            "  inflating: /content/dataset/craters/train/images/mars_crater--71-_jpg.rf.3370d6bdc02cbe6643f7509228f2ee10.jpg  \n",
            "  inflating: /content/dataset/craters/train/images/mars_crater--74-_jpg.rf.259a2b0955c98b2b468d63917ae13796.jpg  \n",
            "  inflating: /content/dataset/craters/train/images/mars_crater--75-_jpg.rf.210df1cf8ebc1b962b63621720ecf926.jpg  \n",
            "  inflating: /content/dataset/craters/train/images/mars_crater--76-_jpg.rf.050c14a337ce70de3519fe6049640831.jpg  \n",
            "  inflating: /content/dataset/craters/train/images/mars_crater--77-_jpg.rf.64732a16676a6c3222f67571cf1d6618.jpg  \n",
            "  inflating: /content/dataset/craters/train/images/mars_crater--78-_jpg.rf.d960fe84ae55c6b91be086d8e8a8ed32.jpg  \n",
            "  inflating: /content/dataset/craters/train/images/mars_crater--8-_jpg.rf.85af0fa193ad2d5b0087dc48ec7341c6.jpg  \n",
            "  inflating: /content/dataset/craters/train/images/mars_crater--80-_jpg.rf.55cff0d5b6e2587b15ba97e5f6a3a5f5.jpg  \n",
            "  inflating: /content/dataset/craters/train/images/mars_crater--81-_jpg.rf.147703ba93a36a6a753992752f0a1789.jpg  \n",
            "  inflating: /content/dataset/craters/train/images/mars_crater--82-_jpg.rf.c3ba3759df63259b6ba3df175475d3ce.jpg  \n",
            "  inflating: /content/dataset/craters/train/images/mars_crater--83-_jpg.rf.3a468d2f7715d1cf73d5a31d385e0c34.jpg  \n",
            "  inflating: /content/dataset/craters/train/images/mars_crater--84-_jpg.rf.dcfe6c285ac885441a1c95d818b188e1.jpg  \n",
            "  inflating: /content/dataset/craters/train/images/mars_crater--85-_jpg.rf.344998b46a84deb2b8802cdae98c5282.jpg  \n",
            "  inflating: /content/dataset/craters/train/images/mars_crater--86-_jpg.rf.81699898067809e7560109fb72a56670.jpg  \n",
            "  inflating: /content/dataset/craters/train/images/mars_crater--87-_jpg.rf.649d603d5617ce66e4a9420539fbfebb.jpg  \n",
            "  inflating: /content/dataset/craters/train/images/mars_crater--88-_jpg.rf.2f3b851dec48a94bfccc6519b4a45859.jpg  \n",
            "  inflating: /content/dataset/craters/train/images/mars_crater--9-_jpg.rf.64378015a647ef92689e24ea103644cd.jpg  \n",
            "  inflating: /content/dataset/craters/train/images/mars_crater--93-_jpg.rf.7426ac666cec74a8b0bc15d550b8699b.jpg  \n",
            "  inflating: /content/dataset/craters/train/images/mars_crater--94-_jpg.rf.a1d59711147871b0498b03c2042c7b56.jpg  \n",
            "  inflating: /content/dataset/craters/train/images/mars_crater--96-_jpg.rf.6dca8e5264f81785f8d718f92f9e4475.jpg  \n",
            "  inflating: /content/dataset/craters/train/images/mars_crater--99-_jpg.rf.09682f4dbe2f52ffe890061454306153.jpg  \n",
            "  inflating: /content/dataset/craters/train/labels.cache  \n",
            "  inflating: /content/dataset/craters/train/labels/011_png.rf.8ac312b4898f0106d10b76952a55d237.txt  \n",
            "  inflating: /content/dataset/craters/train/labels/012_png.rf.64da6ff4c62638096ee6e5bf689706bc.txt  \n",
            "  inflating: /content/dataset/craters/train/labels/013_png.rf.ee44d5aa33fd33a1ed62ae233180f505.txt  \n",
            "  inflating: /content/dataset/craters/train/labels/016_png.rf.1973f9540ae7f672257609a8e5721ab3.txt  \n",
            "  inflating: /content/dataset/craters/train/labels/017_png.rf.1504c0d3ecbf20af6bc5114ca197a0dd.txt  \n",
            "  inflating: /content/dataset/craters/train/labels/018_png.rf.2d4eed5581681fe83830e51634befdaf.txt  \n",
            "  inflating: /content/dataset/craters/train/labels/01_png.rf.4d2ebc5ed98ad1e69d667aadbce63d53.txt  \n",
            "  inflating: /content/dataset/craters/train/labels/020_png.rf.ce87f4889d7441275135633392f98ed7.txt  \n",
            "  inflating: /content/dataset/craters/train/labels/022_png.rf.00ae4e655a2774bada1e254641482935.txt  \n",
            "  inflating: /content/dataset/craters/train/labels/02_png.rf.610687947e4c92f77e6462104ec4b924.txt  \n",
            "  inflating: /content/dataset/craters/train/labels/03_png.rf.8f7b31e14642026833b7c0dcd1832862.txt  \n",
            "  inflating: /content/dataset/craters/train/labels/05_png.rf.844343145246e51e66a345419e1862bf.txt  \n",
            "  inflating: /content/dataset/craters/train/labels/06_png.rf.aaf8c66b9e4d5e99a3dc70bae7f62c07.txt  \n",
            "  inflating: /content/dataset/craters/train/labels/07_png.rf.3fba5e95c6827aa6c4132e70f2086555.txt  \n",
            "  inflating: /content/dataset/craters/train/labels/08_png.rf.944efdd0f108140b368d7ad2c37426df.txt  \n",
            "  inflating: /content/dataset/craters/train/labels/09_png.rf.3b796e77a5f0036af4cd4413fcbe07a5.txt  \n",
            "  inflating: /content/dataset/craters/train/labels/mars_crater--0-_jpg.rf.40c1dec94c66ab07d9da8c74fa58d6f8.txt  \n",
            "  inflating: /content/dataset/craters/train/labels/mars_crater--10-_jpg.rf.585b1aa305997e3055e86fcac72a806b.txt  \n",
            "  inflating: /content/dataset/craters/train/labels/mars_crater--101-_jpg.rf.8f4eb1c77ab9e64d2fd691a6e0fcd3ec.txt  \n",
            "  inflating: /content/dataset/craters/train/labels/mars_crater--102-_jpg.rf.9cdbcc724e2e7baf5c5c17aed91c769b.txt  \n",
            "  inflating: /content/dataset/craters/train/labels/mars_crater--103-_jpg.rf.61597458910fb0eed55b415c9cbac3bf.txt  \n",
            "  inflating: /content/dataset/craters/train/labels/mars_crater--105-_jpg.rf.338dccc756e50430460dfb6f6191d1c5.txt  \n",
            "  inflating: /content/dataset/craters/train/labels/mars_crater--106-_jpg.rf.05aa3dbbbdc9651cb8c51d26c2847805.txt  \n",
            "  inflating: /content/dataset/craters/train/labels/mars_crater--109-_jpg.rf.29afc1137114a2b872f484326254e949.txt  \n",
            "  inflating: /content/dataset/craters/train/labels/mars_crater--11-_jpg.rf.9e8de286e3d84938f34bb6bf35825343.txt  \n",
            "  inflating: /content/dataset/craters/train/labels/mars_crater--110-_jpg.rf.593f6a3d9aed98e7a08955e700765222.txt  \n",
            "  inflating: /content/dataset/craters/train/labels/mars_crater--111-_jpg.rf.215f88d6bd7a6d86560754be694fc2f3.txt  \n",
            "  inflating: /content/dataset/craters/train/labels/mars_crater--113-_jpg.rf.a7713d55de03a1a7487429d414e1005c.txt  \n",
            "  inflating: /content/dataset/craters/train/labels/mars_crater--118-_jpg.rf.0a8b3fb0e1332e576901e596ad55e30a.txt  \n",
            "  inflating: /content/dataset/craters/train/labels/mars_crater--119-_jpg.rf.5cd500a3dcc977038a875b5115f9eda4.txt  \n",
            "  inflating: /content/dataset/craters/train/labels/mars_crater--120-_jpg.rf.a870131b0b5974e8351a32ade2d5f0f3.txt  \n",
            "  inflating: /content/dataset/craters/train/labels/mars_crater--14-_jpg.rf.e050bff73578e2a9ad30e339b898f839.txt  \n",
            "  inflating: /content/dataset/craters/train/labels/mars_crater--15-_jpg.rf.c669035a909b835be84fa4fc67bf3f40.txt  \n",
            "  inflating: /content/dataset/craters/train/labels/mars_crater--16-_jpg.rf.bf5f6796b4ec5d351b47efae2e866934.txt  \n",
            "  inflating: /content/dataset/craters/train/labels/mars_crater--17-_jpg.rf.c051d4c804f2fed2aa32999cc9fd0b48.txt  \n",
            "  inflating: /content/dataset/craters/train/labels/mars_crater--18-_jpg.rf.8214037c811619bbe37024a557c9251f.txt  \n",
            "  inflating: /content/dataset/craters/train/labels/mars_crater--19-_jpg.rf.a9e7485a270816a553c3d7e0c3fddd30.txt  \n",
            "  inflating: /content/dataset/craters/train/labels/mars_crater--2-_jpg.rf.a65bb7ee68968509ac0b28df75e1f251.txt  \n",
            "  inflating: /content/dataset/craters/train/labels/mars_crater--20-_jpg.rf.cb4c2603f4a62bbe96328c29cec6d68e.txt  \n",
            "  inflating: /content/dataset/craters/train/labels/mars_crater--21-_jpg.rf.63688e718106a9b061bb702a298e7a54.txt  \n",
            "  inflating: /content/dataset/craters/train/labels/mars_crater--22-_jpg.rf.3ed23daa3923c22a459593cb449a7336.txt  \n",
            "  inflating: /content/dataset/craters/train/labels/mars_crater--24-_jpg.rf.4614bb6844fda70ea8a3b4f515cb7e8f.txt  \n",
            "  inflating: /content/dataset/craters/train/labels/mars_crater--26-_jpg.rf.e34074ddcd6c44fa17b7a7689f7ddfa4.txt  \n",
            "  inflating: /content/dataset/craters/train/labels/mars_crater--27-_jpg.rf.158fc0c6a694bba2f0afa44fd76a7f5a.txt  \n",
            "  inflating: /content/dataset/craters/train/labels/mars_crater--3-_jpg.rf.17bb27df5c5e6a501f790342675bc145.txt  \n",
            "  inflating: /content/dataset/craters/train/labels/mars_crater--30-_jpg.rf.0fb68bf5aece1859bc5f080e66b4fef1.txt  \n",
            "  inflating: /content/dataset/craters/train/labels/mars_crater--34-_jpg.rf.5617051b3d6a801330f8d4f7df9e3239.txt  \n",
            "  inflating: /content/dataset/craters/train/labels/mars_crater--35-_jpg.rf.826bc4b2a3a69c48144834f40d92439f.txt  \n",
            "  inflating: /content/dataset/craters/train/labels/mars_crater--36-_jpg.rf.0100a780ad4217b29c2dc9b46deec040.txt  \n",
            "  inflating: /content/dataset/craters/train/labels/mars_crater--37-_jpg.rf.c2a35d9de333416eb4d6d8f0d6b3310a.txt  \n",
            "  inflating: /content/dataset/craters/train/labels/mars_crater--38-_jpg.rf.e6f3636efb075ba61dafa478e6b21de2.txt  \n",
            "  inflating: /content/dataset/craters/train/labels/mars_crater--39-_jpg.rf.dbcaca888781a42f7bb3ce2c922da228.txt  \n",
            "  inflating: /content/dataset/craters/train/labels/mars_crater--4-_jpg.rf.b31f215c27d917bdb7c7c545db2bc36b.txt  \n",
            "  inflating: /content/dataset/craters/train/labels/mars_crater--41-_jpg.rf.5b367c681ccf0dfa9c5fddf287926d83.txt  \n",
            "  inflating: /content/dataset/craters/train/labels/mars_crater--42-_jpg.rf.0cea1f9d9cf45fb141abf4e9aaae4c84.txt  \n",
            "  inflating: /content/dataset/craters/train/labels/mars_crater--43-_jpg.rf.27ea7a65603205e491bc439c1d654cf4.txt  \n",
            "  inflating: /content/dataset/craters/train/labels/mars_crater--44-_jpg.rf.627a604f51a4479d1f1660c5cf2af5c4.txt  \n",
            "  inflating: /content/dataset/craters/train/labels/mars_crater--45-_jpg.rf.d69fa5e159ad8e5fe17b96deaba99c18.txt  \n",
            "  inflating: /content/dataset/craters/train/labels/mars_crater--48-_jpg.rf.cc5528a8dcf4a11085a0a01d5c9084bc.txt  \n",
            "  inflating: /content/dataset/craters/train/labels/mars_crater--49-_jpg.rf.5ea4703986c80bcfa03f0f99e4067c6f.txt  \n",
            "  inflating: /content/dataset/craters/train/labels/mars_crater--5-_jpg.rf.6acb650edc64d6e1a02a0eef00e95113.txt  \n",
            "  inflating: /content/dataset/craters/train/labels/mars_crater--50-_jpg.rf.02be16d199897982df8e6ea8f3e5818f.txt  \n",
            "  inflating: /content/dataset/craters/train/labels/mars_crater--52-_jpg.rf.1a227f21c518775052f847053022cd86.txt  \n",
            "  inflating: /content/dataset/craters/train/labels/mars_crater--53-_jpg.rf.20acc76fad4fecd456d4b0e77c9bbbb1.txt  \n",
            "  inflating: /content/dataset/craters/train/labels/mars_crater--54-_jpg.rf.2313c9f439999313bfb527534bbdc501.txt  \n",
            "  inflating: /content/dataset/craters/train/labels/mars_crater--55-_jpg.rf.452ea46e23156b2c86433eb9054b1a6a.txt  \n",
            "  inflating: /content/dataset/craters/train/labels/mars_crater--56-_jpg.rf.6f0dcbff4ea66014aef178b840d29238.txt  \n",
            "  inflating: /content/dataset/craters/train/labels/mars_crater--57-_jpg.rf.a783aaeaf00ae5d57bec64438050285f.txt  \n",
            "  inflating: /content/dataset/craters/train/labels/mars_crater--58-_jpg.rf.d668b2f63bd183cb629754db3ff6cf1f.txt  \n",
            "  inflating: /content/dataset/craters/train/labels/mars_crater--59-_jpg.rf.4f609e19d4f7f9987f696183edd87e99.txt  \n",
            "  inflating: /content/dataset/craters/train/labels/mars_crater--6-_jpg.rf.ebff635e74e807f0377c656009482d1c.txt  \n",
            "  inflating: /content/dataset/craters/train/labels/mars_crater--61-_jpg.rf.1398b749af6c18cf177cc97396129bd0.txt  \n",
            "  inflating: /content/dataset/craters/train/labels/mars_crater--62-_jpg.rf.18dd7779b62fb78d5f07060fec32079d.txt  \n",
            "  inflating: /content/dataset/craters/train/labels/mars_crater--68-_jpg.rf.e503921bd751aed3cfd662cda03ab6b6.txt  \n",
            "  inflating: /content/dataset/craters/train/labels/mars_crater--69-_jpg.rf.8677e1c58b60bd19c197032d3e749cda.txt  \n",
            "  inflating: /content/dataset/craters/train/labels/mars_crater--7-_jpg.rf.84b2a78c125aa0230712626eb381a2b4.txt  \n",
            "  inflating: /content/dataset/craters/train/labels/mars_crater--70-_jpg.rf.30c918cda3fcb18a9ff9ce047e0a93a0.txt  \n",
            "  inflating: /content/dataset/craters/train/labels/mars_crater--71-_jpg.rf.3370d6bdc02cbe6643f7509228f2ee10.txt  \n",
            "  inflating: /content/dataset/craters/train/labels/mars_crater--74-_jpg.rf.259a2b0955c98b2b468d63917ae13796.txt  \n",
            "  inflating: /content/dataset/craters/train/labels/mars_crater--75-_jpg.rf.210df1cf8ebc1b962b63621720ecf926.txt  \n",
            "  inflating: /content/dataset/craters/train/labels/mars_crater--76-_jpg.rf.050c14a337ce70de3519fe6049640831.txt  \n",
            "  inflating: /content/dataset/craters/train/labels/mars_crater--77-_jpg.rf.64732a16676a6c3222f67571cf1d6618.txt  \n",
            "  inflating: /content/dataset/craters/train/labels/mars_crater--78-_jpg.rf.d960fe84ae55c6b91be086d8e8a8ed32.txt  \n",
            "  inflating: /content/dataset/craters/train/labels/mars_crater--8-_jpg.rf.85af0fa193ad2d5b0087dc48ec7341c6.txt  \n",
            "  inflating: /content/dataset/craters/train/labels/mars_crater--80-_jpg.rf.55cff0d5b6e2587b15ba97e5f6a3a5f5.txt  \n",
            "  inflating: /content/dataset/craters/train/labels/mars_crater--81-_jpg.rf.147703ba93a36a6a753992752f0a1789.txt  \n",
            "  inflating: /content/dataset/craters/train/labels/mars_crater--82-_jpg.rf.c3ba3759df63259b6ba3df175475d3ce.txt  \n",
            "  inflating: /content/dataset/craters/train/labels/mars_crater--83-_jpg.rf.3a468d2f7715d1cf73d5a31d385e0c34.txt  \n",
            "  inflating: /content/dataset/craters/train/labels/mars_crater--84-_jpg.rf.dcfe6c285ac885441a1c95d818b188e1.txt  \n",
            "  inflating: /content/dataset/craters/train/labels/mars_crater--85-_jpg.rf.344998b46a84deb2b8802cdae98c5282.txt  \n",
            "  inflating: /content/dataset/craters/train/labels/mars_crater--86-_jpg.rf.81699898067809e7560109fb72a56670.txt  \n",
            "  inflating: /content/dataset/craters/train/labels/mars_crater--87-_jpg.rf.649d603d5617ce66e4a9420539fbfebb.txt  \n",
            "  inflating: /content/dataset/craters/train/labels/mars_crater--88-_jpg.rf.2f3b851dec48a94bfccc6519b4a45859.txt  \n",
            "  inflating: /content/dataset/craters/train/labels/mars_crater--9-_jpg.rf.64378015a647ef92689e24ea103644cd.txt  \n",
            "  inflating: /content/dataset/craters/train/labels/mars_crater--93-_jpg.rf.7426ac666cec74a8b0bc15d550b8699b.txt  \n",
            "  inflating: /content/dataset/craters/train/labels/mars_crater--94-_jpg.rf.a1d59711147871b0498b03c2042c7b56.txt  \n",
            "  inflating: /content/dataset/craters/train/labels/mars_crater--96-_jpg.rf.6dca8e5264f81785f8d718f92f9e4475.txt  \n",
            "  inflating: /content/dataset/craters/train/labels/mars_crater--99-_jpg.rf.09682f4dbe2f52ffe890061454306153.txt  \n",
            "  inflating: /content/dataset/craters/valid/images/014_png.rf.6b86c8afeb3ebca92872fd966d076adc.jpg  \n",
            "  inflating: /content/dataset/craters/valid/images/021_png.rf.575e0f1cb87a2cc439172de15816c2cc.jpg  \n",
            "  inflating: /content/dataset/craters/valid/images/023_png.rf.0a3106bdcc8e64bba283f961db77c9ec.jpg  \n",
            "  inflating: /content/dataset/craters/valid/images/024_png.rf.be24000681f4f356e2a027fb7ca0c552.jpg  \n",
            "  inflating: /content/dataset/craters/valid/images/mars_crater--1-_png.rf.f1b399f95708fd0ce520f23c9944ed44.jpg  \n",
            "  inflating: /content/dataset/craters/valid/images/mars_crater--104-_jpg.rf.2ff6036b976ac6bbba612dd48f144d4d.jpg  \n",
            "  inflating: /content/dataset/craters/valid/images/mars_crater--107-_jpg.rf.eb0f7061ed8c8af8be0e8af6b97226b0.jpg  \n",
            "  inflating: /content/dataset/craters/valid/images/mars_crater--115-_jpg.rf.8b1bf8c37395c894e88e543ccb4cc42f.jpg  \n",
            "  inflating: /content/dataset/craters/valid/images/mars_crater--13-_jpg.rf.f6fc01f728dfec8b32ad59d696a1a08d.jpg  \n",
            "  inflating: /content/dataset/craters/valid/images/mars_crater--2-_png.rf.08b565c861e9ac03e3cd1f9b0a6cddbe.jpg  \n",
            "  inflating: /content/dataset/craters/valid/images/mars_crater--23-_jpg.rf.ab2b0f47006c0c17260c312215dcfb88.jpg  \n",
            "  inflating: /content/dataset/craters/valid/images/mars_crater--28-_jpg.rf.8a4c9991d6739123bd0cbf018ea6f50d.jpg  \n",
            "  inflating: /content/dataset/craters/valid/images/mars_crater--29-_jpg.rf.719ff6d6c1aafd71147c173f7d224018.jpg  \n",
            "  inflating: /content/dataset/craters/valid/images/mars_crater--40-_jpg.rf.29e123c14a95b2e0fcdc93e9e8cff902.jpg  \n",
            "  inflating: /content/dataset/craters/valid/images/mars_crater--47-_jpg.rf.63eed086b1d39dc52405a398229dc586.jpg  \n",
            "  inflating: /content/dataset/craters/valid/images/mars_crater--63-_jpg.rf.ab0440022651f886c68744a55eb215d9.jpg  \n",
            "  inflating: /content/dataset/craters/valid/images/mars_crater--64-_jpg.rf.fd0838698f86dd546cdfcfea987b98b2.jpg  \n",
            "  inflating: /content/dataset/craters/valid/images/mars_crater--67-_jpg.rf.cf856f9fde7eb10f7f1524ebb0024502.jpg  \n",
            "  inflating: /content/dataset/craters/valid/images/mars_crater--72-_jpg.rf.4e01fbde7746b57082310e11b1ff03e2.jpg  \n",
            "  inflating: /content/dataset/craters/valid/images/mars_crater--73-_jpg.rf.91d7dc2cc9ae2d5dee41207d8992c3b3.jpg  \n",
            "  inflating: /content/dataset/craters/valid/images/mars_crater--79-_jpg.rf.984de20cb547cf4ee0324ebbf3fb7a88.jpg  \n",
            "  inflating: /content/dataset/craters/valid/images/mars_crater--89-_jpg.rf.a57ed45379b066a537e1203ac9827a27.jpg  \n",
            "  inflating: /content/dataset/craters/valid/images/mars_crater--91-_jpg.rf.9203caee622cf671580b91536e36e7e2.jpg  \n",
            "  inflating: /content/dataset/craters/valid/images/mars_crater--92-_jpg.rf.608e45488b76786c69755a901c1b73c9.jpg  \n",
            "  inflating: /content/dataset/craters/valid/images/mars_crater--95-_jpg.rf.671f7041e41a37f7faec12f3e9eb1d7d.jpg  \n",
            "  inflating: /content/dataset/craters/valid/images/mars_crater--98-_jpg.rf.441572398e83f5d7769a8e57248c9248.jpg  \n",
            "  inflating: /content/dataset/craters/valid/labels.cache  \n",
            "  inflating: /content/dataset/craters/valid/labels/014_png.rf.6b86c8afeb3ebca92872fd966d076adc.txt  \n",
            "  inflating: /content/dataset/craters/valid/labels/021_png.rf.575e0f1cb87a2cc439172de15816c2cc.txt  \n",
            "  inflating: /content/dataset/craters/valid/labels/023_png.rf.0a3106bdcc8e64bba283f961db77c9ec.txt  \n",
            "  inflating: /content/dataset/craters/valid/labels/024_png.rf.be24000681f4f356e2a027fb7ca0c552.txt  \n",
            "  inflating: /content/dataset/craters/valid/labels/mars_crater--1-_png.rf.f1b399f95708fd0ce520f23c9944ed44.txt  \n",
            "  inflating: /content/dataset/craters/valid/labels/mars_crater--104-_jpg.rf.2ff6036b976ac6bbba612dd48f144d4d.txt  \n",
            "  inflating: /content/dataset/craters/valid/labels/mars_crater--107-_jpg.rf.eb0f7061ed8c8af8be0e8af6b97226b0.txt  \n",
            "  inflating: /content/dataset/craters/valid/labels/mars_crater--115-_jpg.rf.8b1bf8c37395c894e88e543ccb4cc42f.txt  \n",
            "  inflating: /content/dataset/craters/valid/labels/mars_crater--13-_jpg.rf.f6fc01f728dfec8b32ad59d696a1a08d.txt  \n",
            "  inflating: /content/dataset/craters/valid/labels/mars_crater--2-_png.rf.08b565c861e9ac03e3cd1f9b0a6cddbe.txt  \n",
            "  inflating: /content/dataset/craters/valid/labels/mars_crater--23-_jpg.rf.ab2b0f47006c0c17260c312215dcfb88.txt  \n",
            "  inflating: /content/dataset/craters/valid/labels/mars_crater--28-_jpg.rf.8a4c9991d6739123bd0cbf018ea6f50d.txt  \n",
            "  inflating: /content/dataset/craters/valid/labels/mars_crater--29-_jpg.rf.719ff6d6c1aafd71147c173f7d224018.txt  \n",
            "  inflating: /content/dataset/craters/valid/labels/mars_crater--40-_jpg.rf.29e123c14a95b2e0fcdc93e9e8cff902.txt  \n",
            "  inflating: /content/dataset/craters/valid/labels/mars_crater--47-_jpg.rf.63eed086b1d39dc52405a398229dc586.txt  \n",
            "  inflating: /content/dataset/craters/valid/labels/mars_crater--63-_jpg.rf.ab0440022651f886c68744a55eb215d9.txt  \n",
            "  inflating: /content/dataset/craters/valid/labels/mars_crater--64-_jpg.rf.fd0838698f86dd546cdfcfea987b98b2.txt  \n",
            "  inflating: /content/dataset/craters/valid/labels/mars_crater--67-_jpg.rf.cf856f9fde7eb10f7f1524ebb0024502.txt  \n",
            "  inflating: /content/dataset/craters/valid/labels/mars_crater--72-_jpg.rf.4e01fbde7746b57082310e11b1ff03e2.txt  \n",
            "  inflating: /content/dataset/craters/valid/labels/mars_crater--73-_jpg.rf.91d7dc2cc9ae2d5dee41207d8992c3b3.txt  \n",
            "  inflating: /content/dataset/craters/valid/labels/mars_crater--79-_jpg.rf.984de20cb547cf4ee0324ebbf3fb7a88.txt  \n",
            "  inflating: /content/dataset/craters/valid/labels/mars_crater--89-_jpg.rf.a57ed45379b066a537e1203ac9827a27.txt  \n",
            "  inflating: /content/dataset/craters/valid/labels/mars_crater--91-_jpg.rf.9203caee622cf671580b91536e36e7e2.txt  \n",
            "  inflating: /content/dataset/craters/valid/labels/mars_crater--92-_jpg.rf.608e45488b76786c69755a901c1b73c9.txt  \n",
            "  inflating: /content/dataset/craters/valid/labels/mars_crater--95-_jpg.rf.671f7041e41a37f7faec12f3e9eb1d7d.txt  \n",
            "  inflating: /content/dataset/craters/valid/labels/mars_crater--98-_jpg.rf.441572398e83f5d7769a8e57248c9248.txt  \n"
          ]
        }
      ]
    },
    {
      "cell_type": "code",
      "source": [
        "import os\n",
        "import shutil\n",
        "from sklearn.model_selection import train_test_split\n",
        "import glob\n",
        "\n",
        "# Create YOLOv8 dataset structure\n",
        "!mkdir -p /content/yolo_dataset/train/images\n",
        "!mkdir -p /content/yolo_dataset/train/labels\n",
        "!mkdir -p /content/yolo_dataset/val/images\n",
        "!mkdir -p /content/yolo_dataset/val/labels\n",
        "\n",
        "# Check dataset structure\n",
        "!ls -la /content/dataset\n",
        "\n",
        "# Find all image files\n",
        "image_files = []\n",
        "for ext in ['*.jpg', '*.png', '*.jpeg']:\n",
        "    image_files.extend(glob.glob(f'/content/dataset/**/{ext}', recursive=True))\n",
        "\n",
        "print(f\"Found {len(image_files)} image files\")\n",
        "\n",
        "if len(image_files) == 0:\n",
        "    print(\"No images found! Please check dataset structure.\")\n",
        "    # Display the dataset structure\n",
        "    !find /content/dataset -type f | sort\n",
        "else:\n",
        "    # Split into train/val (80/20)\n",
        "    train_files, val_files = train_test_split(image_files, test_size=0.2, random_state=42)\n",
        "\n",
        "    print(f\"Training images: {len(train_files)}\")\n",
        "    print(f\"Validation images: {len(val_files)}\")\n",
        "\n",
        "    # Function to find label file for an image\n",
        "    def find_label_file(img_path):\n",
        "        base_name = os.path.splitext(os.path.basename(img_path))[0]\n",
        "        # Try common label locations\n",
        "        possible_paths = [\n",
        "            os.path.join(os.path.dirname(img_path).replace('images', 'labels'), f\"{base_name}.txt\"),\n",
        "            os.path.join(os.path.dirname(os.path.dirname(img_path)), 'labels', f\"{base_name}.txt\"),\n",
        "            os.path.join('/content/dataset/labels', f\"{base_name}.txt\")\n",
        "        ]\n",
        "\n",
        "        for path in possible_paths:\n",
        "            if os.path.exists(path):\n",
        "                return path\n",
        "        return None\n",
        "\n",
        "    # Copy files to YOLO structure\n",
        "    for idx, img_path in enumerate(train_files):\n",
        "        # Get filename\n",
        "        filename = os.path.basename(img_path)\n",
        "\n",
        "        # Copy image\n",
        "        dest_path = f'/content/yolo_dataset/train/images/{filename}'\n",
        "        shutil.copy(img_path, dest_path)\n",
        "\n",
        "        # Find and copy label if exists\n",
        "        label_path = find_label_file(img_path)\n",
        "        if label_path:\n",
        "            label_name = os.path.basename(label_path)\n",
        "            shutil.copy(label_path, f'/content/yolo_dataset/train/labels/{label_name}')\n",
        "\n",
        "        # Progress update\n",
        "        if idx % 100 == 0:\n",
        "            print(f\"Processed {idx}/{len(train_files)} training images\")\n",
        "\n",
        "    for idx, img_path in enumerate(val_files):\n",
        "        # Get filename\n",
        "        filename = os.path.basename(img_path)\n",
        "\n",
        "        # Copy image\n",
        "        dest_path = f'/content/yolo_dataset/val/images/{filename}'\n",
        "        shutil.copy(img_path, dest_path)\n",
        "\n",
        "        # Find and copy label if exists\n",
        "        label_path = find_label_file(img_path)\n",
        "        if label_path:\n",
        "            label_name = os.path.basename(label_path)\n",
        "            shutil.copy(label_path, f'/content/yolo_dataset/val/labels/{label_name}')\n",
        "\n",
        "        # Progress update\n",
        "        if idx % 50 == 0:\n",
        "            print(f\"Processed {idx}/{len(val_files)} validation images\")\n",
        "\n",
        "    # Count files in each directory\n",
        "    print(\"\\nDataset Structure:\")\n",
        "    print(f\"Train Images: {len(os.listdir('/content/yolo_dataset/train/images'))}\")\n",
        "    print(f\"Train Labels: {len(os.listdir('/content/yolo_dataset/train/labels'))}\")\n",
        "    print(f\"Val Images: {len(os.listdir('/content/yolo_dataset/val/images'))}\")\n",
        "    print(f\"Val Labels: {len(os.listdir('/content/yolo_dataset/val/labels'))}\")"
      ],
      "metadata": {
        "colab": {
          "base_uri": "https://localhost:8080/"
        },
        "id": "oFWFS9DtQ7NO",
        "outputId": "a78e0172-d38a-4cd5-cf55-722f89d65701"
      },
      "execution_count": 3,
      "outputs": [
        {
          "output_type": "stream",
          "name": "stdout",
          "text": [
            "total 69520\n",
            "drwxr-xr-x 3 root root     4096 Apr 18 07:35 .\n",
            "drwxr-xr-x 1 root root     4096 Apr 18 07:35 ..\n",
            "-rw-r--r-- 1 root root 71169925 Feb 15  2022 best.pt\n",
            "drwxr-xr-x 5 root root     4096 Apr 18 07:35 craters\n",
            "Found 143 image files\n",
            "Training images: 114\n",
            "Validation images: 29\n",
            "Processed 0/114 training images\n",
            "Processed 100/114 training images\n",
            "Processed 0/29 validation images\n",
            "\n",
            "Dataset Structure:\n",
            "Train Images: 114\n",
            "Train Labels: 114\n",
            "Val Images: 29\n",
            "Val Labels: 29\n"
          ]
        }
      ]
    },
    {
      "cell_type": "code",
      "source": [
        "# If your dataset doesn't have labels, create synthetic ones\n",
        "# Only run this if labels are missing\n",
        "\n",
        "def create_synthetic_labels():\n",
        "    # Check if we have labels\n",
        "    train_images = len(os.listdir('/content/yolo_dataset/train/images'))\n",
        "    train_labels = len(os.listdir('/content/yolo_dataset/train/labels'))\n",
        "\n",
        "    if train_labels < train_images * 0.5:  # If less than 50% of images have labels\n",
        "        print(\"Creating synthetic labels for missing images...\")\n",
        "\n",
        "        # For training images\n",
        "        for img_file in os.listdir('/content/yolo_dataset/train/images'):\n",
        "            base_name = os.path.splitext(img_file)[0]\n",
        "            label_file = f'/content/yolo_dataset/train/labels/{base_name}.txt'\n",
        "\n",
        "            if not os.path.exists(label_file):\n",
        "                # Create a simple label (center box covering 50% of image)\n",
        "                with open(label_file, 'w') as f:\n",
        "                    f.write(\"0 0.5 0.5 0.5 0.5\")  # class_id x_center y_center width height\n",
        "\n",
        "        # For validation images\n",
        "        for img_file in os.listdir('/content/yolo_dataset/val/images'):\n",
        "            base_name = os.path.splitext(img_file)[0]\n",
        "            label_file = f'/content/yolo_dataset/val/labels/{base_name}.txt'\n",
        "\n",
        "            if not os.path.exists(label_file):\n",
        "                # Create a simple label (center box covering 50% of image)\n",
        "                with open(label_file, 'w') as f:\n",
        "                    f.write(\"0 0.5 0.5 0.5 0.5\")  # class_id x_center y_center width height\n",
        "\n",
        "        print(\"Synthetic labels created.\")\n",
        "        print(f\"Train Labels: {len(os.listdir('/content/yolo_dataset/train/labels'))}\")\n",
        "        print(f\"Val Labels: {len(os.listdir('/content/yolo_dataset/val/labels'))}\")\n",
        "\n",
        "# Call the function if needed\n",
        "create_synthetic_labels()"
      ],
      "metadata": {
        "id": "DfJiWTyVROAH"
      },
      "execution_count": 4,
      "outputs": []
    },
    {
      "cell_type": "code",
      "source": [
        "# Create dataset.yaml for YOLOv8\n",
        "with open('/content/dataset.yaml', 'w') as f:\n",
        "    f.write(\"train: /content/yolo_dataset/train/images\\n\")\n",
        "    f.write(\"val: /content/yolo_dataset/val/images\\n\")\n",
        "    f.write(\"nc: 1\\n\")  # Number of classes (update if needed)\n",
        "    f.write(\"names: ['crater']\\n\")  # Class names (update if needed)\n",
        "\n",
        "# Verify the content\n",
        "!cat /content/dataset.yaml\n",
        "\n",
        "# Verify that images exist at the specified paths\n",
        "!ls -la /content/yolo_dataset/train/images | head -5\n",
        "!ls -la /content/yolo_dataset/val/images | head -5"
      ],
      "metadata": {
        "colab": {
          "base_uri": "https://localhost:8080/"
        },
        "id": "yCuKw5nDRTMX",
        "outputId": "158143ac-cc5f-4024-c7f9-86b856602f44"
      },
      "execution_count": 5,
      "outputs": [
        {
          "output_type": "stream",
          "name": "stdout",
          "text": [
            "train: /content/yolo_dataset/train/images\n",
            "val: /content/yolo_dataset/val/images\n",
            "nc: 1\n",
            "names: ['crater']\n",
            "total 9384\n",
            "drwxr-xr-x 2 root root  12288 Apr 18 07:35 .\n",
            "drwxr-xr-x 4 root root   4096 Apr 18 07:35 ..\n",
            "-rw-r--r-- 1 root root  91828 Apr 18 07:35 010_png.rf.fcf5e274562ee69a325f9d7a0b30767f.jpg\n",
            "-rw-r--r-- 1 root root  69008 Apr 18 07:35 011_png.rf.8ac312b4898f0106d10b76952a55d237.jpg\n",
            "total 2528\n",
            "drwxr-xr-x 2 root root   4096 Apr 18 07:35 .\n",
            "drwxr-xr-x 4 root root   4096 Apr 18 07:35 ..\n",
            "-rw-r--r-- 1 root root  69273 Apr 18 07:35 013_png.rf.ee44d5aa33fd33a1ed62ae233180f505.jpg\n",
            "-rw-r--r-- 1 root root  76630 Apr 18 07:35 016_png.rf.1973f9540ae7f672257609a8e5721ab3.jpg\n"
          ]
        }
      ]
    },
    {
      "cell_type": "code",
      "source": [
        "from ultralytics import YOLO\n",
        "\n",
        "# Initialize a new YOLOv8 model (choose size based on your needs)\n",
        "# 'n' = nano (smallest/fastest), 's' = small, 'm' = medium, 'l' = large, 'x' = xlarge (most accurate)\n",
        "model = YOLO('yolov8n.pt')  # Start with pre-trained YOLOv8 nano model\n",
        "\n",
        "# Verify YAML path exists\n",
        "import os\n",
        "yaml_path = '/content/dataset.yaml'\n",
        "assert os.path.exists(yaml_path), f\"YAML file not found at {yaml_path}\"\n",
        "\n",
        "# Train YOLOv8 on your dataset\n",
        "results = model.train(\n",
        "    data=yaml_path,\n",
        "    epochs=100,\n",
        "    imgsz=640,\n",
        "    patience=20,  # Early stopping patience\n",
        "    batch=16,\n",
        "    name='crater_model',\n",
        "    save=True,  # Save checkpoint\n",
        "    device=0  # GPU\n",
        ")\n",
        "\n",
        "# Plot training results\n",
        "from ultralytics.utils.plotting import plot_results\n",
        "plot_results(file='/content/runs/detect/crater_model')  # Plot results\n",
        "\n",
        "# Export the model\n",
        "model = YOLO('/content/runs/detect/crater_model/weights/best.pt')\n",
        "model.export(format='onnx')  # Export to ONNX format for deployment"
      ],
      "metadata": {
        "colab": {
          "base_uri": "https://localhost:8080/",
          "height": 1000
        },
        "id": "S-0N3MAwRcuf",
        "outputId": "49b22f32-8d10-4ac0-eda8-19b52cf01f0b"
      },
      "execution_count": 7,
      "outputs": [
        {
          "output_type": "stream",
          "name": "stdout",
          "text": [
            "Ultralytics 8.3.111 🚀 Python-3.11.12 torch-2.6.0+cu124 CUDA:0 (Tesla T4, 15095MiB)\n",
            "\u001b[34m\u001b[1mengine/trainer: \u001b[0mtask=detect, mode=train, model=yolov8n.pt, data=/content/dataset.yaml, epochs=100, time=None, patience=20, batch=16, imgsz=640, save=True, save_period=-1, cache=False, device=0, workers=8, project=None, name=crater_model2, exist_ok=False, pretrained=True, optimizer=auto, verbose=True, seed=0, deterministic=True, single_cls=False, rect=False, cos_lr=False, close_mosaic=10, resume=False, amp=True, fraction=1.0, profile=False, freeze=None, multi_scale=False, overlap_mask=True, mask_ratio=4, dropout=0.0, val=True, split=val, save_json=False, conf=None, iou=0.7, max_det=300, half=False, dnn=False, plots=True, source=None, vid_stride=1, stream_buffer=False, visualize=False, augment=False, agnostic_nms=False, classes=None, retina_masks=False, embed=None, show=False, save_frames=False, save_txt=False, save_conf=False, save_crop=False, show_labels=True, show_conf=True, show_boxes=True, line_width=None, format=torchscript, keras=False, optimize=False, int8=False, dynamic=False, simplify=True, opset=None, workspace=None, nms=False, lr0=0.01, lrf=0.01, momentum=0.937, weight_decay=0.0005, warmup_epochs=3.0, warmup_momentum=0.8, warmup_bias_lr=0.1, box=7.5, cls=0.5, dfl=1.5, pose=12.0, kobj=1.0, nbs=64, hsv_h=0.015, hsv_s=0.7, hsv_v=0.4, degrees=0.0, translate=0.1, scale=0.5, shear=0.0, perspective=0.0, flipud=0.0, fliplr=0.5, bgr=0.0, mosaic=1.0, mixup=0.0, copy_paste=0.0, copy_paste_mode=flip, auto_augment=randaugment, erasing=0.4, cfg=None, tracker=botsort.yaml, save_dir=runs/detect/crater_model2\n",
            "Overriding model.yaml nc=80 with nc=1\n",
            "\n",
            "                   from  n    params  module                                       arguments                     \n",
            "  0                  -1  1       464  ultralytics.nn.modules.conv.Conv             [3, 16, 3, 2]                 \n",
            "  1                  -1  1      4672  ultralytics.nn.modules.conv.Conv             [16, 32, 3, 2]                \n",
            "  2                  -1  1      7360  ultralytics.nn.modules.block.C2f             [32, 32, 1, True]             \n",
            "  3                  -1  1     18560  ultralytics.nn.modules.conv.Conv             [32, 64, 3, 2]                \n",
            "  4                  -1  2     49664  ultralytics.nn.modules.block.C2f             [64, 64, 2, True]             \n",
            "  5                  -1  1     73984  ultralytics.nn.modules.conv.Conv             [64, 128, 3, 2]               \n",
            "  6                  -1  2    197632  ultralytics.nn.modules.block.C2f             [128, 128, 2, True]           \n",
            "  7                  -1  1    295424  ultralytics.nn.modules.conv.Conv             [128, 256, 3, 2]              \n",
            "  8                  -1  1    460288  ultralytics.nn.modules.block.C2f             [256, 256, 1, True]           \n",
            "  9                  -1  1    164608  ultralytics.nn.modules.block.SPPF            [256, 256, 5]                 \n",
            " 10                  -1  1         0  torch.nn.modules.upsampling.Upsample         [None, 2, 'nearest']          \n",
            " 11             [-1, 6]  1         0  ultralytics.nn.modules.conv.Concat           [1]                           \n",
            " 12                  -1  1    148224  ultralytics.nn.modules.block.C2f             [384, 128, 1]                 \n",
            " 13                  -1  1         0  torch.nn.modules.upsampling.Upsample         [None, 2, 'nearest']          \n",
            " 14             [-1, 4]  1         0  ultralytics.nn.modules.conv.Concat           [1]                           \n",
            " 15                  -1  1     37248  ultralytics.nn.modules.block.C2f             [192, 64, 1]                  \n",
            " 16                  -1  1     36992  ultralytics.nn.modules.conv.Conv             [64, 64, 3, 2]                \n",
            " 17            [-1, 12]  1         0  ultralytics.nn.modules.conv.Concat           [1]                           \n",
            " 18                  -1  1    123648  ultralytics.nn.modules.block.C2f             [192, 128, 1]                 \n",
            " 19                  -1  1    147712  ultralytics.nn.modules.conv.Conv             [128, 128, 3, 2]              \n",
            " 20             [-1, 9]  1         0  ultralytics.nn.modules.conv.Concat           [1]                           \n",
            " 21                  -1  1    493056  ultralytics.nn.modules.block.C2f             [384, 256, 1]                 \n",
            " 22        [15, 18, 21]  1    751507  ultralytics.nn.modules.head.Detect           [1, [64, 128, 256]]           \n",
            "Model summary: 129 layers, 3,011,043 parameters, 3,011,027 gradients, 8.2 GFLOPs\n",
            "\n",
            "Transferred 319/355 items from pretrained weights\n",
            "Freezing layer 'model.22.dfl.conv.weight'\n",
            "\u001b[34m\u001b[1mAMP: \u001b[0mrunning Automatic Mixed Precision (AMP) checks...\n",
            "\u001b[34m\u001b[1mAMP: \u001b[0mchecks passed ✅\n",
            "\u001b[34m\u001b[1mtrain: \u001b[0mFast image access ✅ (ping: 0.0±0.0 ms, read: 1233.7±297.1 MB/s, size: 73.9 KB)\n"
          ]
        },
        {
          "output_type": "stream",
          "name": "stderr",
          "text": [
            "\u001b[34m\u001b[1mtrain: \u001b[0mScanning /content/yolo_dataset/train/labels.cache... 114 images, 8 backgrounds, 0 corrupt: 100%|██████████| 114/114 [00:00<?, ?it/s]"
          ]
        },
        {
          "output_type": "stream",
          "name": "stdout",
          "text": [
            "\u001b[34m\u001b[1malbumentations: \u001b[0mBlur(p=0.01, blur_limit=(3, 7)), MedianBlur(p=0.01, blur_limit=(3, 7)), ToGray(p=0.01, num_output_channels=3, method='weighted_average'), CLAHE(p=0.01, clip_limit=(1.0, 4.0), tile_grid_size=(8, 8))\n"
          ]
        },
        {
          "output_type": "stream",
          "name": "stderr",
          "text": [
            "\n"
          ]
        },
        {
          "output_type": "stream",
          "name": "stdout",
          "text": [
            "\u001b[34m\u001b[1mval: \u001b[0mFast image access ✅ (ping: 0.0±0.0 ms, read: 472.7±81.1 MB/s, size: 81.9 KB)\n"
          ]
        },
        {
          "output_type": "stream",
          "name": "stderr",
          "text": [
            "\u001b[34m\u001b[1mval: \u001b[0mScanning /content/yolo_dataset/val/labels.cache... 29 images, 3 backgrounds, 0 corrupt: 100%|██████████| 29/29 [00:00<?, ?it/s]\n"
          ]
        },
        {
          "output_type": "stream",
          "name": "stdout",
          "text": [
            "Plotting labels to runs/detect/crater_model2/labels.jpg... \n",
            "\u001b[34m\u001b[1moptimizer:\u001b[0m 'optimizer=auto' found, ignoring 'lr0=0.01' and 'momentum=0.937' and determining best 'optimizer', 'lr0' and 'momentum' automatically... \n",
            "\u001b[34m\u001b[1moptimizer:\u001b[0m AdamW(lr=0.002, momentum=0.9) with parameter groups 57 weight(decay=0.0), 64 weight(decay=0.0005), 63 bias(decay=0.0)\n",
            "Image sizes 640 train, 640 val\n",
            "Using 2 dataloader workers\n",
            "Logging results to \u001b[1mruns/detect/crater_model2\u001b[0m\n",
            "Starting training for 100 epochs...\n",
            "\n",
            "      Epoch    GPU_mem   box_loss   cls_loss   dfl_loss  Instances       Size\n"
          ]
        },
        {
          "output_type": "stream",
          "name": "stderr",
          "text": [
            "      1/100      2.48G      1.841      3.357        1.5         31        640: 100%|██████████| 8/8 [00:03<00:00,  2.34it/s]\n",
            "                 Class     Images  Instances      Box(P          R      mAP50  mAP50-95): 100%|██████████| 1/1 [00:00<00:00,  1.38it/s]"
          ]
        },
        {
          "output_type": "stream",
          "name": "stdout",
          "text": [
            "                   all         29        166     0.0102      0.536     0.0481      0.021\n"
          ]
        },
        {
          "output_type": "stream",
          "name": "stderr",
          "text": [
            "\n"
          ]
        },
        {
          "output_type": "stream",
          "name": "stdout",
          "text": [
            "\n",
            "      Epoch    GPU_mem   box_loss   cls_loss   dfl_loss  Instances       Size\n"
          ]
        },
        {
          "output_type": "stream",
          "name": "stderr",
          "text": [
            "      2/100      2.83G      1.619      2.924      1.348          2        640: 100%|██████████| 8/8 [00:03<00:00,  2.66it/s]\n",
            "                 Class     Images  Instances      Box(P          R      mAP50  mAP50-95): 100%|██████████| 1/1 [00:00<00:00,  2.05it/s]"
          ]
        },
        {
          "output_type": "stream",
          "name": "stdout",
          "text": [
            "                   all         29        166     0.0149      0.783      0.223      0.106\n"
          ]
        },
        {
          "output_type": "stream",
          "name": "stderr",
          "text": [
            "\n"
          ]
        },
        {
          "output_type": "stream",
          "name": "stdout",
          "text": [
            "\n",
            "      Epoch    GPU_mem   box_loss   cls_loss   dfl_loss  Instances       Size\n"
          ]
        },
        {
          "output_type": "stream",
          "name": "stderr",
          "text": [
            "      3/100      2.83G      1.699      1.951      1.315         12        640: 100%|██████████| 8/8 [00:01<00:00,  4.59it/s]\n",
            "                 Class     Images  Instances      Box(P          R      mAP50  mAP50-95): 100%|██████████| 1/1 [00:00<00:00,  2.25it/s]"
          ]
        },
        {
          "output_type": "stream",
          "name": "stdout",
          "text": [
            "                   all         29        166     0.0155      0.813      0.115     0.0606\n"
          ]
        },
        {
          "output_type": "stream",
          "name": "stderr",
          "text": [
            "\n"
          ]
        },
        {
          "output_type": "stream",
          "name": "stdout",
          "text": [
            "\n",
            "      Epoch    GPU_mem   box_loss   cls_loss   dfl_loss  Instances       Size\n"
          ]
        },
        {
          "output_type": "stream",
          "name": "stderr",
          "text": [
            "      4/100      2.83G      1.615      1.779      1.257         19        640: 100%|██████████| 8/8 [00:01<00:00,  4.45it/s]\n",
            "                 Class     Images  Instances      Box(P          R      mAP50  mAP50-95): 100%|██████████| 1/1 [00:00<00:00,  2.70it/s]"
          ]
        },
        {
          "output_type": "stream",
          "name": "stdout",
          "text": [
            "                   all         29        166     0.0141      0.741     0.0989     0.0568\n"
          ]
        },
        {
          "output_type": "stream",
          "name": "stderr",
          "text": [
            "\n"
          ]
        },
        {
          "output_type": "stream",
          "name": "stdout",
          "text": [
            "\n",
            "      Epoch    GPU_mem   box_loss   cls_loss   dfl_loss  Instances       Size\n"
          ]
        },
        {
          "output_type": "stream",
          "name": "stderr",
          "text": [
            "      5/100      2.83G      1.522      1.637      1.274         18        640: 100%|██████████| 8/8 [00:01<00:00,  4.75it/s]\n",
            "                 Class     Images  Instances      Box(P          R      mAP50  mAP50-95): 100%|██████████| 1/1 [00:00<00:00,  3.21it/s]"
          ]
        },
        {
          "output_type": "stream",
          "name": "stdout",
          "text": [
            "                   all         29        166     0.0139      0.729      0.111     0.0696\n"
          ]
        },
        {
          "output_type": "stream",
          "name": "stderr",
          "text": [
            "\n"
          ]
        },
        {
          "output_type": "stream",
          "name": "stdout",
          "text": [
            "\n",
            "      Epoch    GPU_mem   box_loss   cls_loss   dfl_loss  Instances       Size\n"
          ]
        },
        {
          "output_type": "stream",
          "name": "stderr",
          "text": [
            "      6/100      2.83G        1.5      1.536      1.221         18        640: 100%|██████████| 8/8 [00:02<00:00,  3.48it/s]\n",
            "                 Class     Images  Instances      Box(P          R      mAP50  mAP50-95): 100%|██████████| 1/1 [00:00<00:00,  1.46it/s]"
          ]
        },
        {
          "output_type": "stream",
          "name": "stdout",
          "text": [
            "                   all         29        166       0.52      0.117      0.174      0.105\n"
          ]
        },
        {
          "output_type": "stream",
          "name": "stderr",
          "text": [
            "\n"
          ]
        },
        {
          "output_type": "stream",
          "name": "stdout",
          "text": [
            "\n",
            "      Epoch    GPU_mem   box_loss   cls_loss   dfl_loss  Instances       Size\n"
          ]
        },
        {
          "output_type": "stream",
          "name": "stderr",
          "text": [
            "      7/100      2.83G      1.533      1.414      1.208         35        640: 100%|██████████| 8/8 [00:01<00:00,  4.11it/s]\n",
            "                 Class     Images  Instances      Box(P          R      mAP50  mAP50-95): 100%|██████████| 1/1 [00:00<00:00,  2.71it/s]"
          ]
        },
        {
          "output_type": "stream",
          "name": "stdout",
          "text": [
            "                   all         29        166      0.732      0.395      0.513      0.297\n"
          ]
        },
        {
          "output_type": "stream",
          "name": "stderr",
          "text": [
            "\n"
          ]
        },
        {
          "output_type": "stream",
          "name": "stdout",
          "text": [
            "\n",
            "      Epoch    GPU_mem   box_loss   cls_loss   dfl_loss  Instances       Size\n"
          ]
        },
        {
          "output_type": "stream",
          "name": "stderr",
          "text": [
            "      8/100      2.83G       1.51       1.53       1.24         14        640: 100%|██████████| 8/8 [00:01<00:00,  4.89it/s]\n",
            "                 Class     Images  Instances      Box(P          R      mAP50  mAP50-95): 100%|██████████| 1/1 [00:00<00:00,  3.29it/s]"
          ]
        },
        {
          "output_type": "stream",
          "name": "stdout",
          "text": [
            "                   all         29        166      0.355      0.283      0.255      0.143\n"
          ]
        },
        {
          "output_type": "stream",
          "name": "stderr",
          "text": [
            "\n"
          ]
        },
        {
          "output_type": "stream",
          "name": "stdout",
          "text": [
            "\n",
            "      Epoch    GPU_mem   box_loss   cls_loss   dfl_loss  Instances       Size\n"
          ]
        },
        {
          "output_type": "stream",
          "name": "stderr",
          "text": [
            "      9/100      2.83G       1.49      1.453      1.238         17        640: 100%|██████████| 8/8 [00:01<00:00,  4.26it/s]\n",
            "                 Class     Images  Instances      Box(P          R      mAP50  mAP50-95): 100%|██████████| 1/1 [00:00<00:00,  2.46it/s]"
          ]
        },
        {
          "output_type": "stream",
          "name": "stdout",
          "text": [
            "                   all         29        166      0.261      0.412      0.235      0.141\n"
          ]
        },
        {
          "output_type": "stream",
          "name": "stderr",
          "text": [
            "\n"
          ]
        },
        {
          "output_type": "stream",
          "name": "stdout",
          "text": [
            "\n",
            "      Epoch    GPU_mem   box_loss   cls_loss   dfl_loss  Instances       Size\n"
          ]
        },
        {
          "output_type": "stream",
          "name": "stderr",
          "text": [
            "     10/100      2.83G      1.541      1.571       1.28         14        640: 100%|██████████| 8/8 [00:01<00:00,  5.10it/s]\n",
            "                 Class     Images  Instances      Box(P          R      mAP50  mAP50-95): 100%|██████████| 1/1 [00:00<00:00,  2.57it/s]"
          ]
        },
        {
          "output_type": "stream",
          "name": "stdout",
          "text": [
            "                   all         29        166      0.324      0.434      0.256      0.139\n"
          ]
        },
        {
          "output_type": "stream",
          "name": "stderr",
          "text": [
            "\n"
          ]
        },
        {
          "output_type": "stream",
          "name": "stdout",
          "text": [
            "\n",
            "      Epoch    GPU_mem   box_loss   cls_loss   dfl_loss  Instances       Size\n"
          ]
        },
        {
          "output_type": "stream",
          "name": "stderr",
          "text": [
            "     11/100      2.83G      1.517       1.73      1.299          3        640: 100%|██████████| 8/8 [00:01<00:00,  4.10it/s]\n",
            "                 Class     Images  Instances      Box(P          R      mAP50  mAP50-95): 100%|██████████| 1/1 [00:00<00:00,  1.48it/s]"
          ]
        },
        {
          "output_type": "stream",
          "name": "stdout",
          "text": [
            "                   all         29        166      0.318      0.506      0.246      0.124\n"
          ]
        },
        {
          "output_type": "stream",
          "name": "stderr",
          "text": [
            "\n"
          ]
        },
        {
          "output_type": "stream",
          "name": "stdout",
          "text": [
            "\n",
            "      Epoch    GPU_mem   box_loss   cls_loss   dfl_loss  Instances       Size\n"
          ]
        },
        {
          "output_type": "stream",
          "name": "stderr",
          "text": [
            "     12/100      2.83G      1.411      1.388      1.187         34        640: 100%|██████████| 8/8 [00:02<00:00,  3.69it/s]\n",
            "                 Class     Images  Instances      Box(P          R      mAP50  mAP50-95): 100%|██████████| 1/1 [00:00<00:00,  2.65it/s]"
          ]
        },
        {
          "output_type": "stream",
          "name": "stdout",
          "text": [
            "                   all         29        166      0.274      0.494      0.239      0.128\n"
          ]
        },
        {
          "output_type": "stream",
          "name": "stderr",
          "text": [
            "\n"
          ]
        },
        {
          "output_type": "stream",
          "name": "stdout",
          "text": [
            "\n",
            "      Epoch    GPU_mem   box_loss   cls_loss   dfl_loss  Instances       Size\n"
          ]
        },
        {
          "output_type": "stream",
          "name": "stderr",
          "text": [
            "     13/100      2.83G      1.473      1.371      1.207         16        640: 100%|██████████| 8/8 [00:01<00:00,  4.74it/s]\n",
            "                 Class     Images  Instances      Box(P          R      mAP50  mAP50-95): 100%|██████████| 1/1 [00:00<00:00,  3.54it/s]"
          ]
        },
        {
          "output_type": "stream",
          "name": "stdout",
          "text": [
            "                   all         29        166      0.481      0.434      0.429       0.23\n"
          ]
        },
        {
          "output_type": "stream",
          "name": "stderr",
          "text": [
            "\n"
          ]
        },
        {
          "output_type": "stream",
          "name": "stdout",
          "text": [
            "\n",
            "      Epoch    GPU_mem   box_loss   cls_loss   dfl_loss  Instances       Size\n"
          ]
        },
        {
          "output_type": "stream",
          "name": "stderr",
          "text": [
            "     14/100      2.83G      1.521      1.453      1.201         10        640: 100%|██████████| 8/8 [00:01<00:00,  5.05it/s]\n",
            "                 Class     Images  Instances      Box(P          R      mAP50  mAP50-95): 100%|██████████| 1/1 [00:00<00:00,  3.14it/s]"
          ]
        },
        {
          "output_type": "stream",
          "name": "stdout",
          "text": [
            "                   all         29        166      0.594      0.488      0.535      0.313\n"
          ]
        },
        {
          "output_type": "stream",
          "name": "stderr",
          "text": [
            "\n"
          ]
        },
        {
          "output_type": "stream",
          "name": "stdout",
          "text": [
            "\n",
            "      Epoch    GPU_mem   box_loss   cls_loss   dfl_loss  Instances       Size\n"
          ]
        },
        {
          "output_type": "stream",
          "name": "stderr",
          "text": [
            "     15/100      2.83G       1.54      1.353      1.233         27        640: 100%|██████████| 8/8 [00:01<00:00,  4.96it/s]\n",
            "                 Class     Images  Instances      Box(P          R      mAP50  mAP50-95): 100%|██████████| 1/1 [00:00<00:00,  3.31it/s]"
          ]
        },
        {
          "output_type": "stream",
          "name": "stdout",
          "text": [
            "                   all         29        166       0.63      0.518      0.563      0.343\n"
          ]
        },
        {
          "output_type": "stream",
          "name": "stderr",
          "text": [
            "\n"
          ]
        },
        {
          "output_type": "stream",
          "name": "stdout",
          "text": [
            "\n",
            "      Epoch    GPU_mem   box_loss   cls_loss   dfl_loss  Instances       Size\n"
          ]
        },
        {
          "output_type": "stream",
          "name": "stderr",
          "text": [
            "     16/100      2.83G      1.467      1.275      1.187         41        640: 100%|██████████| 8/8 [00:01<00:00,  4.92it/s]\n",
            "                 Class     Images  Instances      Box(P          R      mAP50  mAP50-95): 100%|██████████| 1/1 [00:00<00:00,  3.33it/s]"
          ]
        },
        {
          "output_type": "stream",
          "name": "stdout",
          "text": [
            "                   all         29        166      0.614      0.494      0.537      0.325\n"
          ]
        },
        {
          "output_type": "stream",
          "name": "stderr",
          "text": [
            "\n"
          ]
        },
        {
          "output_type": "stream",
          "name": "stdout",
          "text": [
            "\n",
            "      Epoch    GPU_mem   box_loss   cls_loss   dfl_loss  Instances       Size\n"
          ]
        },
        {
          "output_type": "stream",
          "name": "stderr",
          "text": [
            "     17/100      2.83G      1.467      1.277      1.226         14        640: 100%|██████████| 8/8 [00:02<00:00,  3.30it/s]\n",
            "                 Class     Images  Instances      Box(P          R      mAP50  mAP50-95): 100%|██████████| 1/1 [00:00<00:00,  1.45it/s]"
          ]
        },
        {
          "output_type": "stream",
          "name": "stdout",
          "text": [
            "                   all         29        166      0.686      0.458       0.53      0.298\n"
          ]
        },
        {
          "output_type": "stream",
          "name": "stderr",
          "text": [
            "\n"
          ]
        },
        {
          "output_type": "stream",
          "name": "stdout",
          "text": [
            "\n",
            "      Epoch    GPU_mem   box_loss   cls_loss   dfl_loss  Instances       Size\n"
          ]
        },
        {
          "output_type": "stream",
          "name": "stderr",
          "text": [
            "     18/100      2.83G      1.409      1.316      1.259          8        640: 100%|██████████| 8/8 [00:01<00:00,  4.52it/s]\n",
            "                 Class     Images  Instances      Box(P          R      mAP50  mAP50-95): 100%|██████████| 1/1 [00:00<00:00,  2.61it/s]"
          ]
        },
        {
          "output_type": "stream",
          "name": "stdout",
          "text": [
            "                   all         29        166       0.51      0.506      0.417      0.237\n"
          ]
        },
        {
          "output_type": "stream",
          "name": "stderr",
          "text": [
            "\n"
          ]
        },
        {
          "output_type": "stream",
          "name": "stdout",
          "text": [
            "\n",
            "      Epoch    GPU_mem   box_loss   cls_loss   dfl_loss  Instances       Size\n"
          ]
        },
        {
          "output_type": "stream",
          "name": "stderr",
          "text": [
            "     19/100      2.83G      1.476      1.306      1.224         37        640: 100%|██████████| 8/8 [00:01<00:00,  4.96it/s]\n",
            "                 Class     Images  Instances      Box(P          R      mAP50  mAP50-95): 100%|██████████| 1/1 [00:00<00:00,  3.05it/s]"
          ]
        },
        {
          "output_type": "stream",
          "name": "stdout",
          "text": [
            "                   all         29        166      0.602      0.578      0.567      0.319\n"
          ]
        },
        {
          "output_type": "stream",
          "name": "stderr",
          "text": [
            "\n"
          ]
        },
        {
          "output_type": "stream",
          "name": "stdout",
          "text": [
            "\n",
            "      Epoch    GPU_mem   box_loss   cls_loss   dfl_loss  Instances       Size\n"
          ]
        },
        {
          "output_type": "stream",
          "name": "stderr",
          "text": [
            "     20/100      2.83G      1.411      1.233      1.182         24        640: 100%|██████████| 8/8 [00:01<00:00,  4.86it/s]\n",
            "                 Class     Images  Instances      Box(P          R      mAP50  mAP50-95): 100%|██████████| 1/1 [00:00<00:00,  3.91it/s]"
          ]
        },
        {
          "output_type": "stream",
          "name": "stdout",
          "text": [
            "                   all         29        166      0.622      0.566        0.6      0.344\n"
          ]
        },
        {
          "output_type": "stream",
          "name": "stderr",
          "text": [
            "\n"
          ]
        },
        {
          "output_type": "stream",
          "name": "stdout",
          "text": [
            "\n",
            "      Epoch    GPU_mem   box_loss   cls_loss   dfl_loss  Instances       Size\n"
          ]
        },
        {
          "output_type": "stream",
          "name": "stderr",
          "text": [
            "     21/100      2.83G      1.455      1.307      1.224          4        640: 100%|██████████| 8/8 [00:01<00:00,  4.87it/s]\n",
            "                 Class     Images  Instances      Box(P          R      mAP50  mAP50-95): 100%|██████████| 1/1 [00:00<00:00,  2.76it/s]"
          ]
        },
        {
          "output_type": "stream",
          "name": "stdout",
          "text": [
            "                   all         29        166      0.658      0.532      0.615      0.343\n"
          ]
        },
        {
          "output_type": "stream",
          "name": "stderr",
          "text": [
            "\n"
          ]
        },
        {
          "output_type": "stream",
          "name": "stdout",
          "text": [
            "\n",
            "      Epoch    GPU_mem   box_loss   cls_loss   dfl_loss  Instances       Size\n"
          ]
        },
        {
          "output_type": "stream",
          "name": "stderr",
          "text": [
            "     22/100      2.83G      1.425      1.248      1.213         17        640: 100%|██████████| 8/8 [00:02<00:00,  3.90it/s]\n",
            "                 Class     Images  Instances      Box(P          R      mAP50  mAP50-95): 100%|██████████| 1/1 [00:00<00:00,  1.84it/s]"
          ]
        },
        {
          "output_type": "stream",
          "name": "stdout",
          "text": [
            "                   all         29        166      0.566      0.572       0.59      0.326\n"
          ]
        },
        {
          "output_type": "stream",
          "name": "stderr",
          "text": [
            "\n"
          ]
        },
        {
          "output_type": "stream",
          "name": "stdout",
          "text": [
            "\n",
            "      Epoch    GPU_mem   box_loss   cls_loss   dfl_loss  Instances       Size\n"
          ]
        },
        {
          "output_type": "stream",
          "name": "stderr",
          "text": [
            "     23/100      2.83G      1.358      1.253      1.146         12        640: 100%|██████████| 8/8 [00:02<00:00,  3.59it/s]\n",
            "                 Class     Images  Instances      Box(P          R      mAP50  mAP50-95): 100%|██████████| 1/1 [00:00<00:00,  3.07it/s]"
          ]
        },
        {
          "output_type": "stream",
          "name": "stdout",
          "text": [
            "                   all         29        166      0.625      0.573      0.597      0.334\n"
          ]
        },
        {
          "output_type": "stream",
          "name": "stderr",
          "text": [
            "\n"
          ]
        },
        {
          "output_type": "stream",
          "name": "stdout",
          "text": [
            "\n",
            "      Epoch    GPU_mem   box_loss   cls_loss   dfl_loss  Instances       Size\n"
          ]
        },
        {
          "output_type": "stream",
          "name": "stderr",
          "text": [
            "     24/100      2.83G      1.408      1.214      1.181         15        640: 100%|██████████| 8/8 [00:01<00:00,  4.84it/s]\n",
            "                 Class     Images  Instances      Box(P          R      mAP50  mAP50-95): 100%|██████████| 1/1 [00:00<00:00,  3.29it/s]"
          ]
        },
        {
          "output_type": "stream",
          "name": "stdout",
          "text": [
            "                   all         29        166      0.601      0.571      0.618      0.361\n"
          ]
        },
        {
          "output_type": "stream",
          "name": "stderr",
          "text": [
            "\n"
          ]
        },
        {
          "output_type": "stream",
          "name": "stdout",
          "text": [
            "\n",
            "      Epoch    GPU_mem   box_loss   cls_loss   dfl_loss  Instances       Size\n"
          ]
        },
        {
          "output_type": "stream",
          "name": "stderr",
          "text": [
            "     25/100      2.83G      1.484      1.445      1.257          3        640: 100%|██████████| 8/8 [00:01<00:00,  4.79it/s]\n",
            "                 Class     Images  Instances      Box(P          R      mAP50  mAP50-95): 100%|██████████| 1/1 [00:00<00:00,  3.36it/s]"
          ]
        },
        {
          "output_type": "stream",
          "name": "stdout",
          "text": [
            "                   all         29        166      0.401      0.506       0.37      0.205\n"
          ]
        },
        {
          "output_type": "stream",
          "name": "stderr",
          "text": [
            "\n"
          ]
        },
        {
          "output_type": "stream",
          "name": "stdout",
          "text": [
            "\n",
            "      Epoch    GPU_mem   box_loss   cls_loss   dfl_loss  Instances       Size\n"
          ]
        },
        {
          "output_type": "stream",
          "name": "stderr",
          "text": [
            "     26/100      2.83G      1.385      1.155      1.152         26        640: 100%|██████████| 8/8 [00:01<00:00,  5.01it/s]\n",
            "                 Class     Images  Instances      Box(P          R      mAP50  mAP50-95): 100%|██████████| 1/1 [00:00<00:00,  3.17it/s]"
          ]
        },
        {
          "output_type": "stream",
          "name": "stdout",
          "text": [
            "                   all         29        166      0.467      0.596      0.495      0.286\n"
          ]
        },
        {
          "output_type": "stream",
          "name": "stderr",
          "text": [
            "\n"
          ]
        },
        {
          "output_type": "stream",
          "name": "stdout",
          "text": [
            "\n",
            "      Epoch    GPU_mem   box_loss   cls_loss   dfl_loss  Instances       Size\n"
          ]
        },
        {
          "output_type": "stream",
          "name": "stderr",
          "text": [
            "     27/100      2.83G      1.389      1.139      1.156         25        640: 100%|██████████| 8/8 [00:01<00:00,  4.69it/s]\n",
            "                 Class     Images  Instances      Box(P          R      mAP50  mAP50-95): 100%|██████████| 1/1 [00:00<00:00,  3.99it/s]"
          ]
        },
        {
          "output_type": "stream",
          "name": "stdout",
          "text": [
            "                   all         29        166      0.631      0.602      0.603      0.338\n"
          ]
        },
        {
          "output_type": "stream",
          "name": "stderr",
          "text": [
            "\n"
          ]
        },
        {
          "output_type": "stream",
          "name": "stdout",
          "text": [
            "\n",
            "      Epoch    GPU_mem   box_loss   cls_loss   dfl_loss  Instances       Size\n"
          ]
        },
        {
          "output_type": "stream",
          "name": "stderr",
          "text": [
            "     28/100      2.83G      1.469      1.255      1.202         12        640: 100%|██████████| 8/8 [00:02<00:00,  3.83it/s]\n",
            "                 Class     Images  Instances      Box(P          R      mAP50  mAP50-95): 100%|██████████| 1/1 [00:00<00:00,  1.56it/s]"
          ]
        },
        {
          "output_type": "stream",
          "name": "stdout",
          "text": [
            "                   all         29        166      0.602      0.608      0.631      0.368\n"
          ]
        },
        {
          "output_type": "stream",
          "name": "stderr",
          "text": [
            "\n"
          ]
        },
        {
          "output_type": "stream",
          "name": "stdout",
          "text": [
            "\n",
            "      Epoch    GPU_mem   box_loss   cls_loss   dfl_loss  Instances       Size\n"
          ]
        },
        {
          "output_type": "stream",
          "name": "stderr",
          "text": [
            "     29/100      2.83G      1.369      1.122      1.162         20        640: 100%|██████████| 8/8 [00:01<00:00,  4.69it/s]\n",
            "                 Class     Images  Instances      Box(P          R      mAP50  mAP50-95): 100%|██████████| 1/1 [00:00<00:00,  4.03it/s]"
          ]
        },
        {
          "output_type": "stream",
          "name": "stdout",
          "text": [
            "                   all         29        166      0.594      0.602      0.591      0.341\n"
          ]
        },
        {
          "output_type": "stream",
          "name": "stderr",
          "text": [
            "\n"
          ]
        },
        {
          "output_type": "stream",
          "name": "stdout",
          "text": [
            "\n",
            "      Epoch    GPU_mem   box_loss   cls_loss   dfl_loss  Instances       Size\n"
          ]
        },
        {
          "output_type": "stream",
          "name": "stderr",
          "text": [
            "     30/100      2.83G      1.303      1.065      1.126         16        640: 100%|██████████| 8/8 [00:01<00:00,  4.94it/s]\n",
            "                 Class     Images  Instances      Box(P          R      mAP50  mAP50-95): 100%|██████████| 1/1 [00:00<00:00,  4.05it/s]"
          ]
        },
        {
          "output_type": "stream",
          "name": "stdout",
          "text": [
            "                   all         29        166      0.634      0.536      0.593      0.348\n"
          ]
        },
        {
          "output_type": "stream",
          "name": "stderr",
          "text": [
            "\n"
          ]
        },
        {
          "output_type": "stream",
          "name": "stdout",
          "text": [
            "\n",
            "      Epoch    GPU_mem   box_loss   cls_loss   dfl_loss  Instances       Size\n"
          ]
        },
        {
          "output_type": "stream",
          "name": "stderr",
          "text": [
            "     31/100      2.83G      1.422      1.456      1.215          2        640: 100%|██████████| 8/8 [00:01<00:00,  5.54it/s]\n",
            "                 Class     Images  Instances      Box(P          R      mAP50  mAP50-95): 100%|██████████| 1/1 [00:00<00:00,  2.40it/s]"
          ]
        },
        {
          "output_type": "stream",
          "name": "stdout",
          "text": [
            "                   all         29        166      0.638      0.602      0.623      0.364\n"
          ]
        },
        {
          "output_type": "stream",
          "name": "stderr",
          "text": [
            "\n"
          ]
        },
        {
          "output_type": "stream",
          "name": "stdout",
          "text": [
            "\n",
            "      Epoch    GPU_mem   box_loss   cls_loss   dfl_loss  Instances       Size\n"
          ]
        },
        {
          "output_type": "stream",
          "name": "stderr",
          "text": [
            "     32/100      2.83G      1.447      1.479      1.258          2        640: 100%|██████████| 8/8 [00:01<00:00,  5.37it/s]\n",
            "                 Class     Images  Instances      Box(P          R      mAP50  mAP50-95): 100%|██████████| 1/1 [00:00<00:00,  2.44it/s]"
          ]
        },
        {
          "output_type": "stream",
          "name": "stdout",
          "text": [
            "                   all         29        166      0.568      0.614      0.558      0.332\n"
          ]
        },
        {
          "output_type": "stream",
          "name": "stderr",
          "text": [
            "\n"
          ]
        },
        {
          "output_type": "stream",
          "name": "stdout",
          "text": [
            "\n",
            "      Epoch    GPU_mem   box_loss   cls_loss   dfl_loss  Instances       Size\n"
          ]
        },
        {
          "output_type": "stream",
          "name": "stderr",
          "text": [
            "     33/100      2.83G      1.362       1.12      1.183         17        640: 100%|██████████| 8/8 [00:01<00:00,  4.41it/s]\n",
            "                 Class     Images  Instances      Box(P          R      mAP50  mAP50-95): 100%|██████████| 1/1 [00:00<00:00,  1.93it/s]"
          ]
        },
        {
          "output_type": "stream",
          "name": "stdout",
          "text": [
            "                   all         29        166       0.57      0.624      0.552      0.319\n"
          ]
        },
        {
          "output_type": "stream",
          "name": "stderr",
          "text": [
            "\n"
          ]
        },
        {
          "output_type": "stream",
          "name": "stdout",
          "text": [
            "\n",
            "      Epoch    GPU_mem   box_loss   cls_loss   dfl_loss  Instances       Size\n"
          ]
        },
        {
          "output_type": "stream",
          "name": "stderr",
          "text": [
            "     34/100      2.83G      1.317      1.104      1.124         11        640: 100%|██████████| 8/8 [00:03<00:00,  2.49it/s]\n",
            "                 Class     Images  Instances      Box(P          R      mAP50  mAP50-95): 100%|██████████| 1/1 [00:00<00:00,  1.64it/s]"
          ]
        },
        {
          "output_type": "stream",
          "name": "stdout",
          "text": [
            "                   all         29        166      0.537      0.633      0.547      0.276\n"
          ]
        },
        {
          "output_type": "stream",
          "name": "stderr",
          "text": [
            "\n"
          ]
        },
        {
          "output_type": "stream",
          "name": "stdout",
          "text": [
            "\n",
            "      Epoch    GPU_mem   box_loss   cls_loss   dfl_loss  Instances       Size\n"
          ]
        },
        {
          "output_type": "stream",
          "name": "stderr",
          "text": [
            "     35/100      2.83G      1.314      1.067      1.118         30        640: 100%|██████████| 8/8 [00:02<00:00,  3.00it/s]\n",
            "                 Class     Images  Instances      Box(P          R      mAP50  mAP50-95): 100%|██████████| 1/1 [00:00<00:00,  2.26it/s]"
          ]
        },
        {
          "output_type": "stream",
          "name": "stdout",
          "text": [
            "                   all         29        166      0.591        0.6      0.567      0.336\n"
          ]
        },
        {
          "output_type": "stream",
          "name": "stderr",
          "text": [
            "\n"
          ]
        },
        {
          "output_type": "stream",
          "name": "stdout",
          "text": [
            "\n",
            "      Epoch    GPU_mem   box_loss   cls_loss   dfl_loss  Instances       Size\n"
          ]
        },
        {
          "output_type": "stream",
          "name": "stderr",
          "text": [
            "     36/100      2.83G      1.346      1.114      1.142         27        640: 100%|██████████| 8/8 [00:02<00:00,  3.01it/s]\n",
            "                 Class     Images  Instances      Box(P          R      mAP50  mAP50-95): 100%|██████████| 1/1 [00:00<00:00,  1.94it/s]"
          ]
        },
        {
          "output_type": "stream",
          "name": "stdout",
          "text": [
            "                   all         29        166      0.619      0.548      0.586      0.344\n"
          ]
        },
        {
          "output_type": "stream",
          "name": "stderr",
          "text": [
            "\n"
          ]
        },
        {
          "output_type": "stream",
          "name": "stdout",
          "text": [
            "\n",
            "      Epoch    GPU_mem   box_loss   cls_loss   dfl_loss  Instances       Size\n"
          ]
        },
        {
          "output_type": "stream",
          "name": "stderr",
          "text": [
            "     37/100      2.83G      1.394      1.255      1.193          5        640: 100%|██████████| 8/8 [00:03<00:00,  2.46it/s]\n",
            "                 Class     Images  Instances      Box(P          R      mAP50  mAP50-95): 100%|██████████| 1/1 [00:00<00:00,  1.11it/s]"
          ]
        },
        {
          "output_type": "stream",
          "name": "stdout",
          "text": [
            "                   all         29        166      0.617      0.645      0.662      0.387\n"
          ]
        },
        {
          "output_type": "stream",
          "name": "stderr",
          "text": [
            "\n"
          ]
        },
        {
          "output_type": "stream",
          "name": "stdout",
          "text": [
            "\n",
            "      Epoch    GPU_mem   box_loss   cls_loss   dfl_loss  Instances       Size\n"
          ]
        },
        {
          "output_type": "stream",
          "name": "stderr",
          "text": [
            "     38/100      2.83G      1.292      1.077      1.122         20        640: 100%|██████████| 8/8 [00:01<00:00,  4.70it/s]\n",
            "                 Class     Images  Instances      Box(P          R      mAP50  mAP50-95): 100%|██████████| 1/1 [00:00<00:00,  3.01it/s]"
          ]
        },
        {
          "output_type": "stream",
          "name": "stdout",
          "text": [
            "                   all         29        166      0.696      0.639      0.694      0.426\n"
          ]
        },
        {
          "output_type": "stream",
          "name": "stderr",
          "text": [
            "\n"
          ]
        },
        {
          "output_type": "stream",
          "name": "stdout",
          "text": [
            "\n",
            "      Epoch    GPU_mem   box_loss   cls_loss   dfl_loss  Instances       Size\n"
          ]
        },
        {
          "output_type": "stream",
          "name": "stderr",
          "text": [
            "     39/100      2.83G      1.351       1.07      1.184          9        640: 100%|██████████| 8/8 [00:01<00:00,  4.74it/s]\n",
            "                 Class     Images  Instances      Box(P          R      mAP50  mAP50-95): 100%|██████████| 1/1 [00:00<00:00,  4.30it/s]"
          ]
        },
        {
          "output_type": "stream",
          "name": "stdout",
          "text": [
            "                   all         29        166      0.663      0.615      0.654      0.378\n"
          ]
        },
        {
          "output_type": "stream",
          "name": "stderr",
          "text": [
            "\n"
          ]
        },
        {
          "output_type": "stream",
          "name": "stdout",
          "text": [
            "\n",
            "      Epoch    GPU_mem   box_loss   cls_loss   dfl_loss  Instances       Size\n"
          ]
        },
        {
          "output_type": "stream",
          "name": "stderr",
          "text": [
            "     40/100      2.83G      1.303      1.051      1.147         25        640: 100%|██████████| 8/8 [00:01<00:00,  4.94it/s]\n",
            "                 Class     Images  Instances      Box(P          R      mAP50  mAP50-95): 100%|██████████| 1/1 [00:00<00:00,  4.01it/s]"
          ]
        },
        {
          "output_type": "stream",
          "name": "stdout",
          "text": [
            "                   all         29        166      0.621      0.643      0.607      0.364\n"
          ]
        },
        {
          "output_type": "stream",
          "name": "stderr",
          "text": [
            "\n"
          ]
        },
        {
          "output_type": "stream",
          "name": "stdout",
          "text": [
            "\n",
            "      Epoch    GPU_mem   box_loss   cls_loss   dfl_loss  Instances       Size\n"
          ]
        },
        {
          "output_type": "stream",
          "name": "stderr",
          "text": [
            "     41/100      2.83G      1.212      1.026      1.115         18        640: 100%|██████████| 8/8 [00:01<00:00,  4.92it/s]\n",
            "                 Class     Images  Instances      Box(P          R      mAP50  mAP50-95): 100%|██████████| 1/1 [00:00<00:00,  3.62it/s]"
          ]
        },
        {
          "output_type": "stream",
          "name": "stdout",
          "text": [
            "                   all         29        166      0.622      0.654      0.655      0.378\n"
          ]
        },
        {
          "output_type": "stream",
          "name": "stderr",
          "text": [
            "\n"
          ]
        },
        {
          "output_type": "stream",
          "name": "stdout",
          "text": [
            "\n",
            "      Epoch    GPU_mem   box_loss   cls_loss   dfl_loss  Instances       Size\n"
          ]
        },
        {
          "output_type": "stream",
          "name": "stderr",
          "text": [
            "     42/100      2.83G      1.273      1.002      1.114         31        640: 100%|██████████| 8/8 [00:01<00:00,  4.06it/s]\n",
            "                 Class     Images  Instances      Box(P          R      mAP50  mAP50-95): 100%|██████████| 1/1 [00:00<00:00,  1.51it/s]"
          ]
        },
        {
          "output_type": "stream",
          "name": "stdout",
          "text": [
            "                   all         29        166      0.569      0.693      0.659       0.37\n"
          ]
        },
        {
          "output_type": "stream",
          "name": "stderr",
          "text": [
            "\n"
          ]
        },
        {
          "output_type": "stream",
          "name": "stdout",
          "text": [
            "\n",
            "      Epoch    GPU_mem   box_loss   cls_loss   dfl_loss  Instances       Size\n"
          ]
        },
        {
          "output_type": "stream",
          "name": "stderr",
          "text": [
            "     43/100      2.83G      1.239      1.004      1.114         10        640: 100%|██████████| 8/8 [00:02<00:00,  3.76it/s]\n",
            "                 Class     Images  Instances      Box(P          R      mAP50  mAP50-95): 100%|██████████| 1/1 [00:00<00:00,  3.88it/s]"
          ]
        },
        {
          "output_type": "stream",
          "name": "stdout",
          "text": [
            "                   all         29        166      0.644      0.608      0.651      0.367\n"
          ]
        },
        {
          "output_type": "stream",
          "name": "stderr",
          "text": [
            "\n"
          ]
        },
        {
          "output_type": "stream",
          "name": "stdout",
          "text": [
            "\n",
            "      Epoch    GPU_mem   box_loss   cls_loss   dfl_loss  Instances       Size\n"
          ]
        },
        {
          "output_type": "stream",
          "name": "stderr",
          "text": [
            "     44/100      2.83G      1.303      1.001      1.138         13        640: 100%|██████████| 8/8 [00:01<00:00,  4.80it/s]\n",
            "                 Class     Images  Instances      Box(P          R      mAP50  mAP50-95): 100%|██████████| 1/1 [00:00<00:00,  3.70it/s]"
          ]
        },
        {
          "output_type": "stream",
          "name": "stdout",
          "text": [
            "                   all         29        166      0.559      0.669      0.587      0.319\n"
          ]
        },
        {
          "output_type": "stream",
          "name": "stderr",
          "text": [
            "\n"
          ]
        },
        {
          "output_type": "stream",
          "name": "stdout",
          "text": [
            "\n",
            "      Epoch    GPU_mem   box_loss   cls_loss   dfl_loss  Instances       Size\n"
          ]
        },
        {
          "output_type": "stream",
          "name": "stderr",
          "text": [
            "     45/100      2.83G      1.305      1.047      1.132         16        640: 100%|██████████| 8/8 [00:01<00:00,  4.88it/s]\n",
            "                 Class     Images  Instances      Box(P          R      mAP50  mAP50-95): 100%|██████████| 1/1 [00:00<00:00,  3.52it/s]"
          ]
        },
        {
          "output_type": "stream",
          "name": "stdout",
          "text": [
            "                   all         29        166      0.611       0.62      0.587      0.308\n"
          ]
        },
        {
          "output_type": "stream",
          "name": "stderr",
          "text": [
            "\n"
          ]
        },
        {
          "output_type": "stream",
          "name": "stdout",
          "text": [
            "\n",
            "      Epoch    GPU_mem   box_loss   cls_loss   dfl_loss  Instances       Size\n"
          ]
        },
        {
          "output_type": "stream",
          "name": "stderr",
          "text": [
            "     46/100      2.83G       1.25     0.9621      1.095         23        640: 100%|██████████| 8/8 [00:01<00:00,  4.88it/s]\n",
            "                 Class     Images  Instances      Box(P          R      mAP50  mAP50-95): 100%|██████████| 1/1 [00:00<00:00,  3.76it/s]"
          ]
        },
        {
          "output_type": "stream",
          "name": "stdout",
          "text": [
            "                   all         29        166      0.597      0.596      0.615      0.369\n"
          ]
        },
        {
          "output_type": "stream",
          "name": "stderr",
          "text": [
            "\n"
          ]
        },
        {
          "output_type": "stream",
          "name": "stdout",
          "text": [
            "\n",
            "      Epoch    GPU_mem   box_loss   cls_loss   dfl_loss  Instances       Size\n"
          ]
        },
        {
          "output_type": "stream",
          "name": "stderr",
          "text": [
            "     47/100      2.83G      1.252       1.15      1.163          6        640: 100%|██████████| 8/8 [00:01<00:00,  5.13it/s]\n",
            "                 Class     Images  Instances      Box(P          R      mAP50  mAP50-95): 100%|██████████| 1/1 [00:00<00:00,  2.54it/s]"
          ]
        },
        {
          "output_type": "stream",
          "name": "stdout",
          "text": [
            "                   all         29        166      0.601       0.62      0.655      0.382\n"
          ]
        },
        {
          "output_type": "stream",
          "name": "stderr",
          "text": [
            "\n"
          ]
        },
        {
          "output_type": "stream",
          "name": "stdout",
          "text": [
            "\n",
            "      Epoch    GPU_mem   box_loss   cls_loss   dfl_loss  Instances       Size\n"
          ]
        },
        {
          "output_type": "stream",
          "name": "stderr",
          "text": [
            "     48/100      2.83G      1.215     0.8952      1.095         10        640: 100%|██████████| 8/8 [00:02<00:00,  3.38it/s]\n",
            "                 Class     Images  Instances      Box(P          R      mAP50  mAP50-95): 100%|██████████| 1/1 [00:00<00:00,  1.71it/s]"
          ]
        },
        {
          "output_type": "stream",
          "name": "stdout",
          "text": [
            "                   all         29        166      0.542      0.602      0.588      0.339\n"
          ]
        },
        {
          "output_type": "stream",
          "name": "stderr",
          "text": [
            "\n"
          ]
        },
        {
          "output_type": "stream",
          "name": "stdout",
          "text": [
            "\n",
            "      Epoch    GPU_mem   box_loss   cls_loss   dfl_loss  Instances       Size\n"
          ]
        },
        {
          "output_type": "stream",
          "name": "stderr",
          "text": [
            "     49/100      2.83G      1.247     0.9456      1.111         26        640: 100%|██████████| 8/8 [00:01<00:00,  5.16it/s]\n",
            "                 Class     Images  Instances      Box(P          R      mAP50  mAP50-95): 100%|██████████| 1/1 [00:00<00:00,  2.91it/s]"
          ]
        },
        {
          "output_type": "stream",
          "name": "stdout",
          "text": [
            "                   all         29        166      0.607      0.632      0.623      0.357\n"
          ]
        },
        {
          "output_type": "stream",
          "name": "stderr",
          "text": [
            "\n"
          ]
        },
        {
          "output_type": "stream",
          "name": "stdout",
          "text": [
            "\n",
            "      Epoch    GPU_mem   box_loss   cls_loss   dfl_loss  Instances       Size\n"
          ]
        },
        {
          "output_type": "stream",
          "name": "stderr",
          "text": [
            "     50/100      2.83G      1.314     0.9866      1.125         20        640: 100%|██████████| 8/8 [00:01<00:00,  5.05it/s]\n",
            "                 Class     Images  Instances      Box(P          R      mAP50  mAP50-95): 100%|██████████| 1/1 [00:00<00:00,  3.65it/s]"
          ]
        },
        {
          "output_type": "stream",
          "name": "stdout",
          "text": [
            "                   all         29        166      0.691       0.58      0.654      0.393\n"
          ]
        },
        {
          "output_type": "stream",
          "name": "stderr",
          "text": [
            "\n"
          ]
        },
        {
          "output_type": "stream",
          "name": "stdout",
          "text": [
            "\n",
            "      Epoch    GPU_mem   box_loss   cls_loss   dfl_loss  Instances       Size\n"
          ]
        },
        {
          "output_type": "stream",
          "name": "stderr",
          "text": [
            "     51/100      2.83G      1.227     0.9442      1.093         12        640: 100%|██████████| 8/8 [00:01<00:00,  4.84it/s]\n",
            "                 Class     Images  Instances      Box(P          R      mAP50  mAP50-95): 100%|██████████| 1/1 [00:00<00:00,  3.85it/s]"
          ]
        },
        {
          "output_type": "stream",
          "name": "stdout",
          "text": [
            "                   all         29        166       0.65       0.59      0.611      0.363\n"
          ]
        },
        {
          "output_type": "stream",
          "name": "stderr",
          "text": [
            "\n"
          ]
        },
        {
          "output_type": "stream",
          "name": "stdout",
          "text": [
            "\n",
            "      Epoch    GPU_mem   box_loss   cls_loss   dfl_loss  Instances       Size\n"
          ]
        },
        {
          "output_type": "stream",
          "name": "stderr",
          "text": [
            "     52/100      2.83G       1.35      1.066      1.134         11        640: 100%|██████████| 8/8 [00:01<00:00,  5.14it/s]\n",
            "                 Class     Images  Instances      Box(P          R      mAP50  mAP50-95): 100%|██████████| 1/1 [00:00<00:00,  3.98it/s]"
          ]
        },
        {
          "output_type": "stream",
          "name": "stdout",
          "text": [
            "                   all         29        166      0.595      0.584      0.528      0.299\n"
          ]
        },
        {
          "output_type": "stream",
          "name": "stderr",
          "text": [
            "\n"
          ]
        },
        {
          "output_type": "stream",
          "name": "stdout",
          "text": [
            "\n",
            "      Epoch    GPU_mem   box_loss   cls_loss   dfl_loss  Instances       Size\n"
          ]
        },
        {
          "output_type": "stream",
          "name": "stderr",
          "text": [
            "     53/100      2.84G      1.237     0.9235      1.127         13        640: 100%|██████████| 8/8 [00:01<00:00,  4.62it/s]\n",
            "                 Class     Images  Instances      Box(P          R      mAP50  mAP50-95): 100%|██████████| 1/1 [00:00<00:00,  2.10it/s]"
          ]
        },
        {
          "output_type": "stream",
          "name": "stdout",
          "text": [
            "                   all         29        166      0.664      0.554      0.548      0.312\n"
          ]
        },
        {
          "output_type": "stream",
          "name": "stderr",
          "text": [
            "\n"
          ]
        },
        {
          "output_type": "stream",
          "name": "stdout",
          "text": [
            "\n",
            "      Epoch    GPU_mem   box_loss   cls_loss   dfl_loss  Instances       Size\n"
          ]
        },
        {
          "output_type": "stream",
          "name": "stderr",
          "text": [
            "     54/100      2.84G      1.153      0.892      1.077         16        640: 100%|██████████| 8/8 [00:02<00:00,  3.19it/s]\n",
            "                 Class     Images  Instances      Box(P          R      mAP50  mAP50-95): 100%|██████████| 1/1 [00:00<00:00,  2.83it/s]"
          ]
        },
        {
          "output_type": "stream",
          "name": "stdout",
          "text": [
            "                   all         29        166      0.654      0.572      0.594      0.361\n"
          ]
        },
        {
          "output_type": "stream",
          "name": "stderr",
          "text": [
            "\n"
          ]
        },
        {
          "output_type": "stream",
          "name": "stdout",
          "text": [
            "\n",
            "      Epoch    GPU_mem   box_loss   cls_loss   dfl_loss  Instances       Size\n"
          ]
        },
        {
          "output_type": "stream",
          "name": "stderr",
          "text": [
            "     55/100      2.84G      1.196     0.8957      1.065         52        640: 100%|██████████| 8/8 [00:01<00:00,  5.08it/s]\n",
            "                 Class     Images  Instances      Box(P          R      mAP50  mAP50-95): 100%|██████████| 1/1 [00:00<00:00,  2.82it/s]"
          ]
        },
        {
          "output_type": "stream",
          "name": "stdout",
          "text": [
            "                   all         29        166      0.675       0.59      0.616       0.35\n"
          ]
        },
        {
          "output_type": "stream",
          "name": "stderr",
          "text": [
            "\n"
          ]
        },
        {
          "output_type": "stream",
          "name": "stdout",
          "text": [
            "\n",
            "      Epoch    GPU_mem   box_loss   cls_loss   dfl_loss  Instances       Size\n"
          ]
        },
        {
          "output_type": "stream",
          "name": "stderr",
          "text": [
            "     56/100      2.84G       1.23     0.8703       1.07         38        640: 100%|██████████| 8/8 [00:01<00:00,  4.84it/s]\n",
            "                 Class     Images  Instances      Box(P          R      mAP50  mAP50-95): 100%|██████████| 1/1 [00:00<00:00,  4.71it/s]"
          ]
        },
        {
          "output_type": "stream",
          "name": "stdout",
          "text": [
            "                   all         29        166       0.69      0.614      0.638      0.359\n"
          ]
        },
        {
          "output_type": "stream",
          "name": "stderr",
          "text": [
            "\n"
          ]
        },
        {
          "output_type": "stream",
          "name": "stdout",
          "text": [
            "\n",
            "      Epoch    GPU_mem   box_loss   cls_loss   dfl_loss  Instances       Size\n"
          ]
        },
        {
          "output_type": "stream",
          "name": "stderr",
          "text": [
            "     57/100      2.84G       1.22     0.9216      1.077         15        640: 100%|██████████| 8/8 [00:01<00:00,  5.21it/s]\n",
            "                 Class     Images  Instances      Box(P          R      mAP50  mAP50-95): 100%|██████████| 1/1 [00:00<00:00,  3.34it/s]"
          ]
        },
        {
          "output_type": "stream",
          "name": "stdout",
          "text": [
            "                   all         29        166      0.727      0.614      0.676      0.385\n"
          ]
        },
        {
          "output_type": "stream",
          "name": "stderr",
          "text": [
            "\n"
          ]
        },
        {
          "output_type": "stream",
          "name": "stdout",
          "text": [
            "\n",
            "      Epoch    GPU_mem   box_loss   cls_loss   dfl_loss  Instances       Size\n"
          ]
        },
        {
          "output_type": "stream",
          "name": "stderr",
          "text": [
            "     58/100      2.84G      1.208     0.8876      1.105         12        640: 100%|██████████| 8/8 [00:01<00:00,  4.86it/s]\n",
            "                 Class     Images  Instances      Box(P          R      mAP50  mAP50-95): 100%|██████████| 1/1 [00:00<00:00,  4.39it/s]"
          ]
        },
        {
          "output_type": "stream",
          "name": "stdout",
          "text": [
            "                   all         29        166      0.722      0.614      0.682      0.379\n",
            "\u001b[34m\u001b[1mEarlyStopping: \u001b[0mTraining stopped early as no improvement observed in last 20 epochs. Best results observed at epoch 38, best model saved as best.pt.\n",
            "To update EarlyStopping(patience=20) pass a new patience value, i.e. `patience=300` or use `patience=0` to disable EarlyStopping.\n"
          ]
        },
        {
          "output_type": "stream",
          "name": "stderr",
          "text": [
            "\n"
          ]
        },
        {
          "output_type": "stream",
          "name": "stdout",
          "text": [
            "\n",
            "58 epochs completed in 0.044 hours.\n",
            "Optimizer stripped from runs/detect/crater_model2/weights/last.pt, 6.2MB\n",
            "Optimizer stripped from runs/detect/crater_model2/weights/best.pt, 6.2MB\n",
            "\n",
            "Validating runs/detect/crater_model2/weights/best.pt...\n",
            "Ultralytics 8.3.111 🚀 Python-3.11.12 torch-2.6.0+cu124 CUDA:0 (Tesla T4, 15095MiB)\n",
            "Model summary (fused): 72 layers, 3,005,843 parameters, 0 gradients, 8.1 GFLOPs\n"
          ]
        },
        {
          "output_type": "stream",
          "name": "stderr",
          "text": [
            "                 Class     Images  Instances      Box(P          R      mAP50  mAP50-95): 100%|██████████| 1/1 [00:00<00:00,  2.96it/s]\n"
          ]
        },
        {
          "output_type": "stream",
          "name": "stdout",
          "text": [
            "                   all         29        166      0.694      0.639      0.694      0.427\n",
            "Speed: 0.2ms preprocess, 2.4ms inference, 0.0ms loss, 2.0ms postprocess per image\n",
            "Results saved to \u001b[1mruns/detect/crater_model2\u001b[0m\n"
          ]
        },
        {
          "output_type": "error",
          "ename": "AssertionError",
          "evalue": "No results.csv files found in /content/runs/detect, nothing to plot.",
          "traceback": [
            "\u001b[0;31m---------------------------------------------------------------------------\u001b[0m",
            "\u001b[0;31mAssertionError\u001b[0m                            Traceback (most recent call last)",
            "\u001b[0;32m<ipython-input-7-9ddd64cbf680>\u001b[0m in \u001b[0;36m<cell line: 0>\u001b[0;34m()\u001b[0m\n\u001b[1;32m     24\u001b[0m \u001b[0;31m# Plot training results\u001b[0m\u001b[0;34m\u001b[0m\u001b[0;34m\u001b[0m\u001b[0m\n\u001b[1;32m     25\u001b[0m \u001b[0;32mfrom\u001b[0m \u001b[0multralytics\u001b[0m\u001b[0;34m.\u001b[0m\u001b[0mutils\u001b[0m\u001b[0;34m.\u001b[0m\u001b[0mplotting\u001b[0m \u001b[0;32mimport\u001b[0m \u001b[0mplot_results\u001b[0m\u001b[0;34m\u001b[0m\u001b[0;34m\u001b[0m\u001b[0m\n\u001b[0;32m---> 26\u001b[0;31m \u001b[0mplot_results\u001b[0m\u001b[0;34m(\u001b[0m\u001b[0mfile\u001b[0m\u001b[0;34m=\u001b[0m\u001b[0;34m'/content/runs/detect/crater_model'\u001b[0m\u001b[0;34m)\u001b[0m  \u001b[0;31m# Plot results\u001b[0m\u001b[0;34m\u001b[0m\u001b[0;34m\u001b[0m\u001b[0m\n\u001b[0m\u001b[1;32m     27\u001b[0m \u001b[0;34m\u001b[0m\u001b[0m\n\u001b[1;32m     28\u001b[0m \u001b[0;31m# Export the model\u001b[0m\u001b[0;34m\u001b[0m\u001b[0;34m\u001b[0m\u001b[0m\n",
            "\u001b[0;32m/usr/local/lib/python3.11/dist-packages/ultralytics/utils/__init__.py\u001b[0m in \u001b[0;36mwrapper\u001b[0;34m(*args, **kwargs)\u001b[0m\n\u001b[1;32m    342\u001b[0m             \u001b[0;32mtry\u001b[0m\u001b[0;34m:\u001b[0m\u001b[0;34m\u001b[0m\u001b[0;34m\u001b[0m\u001b[0m\n\u001b[1;32m    343\u001b[0m                 \u001b[0;32mwith\u001b[0m \u001b[0mplt\u001b[0m\u001b[0;34m.\u001b[0m\u001b[0mrc_context\u001b[0m\u001b[0;34m(\u001b[0m\u001b[0mrcparams\u001b[0m\u001b[0;34m)\u001b[0m\u001b[0;34m:\u001b[0m\u001b[0;34m\u001b[0m\u001b[0;34m\u001b[0m\u001b[0m\n\u001b[0;32m--> 344\u001b[0;31m                     \u001b[0mresult\u001b[0m \u001b[0;34m=\u001b[0m \u001b[0mfunc\u001b[0m\u001b[0;34m(\u001b[0m\u001b[0;34m*\u001b[0m\u001b[0margs\u001b[0m\u001b[0;34m,\u001b[0m \u001b[0;34m**\u001b[0m\u001b[0mkwargs\u001b[0m\u001b[0;34m)\u001b[0m\u001b[0;34m\u001b[0m\u001b[0;34m\u001b[0m\u001b[0m\n\u001b[0m\u001b[1;32m    345\u001b[0m             \u001b[0;32mfinally\u001b[0m\u001b[0;34m:\u001b[0m\u001b[0;34m\u001b[0m\u001b[0;34m\u001b[0m\u001b[0m\n\u001b[1;32m    346\u001b[0m                 \u001b[0;32mif\u001b[0m \u001b[0mswitch\u001b[0m\u001b[0;34m:\u001b[0m\u001b[0;34m\u001b[0m\u001b[0;34m\u001b[0m\u001b[0m\n",
            "\u001b[0;32m/usr/local/lib/python3.11/dist-packages/ultralytics/utils/plotting.py\u001b[0m in \u001b[0;36mplot_results\u001b[0;34m(file, dir, segment, pose, classify, on_plot)\u001b[0m\n\u001b[1;32m    840\u001b[0m     \u001b[0max\u001b[0m \u001b[0;34m=\u001b[0m \u001b[0max\u001b[0m\u001b[0;34m.\u001b[0m\u001b[0mravel\u001b[0m\u001b[0;34m(\u001b[0m\u001b[0;34m)\u001b[0m\u001b[0;34m\u001b[0m\u001b[0;34m\u001b[0m\u001b[0m\n\u001b[1;32m    841\u001b[0m     \u001b[0mfiles\u001b[0m \u001b[0;34m=\u001b[0m \u001b[0mlist\u001b[0m\u001b[0;34m(\u001b[0m\u001b[0msave_dir\u001b[0m\u001b[0;34m.\u001b[0m\u001b[0mglob\u001b[0m\u001b[0;34m(\u001b[0m\u001b[0;34m\"results*.csv\"\u001b[0m\u001b[0;34m)\u001b[0m\u001b[0;34m)\u001b[0m\u001b[0;34m\u001b[0m\u001b[0;34m\u001b[0m\u001b[0m\n\u001b[0;32m--> 842\u001b[0;31m     \u001b[0;32massert\u001b[0m \u001b[0mlen\u001b[0m\u001b[0;34m(\u001b[0m\u001b[0mfiles\u001b[0m\u001b[0;34m)\u001b[0m\u001b[0;34m,\u001b[0m \u001b[0;34mf\"No results.csv files found in {save_dir.resolve()}, nothing to plot.\"\u001b[0m\u001b[0;34m\u001b[0m\u001b[0;34m\u001b[0m\u001b[0m\n\u001b[0m\u001b[1;32m    843\u001b[0m     \u001b[0;32mfor\u001b[0m \u001b[0mf\u001b[0m \u001b[0;32min\u001b[0m \u001b[0mfiles\u001b[0m\u001b[0;34m:\u001b[0m\u001b[0;34m\u001b[0m\u001b[0;34m\u001b[0m\u001b[0m\n\u001b[1;32m    844\u001b[0m         \u001b[0;32mtry\u001b[0m\u001b[0;34m:\u001b[0m\u001b[0;34m\u001b[0m\u001b[0;34m\u001b[0m\u001b[0m\n",
            "\u001b[0;31mAssertionError\u001b[0m: No results.csv files found in /content/runs/detect, nothing to plot."
          ]
        }
      ]
    },
    {
      "cell_type": "code",
      "source": [
        "# Correct the path for plotting results\n",
        "from ultralytics.utils.plotting import plot_results\n",
        "import glob\n",
        "\n",
        "# Find the results.csv file\n",
        "results_files = glob.glob('/content/runs/detect/crater_model/*.csv')\n",
        "print(f\"Found results files: {results_files}\")\n",
        "\n",
        "if results_files:\n",
        "    # Use the first results file found\n",
        "    plot_results(file=results_files[0])\n",
        "else:\n",
        "    print(\"No results.csv files found, skipping plotting\")"
      ],
      "metadata": {
        "colab": {
          "base_uri": "https://localhost:8080/"
        },
        "id": "pHwVXYXmRgmA",
        "outputId": "eeb450db-25ac-433b-8057-12bda5d8b8f2"
      },
      "execution_count": 8,
      "outputs": [
        {
          "output_type": "stream",
          "name": "stdout",
          "text": [
            "Found results files: ['/content/runs/detect/crater_model/results.csv']\n"
          ]
        }
      ]
    },
    {
      "cell_type": "code",
      "source": [
        "# Load the best model\n",
        "from ultralytics import YOLO\n",
        "model = YOLO('/content/runs/detect/crater_model/weights/best.pt')\n",
        "\n",
        "# Export to ONNX format\n",
        "model.export(format='onnx')\n",
        "print(\"Model exported to ONNX format\")\n",
        "\n",
        "# You can also export to other formats if needed\n",
        "# model.export(format='torchscript')  # TorchScript\n",
        "# model.export(format='openvino')     # OpenVINO"
      ],
      "metadata": {
        "colab": {
          "base_uri": "https://localhost:8080/"
        },
        "id": "q7s2QkxwVEXl",
        "outputId": "a5c27308-41d2-447f-8d48-0a65f80cf6f5"
      },
      "execution_count": 9,
      "outputs": [
        {
          "output_type": "stream",
          "name": "stdout",
          "text": [
            "Ultralytics 8.3.111 🚀 Python-3.11.12 torch-2.6.0+cu124 CPU (Intel Xeon 2.00GHz)\n",
            "Model summary (fused): 72 layers, 3,005,843 parameters, 0 gradients, 8.1 GFLOPs\n",
            "\n",
            "\u001b[34m\u001b[1mPyTorch:\u001b[0m starting from '/content/runs/detect/crater_model/weights/best.pt' with input shape (1, 3, 640, 640) BCHW and output shape(s) (1, 5, 8400) (6.0 MB)\n",
            "\u001b[31m\u001b[1mrequirements:\u001b[0m Ultralytics requirements ['onnx>=1.12.0', 'onnxslim', 'onnxruntime-gpu'] not found, attempting AutoUpdate...\n",
            "Collecting onnx>=1.12.0\n",
            "  Downloading onnx-1.17.0-cp311-cp311-manylinux_2_17_x86_64.manylinux2014_x86_64.whl.metadata (16 kB)\n",
            "Collecting onnxslim\n",
            "  Downloading onnxslim-0.1.50-py3-none-any.whl.metadata (4.8 kB)\n",
            "Collecting onnxruntime-gpu\n",
            "  Downloading onnxruntime_gpu-1.21.0-cp311-cp311-manylinux_2_27_x86_64.manylinux_2_28_x86_64.whl.metadata (4.8 kB)\n",
            "Requirement already satisfied: numpy>=1.20 in /usr/local/lib/python3.11/dist-packages (from onnx>=1.12.0) (2.0.2)\n",
            "Requirement already satisfied: protobuf>=3.20.2 in /usr/local/lib/python3.11/dist-packages (from onnx>=1.12.0) (5.29.4)\n",
            "Requirement already satisfied: sympy in /usr/local/lib/python3.11/dist-packages (from onnxslim) (1.13.1)\n",
            "Requirement already satisfied: packaging in /usr/local/lib/python3.11/dist-packages (from onnxslim) (24.2)\n",
            "Collecting coloredlogs (from onnxruntime-gpu)\n",
            "  Downloading coloredlogs-15.0.1-py2.py3-none-any.whl.metadata (12 kB)\n",
            "Requirement already satisfied: flatbuffers in /usr/local/lib/python3.11/dist-packages (from onnxruntime-gpu) (25.2.10)\n",
            "Collecting humanfriendly>=9.1 (from coloredlogs->onnxruntime-gpu)\n",
            "  Downloading humanfriendly-10.0-py2.py3-none-any.whl.metadata (9.2 kB)\n",
            "Requirement already satisfied: mpmath<1.4,>=1.1.0 in /usr/local/lib/python3.11/dist-packages (from sympy->onnxslim) (1.3.0)\n",
            "Downloading onnx-1.17.0-cp311-cp311-manylinux_2_17_x86_64.manylinux2014_x86_64.whl (16.0 MB)\n",
            "   ━━━━━━━━━━━━━━━━━━━━━━━━━━━━━━━━━━━━━━━━ 16.0/16.0 MB 309.4 MB/s eta 0:00:00\n",
            "Downloading onnxslim-0.1.50-py3-none-any.whl (144 kB)\n",
            "   ━━━━━━━━━━━━━━━━━━━━━━━━━━━━━━━━━━━━━━━ 144.5/144.5 kB 310.8 MB/s eta 0:00:00\n",
            "Downloading onnxruntime_gpu-1.21.0-cp311-cp311-manylinux_2_27_x86_64.manylinux_2_28_x86_64.whl (280.8 MB)\n",
            "   ━━━━━━━━━━━━━━━━━━━━━━━━━━━━━━━━━━━━━━━ 280.8/280.8 MB 218.7 MB/s eta 0:00:00\n",
            "Downloading coloredlogs-15.0.1-py2.py3-none-any.whl (46 kB)\n",
            "   ━━━━━━━━━━━━━━━━━━━━━━━━━━━━━━━━━━━━━━━━ 46.0/46.0 kB 270.1 MB/s eta 0:00:00\n",
            "Downloading humanfriendly-10.0-py2.py3-none-any.whl (86 kB)\n",
            "   ━━━━━━━━━━━━━━━━━━━━━━━━━━━━━━━━━━━━━━━━ 86.8/86.8 kB 249.9 MB/s eta 0:00:00\n",
            "Installing collected packages: onnx, humanfriendly, onnxslim, coloredlogs, onnxruntime-gpu\n",
            "Successfully installed coloredlogs-15.0.1 humanfriendly-10.0 onnx-1.17.0 onnxruntime-gpu-1.21.0 onnxslim-0.1.50\n",
            "\n",
            "\u001b[31m\u001b[1mrequirements:\u001b[0m AutoUpdate success ✅ 17.6s, installed 3 packages: ['onnx>=1.12.0', 'onnxslim', 'onnxruntime-gpu']\n",
            "\u001b[31m\u001b[1mrequirements:\u001b[0m ⚠️ \u001b[1mRestart runtime or rerun command for updates to take effect\u001b[0m\n",
            "\n",
            "\n",
            "\u001b[34m\u001b[1mONNX:\u001b[0m starting export with onnx 1.17.0 opset 19...\n",
            "\u001b[34m\u001b[1mONNX:\u001b[0m slimming with onnxslim 0.1.50...\n",
            "\u001b[34m\u001b[1mONNX:\u001b[0m export success ✅ 18.8s, saved as '/content/runs/detect/crater_model/weights/best.onnx' (11.7 MB)\n",
            "\n",
            "Export complete (20.5s)\n",
            "Results saved to \u001b[1m/content/runs/detect/crater_model/weights\u001b[0m\n",
            "Predict:         yolo predict task=detect model=/content/runs/detect/crater_model/weights/best.onnx imgsz=640  \n",
            "Validate:        yolo val task=detect model=/content/runs/detect/crater_model/weights/best.onnx imgsz=640 data=/content/dataset.yaml  \n",
            "Visualize:       https://netron.app\n",
            "Model exported to ONNX format\n"
          ]
        }
      ]
    },
    {
      "cell_type": "code",
      "source": [
        "# Force TensorFlow to use CPU for this particular task\n",
        "import os\n",
        "os.environ['CUDA_VISIBLE_DEVICES'] = '-1'  # Disable GPU for TensorFlow\n",
        "\n",
        "import numpy as np\n",
        "import cv2\n",
        "from tensorflow.keras.applications import MobileNetV2  # Lighter model\n",
        "from tensorflow.keras.preprocessing import image\n",
        "from tensorflow.keras.applications.mobilenet_v2 import preprocess_input\n",
        "from sklearn.ensemble import RandomForestClassifier\n",
        "import pickle\n",
        "\n",
        "# Create directories for validation dataset\n",
        "!mkdir -p /content/validation_data/planetary\n",
        "!mkdir -p /content/validation_data/non_planetary\n",
        "\n",
        "# Copy some crater images to use as planetary examples\n",
        "import glob\n",
        "planetary_images = glob.glob(\"/content/yolo_dataset/train/images/*\")[:30]\n",
        "for i, img_path in enumerate(planetary_images):\n",
        "    shutil.copy(img_path, f'/content/validation_data/planetary/planet_{i}.jpg')\n",
        "\n",
        "print(\"Please upload some non-planetary images (buildings, people, etc.):\")\n",
        "from google.colab import files\n",
        "uploaded = files.upload()  # Upload non-planetary images\n",
        "for filename in uploaded.keys():\n",
        "    shutil.copy(filename, f'/content/validation_data/non_planetary/{filename}')\n",
        "\n",
        "# Use a lighter model and ensure it runs on CPU\n",
        "base_model = MobileNetV2(weights='imagenet', include_top=False, pooling='avg')\n",
        "\n",
        "def extract_features(img_path):\n",
        "    try:\n",
        "        # Error handling for image loading\n",
        "        try:\n",
        "            img = image.load_img(img_path, target_size=(224, 224))\n",
        "        except Exception as e:\n",
        "            print(f\"Error loading image {img_path}: {e}\")\n",
        "            return None\n",
        "\n",
        "        x = image.img_to_array(img)\n",
        "        x = np.expand_dims(x, axis=0)\n",
        "        x = preprocess_input(x)\n",
        "\n",
        "        # Use with statement to ensure proper cleanup\n",
        "        with tf.device('/cpu:0'):\n",
        "            features = base_model.predict(x, verbose=0)\n",
        "\n",
        "        return features.flatten()\n",
        "    except Exception as e:\n",
        "        print(f\"Feature extraction error for {img_path}: {e}\")\n",
        "        return None\n",
        "\n",
        "# Extract features from all images with error handling\n",
        "features = []\n",
        "labels = []\n",
        "\n",
        "# Planetary images (positive)\n",
        "for img_file in os.listdir('/content/validation_data/planetary'):\n",
        "    if img_file.endswith(('.jpg', '.jpeg', '.png')):\n",
        "        img_path = os.path.join('/content/validation_data/planetary', img_file)\n",
        "        feat = extract_features(img_path)\n",
        "        if feat is not None:\n",
        "            features.append(feat)\n",
        "            labels.append(1)  # 1 for planetary\n",
        "\n",
        "# Non-planetary images (negative)\n",
        "for img_file in os.listdir('/content/validation_data/non_planetary'):\n",
        "    if img_file.endswith(('.jpg', '.jpeg', '.png')):\n",
        "        img_path = os.path.join('/content/validation_data/non_planetary', img_file)\n",
        "        feat = extract_features(img_path)\n",
        "        if feat is not None:\n",
        "            features.append(feat)\n",
        "            labels.append(0)  # 0 for non-planetary\n",
        "\n",
        "# Only proceed if we have sufficient data\n",
        "if len(features) > 5:  # At least a few examples of each class\n",
        "    # Convert to numpy arrays\n",
        "    features = np.array(features)\n",
        "    labels = np.array(labels)\n",
        "\n",
        "    # Split into train/test\n",
        "    from sklearn.model_selection import train_test_split\n",
        "    X_train, X_test, y_train, y_test = train_test_split(features, labels, test_size=0.2, random_state=42)\n",
        "\n",
        "    # Train a classifier\n",
        "    classifier = RandomForestClassifier(n_estimators=100, random_state=42)\n",
        "    classifier.fit(X_train, y_train)\n",
        "\n",
        "    # Evaluate\n",
        "    from sklearn.metrics import classification_report, accuracy_score\n",
        "    y_pred = classifier.predict(X_test)\n",
        "    print(f\"Classifier Accuracy: {accuracy_score(y_test, y_pred):.2f}\")\n",
        "    print(classification_report(y_test, y_pred))\n",
        "\n",
        "    # Save the classifier\n",
        "    with open('/content/planetary_classifier.pkl', 'wb') as f:\n",
        "        pickle.dump(classifier, f)\n",
        "else:\n",
        "    print(\"Not enough valid images found for classifier training.\")\n",
        "\n",
        "    # Create a simple fallback classifier that always predicts \"planetary\"\n",
        "    class FallbackClassifier:\n",
        "        def predict(self, X):\n",
        "            return np.ones(len(X))\n",
        "\n",
        "        def predict_proba(self, X):\n",
        "            probs = np.zeros((len(X), 2))\n",
        "            probs[:, 1] = 1.0  # Always predict class 1 (planetary)\n",
        "            return probs\n",
        "\n",
        "    classifier = FallbackClassifier()\n",
        "    with open('/content/planetary_classifier.pkl', 'wb') as f:\n",
        "        pickle.dump(classifier, f)\n",
        "    print(\"Created fallback classifier that always predicts 'planetary'\")"
      ],
      "metadata": {
        "colab": {
          "base_uri": "https://localhost:8080/",
          "height": 698
        },
        "id": "SajCn7J4VIST",
        "outputId": "9ba99371-7f6a-4fe4-9901-9ee11cc4f233"
      },
      "execution_count": 10,
      "outputs": [
        {
          "output_type": "stream",
          "name": "stdout",
          "text": [
            "Please upload some non-planetary images (buildings, people, etc.):\n"
          ]
        },
        {
          "output_type": "display_data",
          "data": {
            "text/plain": [
              "<IPython.core.display.HTML object>"
            ],
            "text/html": [
              "\n",
              "     <input type=\"file\" id=\"files-7006838d-f374-4113-b49e-bc34ade7b8db\" name=\"files[]\" multiple disabled\n",
              "        style=\"border:none\" />\n",
              "     <output id=\"result-7006838d-f374-4113-b49e-bc34ade7b8db\">\n",
              "      Upload widget is only available when the cell has been executed in the\n",
              "      current browser session. Please rerun this cell to enable.\n",
              "      </output>\n",
              "      <script>// Copyright 2017 Google LLC\n",
              "//\n",
              "// Licensed under the Apache License, Version 2.0 (the \"License\");\n",
              "// you may not use this file except in compliance with the License.\n",
              "// You may obtain a copy of the License at\n",
              "//\n",
              "//      http://www.apache.org/licenses/LICENSE-2.0\n",
              "//\n",
              "// Unless required by applicable law or agreed to in writing, software\n",
              "// distributed under the License is distributed on an \"AS IS\" BASIS,\n",
              "// WITHOUT WARRANTIES OR CONDITIONS OF ANY KIND, either express or implied.\n",
              "// See the License for the specific language governing permissions and\n",
              "// limitations under the License.\n",
              "\n",
              "/**\n",
              " * @fileoverview Helpers for google.colab Python module.\n",
              " */\n",
              "(function(scope) {\n",
              "function span(text, styleAttributes = {}) {\n",
              "  const element = document.createElement('span');\n",
              "  element.textContent = text;\n",
              "  for (const key of Object.keys(styleAttributes)) {\n",
              "    element.style[key] = styleAttributes[key];\n",
              "  }\n",
              "  return element;\n",
              "}\n",
              "\n",
              "// Max number of bytes which will be uploaded at a time.\n",
              "const MAX_PAYLOAD_SIZE = 100 * 1024;\n",
              "\n",
              "function _uploadFiles(inputId, outputId) {\n",
              "  const steps = uploadFilesStep(inputId, outputId);\n",
              "  const outputElement = document.getElementById(outputId);\n",
              "  // Cache steps on the outputElement to make it available for the next call\n",
              "  // to uploadFilesContinue from Python.\n",
              "  outputElement.steps = steps;\n",
              "\n",
              "  return _uploadFilesContinue(outputId);\n",
              "}\n",
              "\n",
              "// This is roughly an async generator (not supported in the browser yet),\n",
              "// where there are multiple asynchronous steps and the Python side is going\n",
              "// to poll for completion of each step.\n",
              "// This uses a Promise to block the python side on completion of each step,\n",
              "// then passes the result of the previous step as the input to the next step.\n",
              "function _uploadFilesContinue(outputId) {\n",
              "  const outputElement = document.getElementById(outputId);\n",
              "  const steps = outputElement.steps;\n",
              "\n",
              "  const next = steps.next(outputElement.lastPromiseValue);\n",
              "  return Promise.resolve(next.value.promise).then((value) => {\n",
              "    // Cache the last promise value to make it available to the next\n",
              "    // step of the generator.\n",
              "    outputElement.lastPromiseValue = value;\n",
              "    return next.value.response;\n",
              "  });\n",
              "}\n",
              "\n",
              "/**\n",
              " * Generator function which is called between each async step of the upload\n",
              " * process.\n",
              " * @param {string} inputId Element ID of the input file picker element.\n",
              " * @param {string} outputId Element ID of the output display.\n",
              " * @return {!Iterable<!Object>} Iterable of next steps.\n",
              " */\n",
              "function* uploadFilesStep(inputId, outputId) {\n",
              "  const inputElement = document.getElementById(inputId);\n",
              "  inputElement.disabled = false;\n",
              "\n",
              "  const outputElement = document.getElementById(outputId);\n",
              "  outputElement.innerHTML = '';\n",
              "\n",
              "  const pickedPromise = new Promise((resolve) => {\n",
              "    inputElement.addEventListener('change', (e) => {\n",
              "      resolve(e.target.files);\n",
              "    });\n",
              "  });\n",
              "\n",
              "  const cancel = document.createElement('button');\n",
              "  inputElement.parentElement.appendChild(cancel);\n",
              "  cancel.textContent = 'Cancel upload';\n",
              "  const cancelPromise = new Promise((resolve) => {\n",
              "    cancel.onclick = () => {\n",
              "      resolve(null);\n",
              "    };\n",
              "  });\n",
              "\n",
              "  // Wait for the user to pick the files.\n",
              "  const files = yield {\n",
              "    promise: Promise.race([pickedPromise, cancelPromise]),\n",
              "    response: {\n",
              "      action: 'starting',\n",
              "    }\n",
              "  };\n",
              "\n",
              "  cancel.remove();\n",
              "\n",
              "  // Disable the input element since further picks are not allowed.\n",
              "  inputElement.disabled = true;\n",
              "\n",
              "  if (!files) {\n",
              "    return {\n",
              "      response: {\n",
              "        action: 'complete',\n",
              "      }\n",
              "    };\n",
              "  }\n",
              "\n",
              "  for (const file of files) {\n",
              "    const li = document.createElement('li');\n",
              "    li.append(span(file.name, {fontWeight: 'bold'}));\n",
              "    li.append(span(\n",
              "        `(${file.type || 'n/a'}) - ${file.size} bytes, ` +\n",
              "        `last modified: ${\n",
              "            file.lastModifiedDate ? file.lastModifiedDate.toLocaleDateString() :\n",
              "                                    'n/a'} - `));\n",
              "    const percent = span('0% done');\n",
              "    li.appendChild(percent);\n",
              "\n",
              "    outputElement.appendChild(li);\n",
              "\n",
              "    const fileDataPromise = new Promise((resolve) => {\n",
              "      const reader = new FileReader();\n",
              "      reader.onload = (e) => {\n",
              "        resolve(e.target.result);\n",
              "      };\n",
              "      reader.readAsArrayBuffer(file);\n",
              "    });\n",
              "    // Wait for the data to be ready.\n",
              "    let fileData = yield {\n",
              "      promise: fileDataPromise,\n",
              "      response: {\n",
              "        action: 'continue',\n",
              "      }\n",
              "    };\n",
              "\n",
              "    // Use a chunked sending to avoid message size limits. See b/62115660.\n",
              "    let position = 0;\n",
              "    do {\n",
              "      const length = Math.min(fileData.byteLength - position, MAX_PAYLOAD_SIZE);\n",
              "      const chunk = new Uint8Array(fileData, position, length);\n",
              "      position += length;\n",
              "\n",
              "      const base64 = btoa(String.fromCharCode.apply(null, chunk));\n",
              "      yield {\n",
              "        response: {\n",
              "          action: 'append',\n",
              "          file: file.name,\n",
              "          data: base64,\n",
              "        },\n",
              "      };\n",
              "\n",
              "      let percentDone = fileData.byteLength === 0 ?\n",
              "          100 :\n",
              "          Math.round((position / fileData.byteLength) * 100);\n",
              "      percent.textContent = `${percentDone}% done`;\n",
              "\n",
              "    } while (position < fileData.byteLength);\n",
              "  }\n",
              "\n",
              "  // All done.\n",
              "  yield {\n",
              "    response: {\n",
              "      action: 'complete',\n",
              "    }\n",
              "  };\n",
              "}\n",
              "\n",
              "scope.google = scope.google || {};\n",
              "scope.google.colab = scope.google.colab || {};\n",
              "scope.google.colab._files = {\n",
              "  _uploadFiles,\n",
              "  _uploadFilesContinue,\n",
              "};\n",
              "})(self);\n",
              "</script> "
            ]
          },
          "metadata": {}
        },
        {
          "output_type": "stream",
          "name": "stdout",
          "text": [
            "Saving I am sharing 'Scan 07 Dec 24 22·40·03' with you.jpg to I am sharing 'Scan 07 Dec 24 22·40·03' with you.jpg\n",
            "Downloading data from https://storage.googleapis.com/tensorflow/keras-applications/mobilenet_v2/mobilenet_v2_weights_tf_dim_ordering_tf_kernels_1.0_224_no_top.h5\n",
            "\u001b[1m9406464/9406464\u001b[0m \u001b[32m━━━━━━━━━━━━━━━━━━━━\u001b[0m\u001b[37m\u001b[0m \u001b[1m2s\u001b[0m 0us/step\n",
            "Feature extraction error for /content/validation_data/planetary/planet_21.jpg: name 'tf' is not defined\n",
            "Feature extraction error for /content/validation_data/planetary/planet_23.jpg: name 'tf' is not defined\n",
            "Feature extraction error for /content/validation_data/planetary/planet_15.jpg: name 'tf' is not defined\n",
            "Feature extraction error for /content/validation_data/planetary/planet_8.jpg: name 'tf' is not defined\n",
            "Feature extraction error for /content/validation_data/planetary/planet_17.jpg: name 'tf' is not defined\n",
            "Feature extraction error for /content/validation_data/planetary/planet_9.jpg: name 'tf' is not defined\n",
            "Feature extraction error for /content/validation_data/planetary/planet_0.jpg: name 'tf' is not defined\n",
            "Feature extraction error for /content/validation_data/planetary/planet_27.jpg: name 'tf' is not defined\n",
            "Feature extraction error for /content/validation_data/planetary/planet_10.jpg: name 'tf' is not defined\n",
            "Feature extraction error for /content/validation_data/planetary/planet_24.jpg: name 'tf' is not defined\n",
            "Feature extraction error for /content/validation_data/planetary/planet_6.jpg: name 'tf' is not defined\n",
            "Feature extraction error for /content/validation_data/planetary/planet_13.jpg: name 'tf' is not defined\n",
            "Feature extraction error for /content/validation_data/planetary/planet_22.jpg: name 'tf' is not defined\n",
            "Feature extraction error for /content/validation_data/planetary/planet_29.jpg: name 'tf' is not defined\n",
            "Feature extraction error for /content/validation_data/planetary/planet_11.jpg: name 'tf' is not defined\n",
            "Feature extraction error for /content/validation_data/planetary/planet_28.jpg: name 'tf' is not defined\n",
            "Feature extraction error for /content/validation_data/planetary/planet_19.jpg: name 'tf' is not defined\n",
            "Feature extraction error for /content/validation_data/planetary/planet_25.jpg: name 'tf' is not defined\n",
            "Feature extraction error for /content/validation_data/planetary/planet_5.jpg: name 'tf' is not defined\n",
            "Feature extraction error for /content/validation_data/planetary/planet_14.jpg: name 'tf' is not defined\n",
            "Feature extraction error for /content/validation_data/planetary/planet_7.jpg: name 'tf' is not defined\n",
            "Feature extraction error for /content/validation_data/planetary/planet_1.jpg: name 'tf' is not defined\n",
            "Feature extraction error for /content/validation_data/planetary/planet_3.jpg: name 'tf' is not defined\n",
            "Feature extraction error for /content/validation_data/planetary/planet_12.jpg: name 'tf' is not defined\n",
            "Feature extraction error for /content/validation_data/planetary/planet_26.jpg: name 'tf' is not defined\n",
            "Feature extraction error for /content/validation_data/planetary/planet_18.jpg: name 'tf' is not defined\n",
            "Feature extraction error for /content/validation_data/planetary/planet_4.jpg: name 'tf' is not defined\n",
            "Feature extraction error for /content/validation_data/planetary/planet_20.jpg: name 'tf' is not defined\n",
            "Feature extraction error for /content/validation_data/planetary/planet_16.jpg: name 'tf' is not defined\n",
            "Feature extraction error for /content/validation_data/planetary/planet_2.jpg: name 'tf' is not defined\n",
            "Feature extraction error for /content/validation_data/non_planetary/I am sharing 'Scan 07 Dec 24 22·40·03' with you.jpg: name 'tf' is not defined\n",
            "Not enough valid images found for classifier training.\n",
            "Created fallback classifier that always predicts 'planetary'\n"
          ]
        }
      ]
    },
    {
      "cell_type": "code",
      "source": [
        "def is_planetary_surface(image_path, classifier, feature_extractor=extract_features):\n",
        "    \"\"\"Check if an image is a planetary surface\"\"\"\n",
        "    # Handle array input (from video frames)\n",
        "    if isinstance(image_path, np.ndarray):\n",
        "        # Save temporarily and process\n",
        "        temp_path = '/content/temp_image.jpg'\n",
        "        cv2.imwrite(temp_path, image_path)\n",
        "        image_path = temp_path\n",
        "\n",
        "    features = feature_extractor(image_path)\n",
        "    prediction = classifier.predict_proba([features])[0]\n",
        "    return prediction[1] > 0.5  # Threshold can be adjusted\n",
        "\n",
        "def process_image(image_path, yolo_model, surface_classifier):\n",
        "    \"\"\"Process a single image with validation\"\"\"\n",
        "    # Handle array input\n",
        "    if isinstance(image_path, np.ndarray):\n",
        "        # Save temporarily and process\n",
        "        temp_path = '/content/temp_image.jpg'\n",
        "        cv2.imwrite(temp_path, image_path)\n",
        "        image_path = temp_path\n",
        "\n",
        "    # Check if the image is a planetary surface\n",
        "    if not is_planetary_surface(image_path, surface_classifier):\n",
        "        print(\"WARNING: Image doesn't appear to be a planetary surface!\")\n",
        "\n",
        "        # Load image for visualization\n",
        "        img = cv2.imread(image_path)\n",
        "        # Add warning text\n",
        "        cv2.putText(img, \"WARNING: Not a planetary surface\", (10, 30),\n",
        "                    cv2.FONT_HERSHEY_SIMPLEX, 1, (0, 0, 255), 2)\n",
        "        return img, \"Not a planetary surface\"\n",
        "\n",
        "    # Process with YOLOv8\n",
        "    results = yolo_model.predict(image_path)\n",
        "    return results[0].plot(), \"Success\"\n",
        "\n",
        "def process_video(video_path, yolo_model, surface_classifier, output_path='output_video.mp4'):\n",
        "    \"\"\"Process a video with validation on key frames\"\"\"\n",
        "    # Open the video file\n",
        "    cap = cv2.VideoCapture(video_path)\n",
        "\n",
        "    # Get video properties\n",
        "    width = int(cap.get(cv2.CAP_PROP_FRAME_WIDTH))\n",
        "    height = int(cap.get(cv2.CAP_PROP_FRAME_HEIGHT))\n",
        "    fps = cap.get(cv2.CAP_PROP_FPS)\n",
        "    total_frames = int(cap.get(cv2.CAP_PROP_FRAME_COUNT))\n",
        "\n",
        "    # Create video writer\n",
        "    fourcc = cv2.VideoWriter_fourcc(*'mp4v')\n",
        "    out = cv2.VideoWriter(output_path, fourcc, fps, (width, height))\n",
        "\n",
        "    # Process frames\n",
        "    frame_count = 0\n",
        "    is_valid = True\n",
        "    check_interval = 30  # Check every 30 frames\n",
        "\n",
        "    while cap.isOpened():\n",
        "        ret, frame = cap.read()\n",
        "        if not ret:\n",
        "            break\n",
        "\n",
        "        # Check if frame is a planetary surface (every N frames)\n",
        "        if frame_count % check_interval == 0:\n",
        "            # Save frame temporarily\n",
        "            temp_frame_path = '/content/temp_frame.jpg'\n",
        "            cv2.imwrite(temp_frame_path, frame)\n",
        "\n",
        "            # Check if it's a planetary surface\n",
        "            is_valid = is_planetary_surface(temp_frame_path, surface_classifier)\n",
        "\n",
        "        # Add warning if not a planetary surface\n",
        "        if not is_valid:\n",
        "            cv2.putText(frame, \"WARNING: Not a planetary surface\", (10, 50),\n",
        "                        cv2.FONT_HERSHEY_SIMPLEX, 1, (0, 0, 255), 2)\n",
        "\n",
        "        # Process with YOLOv8\n",
        "        results = yolo_model(frame)\n",
        "        annotated_frame = results[0].plot()\n",
        "\n",
        "        # Write frame\n",
        "        out.write(annotated_frame)\n",
        "        frame_count += 1\n",
        "\n",
        "        # Print progress\n",
        "        if frame_count % 100 == 0:\n",
        "            print(f\"Processed {frame_count}/{total_frames} frames\")\n",
        "\n",
        "    # Release resources\n",
        "    cap.release()\n",
        "    out.release()\n",
        "    return output_path"
      ],
      "metadata": {
        "id": "EDlp-kxWVXUD"
      },
      "execution_count": 11,
      "outputs": []
    },
    {
      "cell_type": "code",
      "source": [
        "# Load your trained YOLOv8 model\n",
        "yolo_model = YOLO('/content/runs/detect/crater_model/weights/best.pt')\n",
        "\n",
        "# Load the planetary surface classifier\n",
        "with open('/content/planetary_classifier.pkl', 'rb') as f:\n",
        "    surface_classifier = pickle.load(f)\n",
        "\n",
        "# Test on a planetary image\n",
        "print(\"Upload a planetary surface image to test:\")\n",
        "uploaded = files.upload()\n",
        "test_image_path = list(uploaded.keys())[0]\n",
        "result_img, status = process_image(test_image_path, yolo_model, surface_classifier)\n",
        "\n",
        "# Display the result\n",
        "import matplotlib.pyplot as plt\n",
        "plt.figure(figsize=(12, 8))\n",
        "plt.imshow(cv2.cvtColor(result_img, cv2.COLOR_BGR2RGB))\n",
        "plt.axis('off')\n",
        "plt.title(status)\n",
        "plt.show()\n",
        "\n",
        "# Test on a non-planetary image\n",
        "print(\"Upload a non-planetary image to test:\")\n",
        "uploaded = files.upload()\n",
        "test_image_path = list(uploaded.keys())[0]\n",
        "result_img, status = process_image(test_image_path, yolo_model, surface_classifier)\n",
        "\n",
        "# Display the result\n",
        "plt.figure(figsize=(12, 8))\n",
        "plt.imshow(cv2.cvtColor(result_img, cv2.COLOR_BGR2RGB))\n",
        "plt.axis('off')\n",
        "plt.title(status)\n",
        "plt.show()"
      ],
      "metadata": {
        "colab": {
          "base_uri": "https://localhost:8080/",
          "height": 249
        },
        "id": "wbMmfSsLWpV6",
        "outputId": "aaa3dc80-3fbe-4b95-a625-4f73d9309b2d"
      },
      "execution_count": 16,
      "outputs": [
        {
          "output_type": "stream",
          "name": "stdout",
          "text": [
            "Upload a planetary surface image to test:\n"
          ]
        },
        {
          "output_type": "display_data",
          "data": {
            "text/plain": [
              "<IPython.core.display.HTML object>"
            ],
            "text/html": [
              "\n",
              "     <input type=\"file\" id=\"files-42cf8d65-0922-47fa-a90a-37f23216c882\" name=\"files[]\" multiple disabled\n",
              "        style=\"border:none\" />\n",
              "     <output id=\"result-42cf8d65-0922-47fa-a90a-37f23216c882\">\n",
              "      Upload widget is only available when the cell has been executed in the\n",
              "      current browser session. Please rerun this cell to enable.\n",
              "      </output>\n",
              "      <script>// Copyright 2017 Google LLC\n",
              "//\n",
              "// Licensed under the Apache License, Version 2.0 (the \"License\");\n",
              "// you may not use this file except in compliance with the License.\n",
              "// You may obtain a copy of the License at\n",
              "//\n",
              "//      http://www.apache.org/licenses/LICENSE-2.0\n",
              "//\n",
              "// Unless required by applicable law or agreed to in writing, software\n",
              "// distributed under the License is distributed on an \"AS IS\" BASIS,\n",
              "// WITHOUT WARRANTIES OR CONDITIONS OF ANY KIND, either express or implied.\n",
              "// See the License for the specific language governing permissions and\n",
              "// limitations under the License.\n",
              "\n",
              "/**\n",
              " * @fileoverview Helpers for google.colab Python module.\n",
              " */\n",
              "(function(scope) {\n",
              "function span(text, styleAttributes = {}) {\n",
              "  const element = document.createElement('span');\n",
              "  element.textContent = text;\n",
              "  for (const key of Object.keys(styleAttributes)) {\n",
              "    element.style[key] = styleAttributes[key];\n",
              "  }\n",
              "  return element;\n",
              "}\n",
              "\n",
              "// Max number of bytes which will be uploaded at a time.\n",
              "const MAX_PAYLOAD_SIZE = 100 * 1024;\n",
              "\n",
              "function _uploadFiles(inputId, outputId) {\n",
              "  const steps = uploadFilesStep(inputId, outputId);\n",
              "  const outputElement = document.getElementById(outputId);\n",
              "  // Cache steps on the outputElement to make it available for the next call\n",
              "  // to uploadFilesContinue from Python.\n",
              "  outputElement.steps = steps;\n",
              "\n",
              "  return _uploadFilesContinue(outputId);\n",
              "}\n",
              "\n",
              "// This is roughly an async generator (not supported in the browser yet),\n",
              "// where there are multiple asynchronous steps and the Python side is going\n",
              "// to poll for completion of each step.\n",
              "// This uses a Promise to block the python side on completion of each step,\n",
              "// then passes the result of the previous step as the input to the next step.\n",
              "function _uploadFilesContinue(outputId) {\n",
              "  const outputElement = document.getElementById(outputId);\n",
              "  const steps = outputElement.steps;\n",
              "\n",
              "  const next = steps.next(outputElement.lastPromiseValue);\n",
              "  return Promise.resolve(next.value.promise).then((value) => {\n",
              "    // Cache the last promise value to make it available to the next\n",
              "    // step of the generator.\n",
              "    outputElement.lastPromiseValue = value;\n",
              "    return next.value.response;\n",
              "  });\n",
              "}\n",
              "\n",
              "/**\n",
              " * Generator function which is called between each async step of the upload\n",
              " * process.\n",
              " * @param {string} inputId Element ID of the input file picker element.\n",
              " * @param {string} outputId Element ID of the output display.\n",
              " * @return {!Iterable<!Object>} Iterable of next steps.\n",
              " */\n",
              "function* uploadFilesStep(inputId, outputId) {\n",
              "  const inputElement = document.getElementById(inputId);\n",
              "  inputElement.disabled = false;\n",
              "\n",
              "  const outputElement = document.getElementById(outputId);\n",
              "  outputElement.innerHTML = '';\n",
              "\n",
              "  const pickedPromise = new Promise((resolve) => {\n",
              "    inputElement.addEventListener('change', (e) => {\n",
              "      resolve(e.target.files);\n",
              "    });\n",
              "  });\n",
              "\n",
              "  const cancel = document.createElement('button');\n",
              "  inputElement.parentElement.appendChild(cancel);\n",
              "  cancel.textContent = 'Cancel upload';\n",
              "  const cancelPromise = new Promise((resolve) => {\n",
              "    cancel.onclick = () => {\n",
              "      resolve(null);\n",
              "    };\n",
              "  });\n",
              "\n",
              "  // Wait for the user to pick the files.\n",
              "  const files = yield {\n",
              "    promise: Promise.race([pickedPromise, cancelPromise]),\n",
              "    response: {\n",
              "      action: 'starting',\n",
              "    }\n",
              "  };\n",
              "\n",
              "  cancel.remove();\n",
              "\n",
              "  // Disable the input element since further picks are not allowed.\n",
              "  inputElement.disabled = true;\n",
              "\n",
              "  if (!files) {\n",
              "    return {\n",
              "      response: {\n",
              "        action: 'complete',\n",
              "      }\n",
              "    };\n",
              "  }\n",
              "\n",
              "  for (const file of files) {\n",
              "    const li = document.createElement('li');\n",
              "    li.append(span(file.name, {fontWeight: 'bold'}));\n",
              "    li.append(span(\n",
              "        `(${file.type || 'n/a'}) - ${file.size} bytes, ` +\n",
              "        `last modified: ${\n",
              "            file.lastModifiedDate ? file.lastModifiedDate.toLocaleDateString() :\n",
              "                                    'n/a'} - `));\n",
              "    const percent = span('0% done');\n",
              "    li.appendChild(percent);\n",
              "\n",
              "    outputElement.appendChild(li);\n",
              "\n",
              "    const fileDataPromise = new Promise((resolve) => {\n",
              "      const reader = new FileReader();\n",
              "      reader.onload = (e) => {\n",
              "        resolve(e.target.result);\n",
              "      };\n",
              "      reader.readAsArrayBuffer(file);\n",
              "    });\n",
              "    // Wait for the data to be ready.\n",
              "    let fileData = yield {\n",
              "      promise: fileDataPromise,\n",
              "      response: {\n",
              "        action: 'continue',\n",
              "      }\n",
              "    };\n",
              "\n",
              "    // Use a chunked sending to avoid message size limits. See b/62115660.\n",
              "    let position = 0;\n",
              "    do {\n",
              "      const length = Math.min(fileData.byteLength - position, MAX_PAYLOAD_SIZE);\n",
              "      const chunk = new Uint8Array(fileData, position, length);\n",
              "      position += length;\n",
              "\n",
              "      const base64 = btoa(String.fromCharCode.apply(null, chunk));\n",
              "      yield {\n",
              "        response: {\n",
              "          action: 'append',\n",
              "          file: file.name,\n",
              "          data: base64,\n",
              "        },\n",
              "      };\n",
              "\n",
              "      let percentDone = fileData.byteLength === 0 ?\n",
              "          100 :\n",
              "          Math.round((position / fileData.byteLength) * 100);\n",
              "      percent.textContent = `${percentDone}% done`;\n",
              "\n",
              "    } while (position < fileData.byteLength);\n",
              "  }\n",
              "\n",
              "  // All done.\n",
              "  yield {\n",
              "    response: {\n",
              "      action: 'complete',\n",
              "    }\n",
              "  };\n",
              "}\n",
              "\n",
              "scope.google = scope.google || {};\n",
              "scope.google.colab = scope.google.colab || {};\n",
              "scope.google.colab._files = {\n",
              "  _uploadFiles,\n",
              "  _uploadFilesContinue,\n",
              "};\n",
              "})(self);\n",
              "</script> "
            ]
          },
          "metadata": {}
        },
        {
          "output_type": "error",
          "ename": "IndexError",
          "evalue": "list index out of range",
          "traceback": [
            "\u001b[0;31m---------------------------------------------------------------------------\u001b[0m",
            "\u001b[0;31mIndexError\u001b[0m                                Traceback (most recent call last)",
            "\u001b[0;32m<ipython-input-16-7914a7d59e33>\u001b[0m in \u001b[0;36m<cell line: 0>\u001b[0;34m()\u001b[0m\n\u001b[1;32m      9\u001b[0m \u001b[0mprint\u001b[0m\u001b[0;34m(\u001b[0m\u001b[0;34m\"Upload a planetary surface image to test:\"\u001b[0m\u001b[0;34m)\u001b[0m\u001b[0;34m\u001b[0m\u001b[0;34m\u001b[0m\u001b[0m\n\u001b[1;32m     10\u001b[0m \u001b[0muploaded\u001b[0m \u001b[0;34m=\u001b[0m \u001b[0mfiles\u001b[0m\u001b[0;34m.\u001b[0m\u001b[0mupload\u001b[0m\u001b[0;34m(\u001b[0m\u001b[0;34m)\u001b[0m\u001b[0;34m\u001b[0m\u001b[0;34m\u001b[0m\u001b[0m\n\u001b[0;32m---> 11\u001b[0;31m \u001b[0mtest_image_path\u001b[0m \u001b[0;34m=\u001b[0m \u001b[0mlist\u001b[0m\u001b[0;34m(\u001b[0m\u001b[0muploaded\u001b[0m\u001b[0;34m.\u001b[0m\u001b[0mkeys\u001b[0m\u001b[0;34m(\u001b[0m\u001b[0;34m)\u001b[0m\u001b[0;34m)\u001b[0m\u001b[0;34m[\u001b[0m\u001b[0;36m0\u001b[0m\u001b[0;34m]\u001b[0m\u001b[0;34m\u001b[0m\u001b[0;34m\u001b[0m\u001b[0m\n\u001b[0m\u001b[1;32m     12\u001b[0m \u001b[0mresult_img\u001b[0m\u001b[0;34m,\u001b[0m \u001b[0mstatus\u001b[0m \u001b[0;34m=\u001b[0m \u001b[0mprocess_image\u001b[0m\u001b[0;34m(\u001b[0m\u001b[0mtest_image_path\u001b[0m\u001b[0;34m,\u001b[0m \u001b[0myolo_model\u001b[0m\u001b[0;34m,\u001b[0m \u001b[0msurface_classifier\u001b[0m\u001b[0;34m)\u001b[0m\u001b[0;34m\u001b[0m\u001b[0;34m\u001b[0m\u001b[0m\n\u001b[1;32m     13\u001b[0m \u001b[0;34m\u001b[0m\u001b[0m\n",
            "\u001b[0;31mIndexError\u001b[0m: list index out of range"
          ]
        }
      ]
    },
    {
      "cell_type": "code",
      "source": [
        "# Create directory in Google Drive if it doesn't exist\n",
        "!mkdir -p /content/drive/MyDrive/crater_detection\n",
        "\n",
        "# Save models to Google Drive\n",
        "!cp /content/runs/detect/crater_model/weights/best.pt /content/drive/MyDrive/crater_detection/\n",
        "!cp /content/runs/detect/crater_model/weights/best.onnx /content/drive/MyDrive/crater_detection/\n",
        "!cp /content/planetary_classifier.pkl /content/drive/MyDrive/crater_detection/\n",
        "\n",
        "# Download models locally\n",
        "files.download('/content/runs/detect/crater_model/weights/best.pt')\n",
        "files.download('/content/runs/detect/crater_model/weights/best.onnx')\n",
        "files.download('/content/planetary_classifier.pkl')\n",
        "\n",
        "print(\"Models saved successfully!\")"
      ],
      "metadata": {
        "colab": {
          "base_uri": "https://localhost:8080/",
          "height": 34
        },
        "id": "GNv78h77Wte8",
        "outputId": "75372a21-725c-4e65-c000-3a277722137c"
      },
      "execution_count": 13,
      "outputs": [
        {
          "output_type": "display_data",
          "data": {
            "text/plain": [
              "<IPython.core.display.Javascript object>"
            ],
            "application/javascript": [
              "\n",
              "    async function download(id, filename, size) {\n",
              "      if (!google.colab.kernel.accessAllowed) {\n",
              "        return;\n",
              "      }\n",
              "      const div = document.createElement('div');\n",
              "      const label = document.createElement('label');\n",
              "      label.textContent = `Downloading \"${filename}\": `;\n",
              "      div.appendChild(label);\n",
              "      const progress = document.createElement('progress');\n",
              "      progress.max = size;\n",
              "      div.appendChild(progress);\n",
              "      document.body.appendChild(div);\n",
              "\n",
              "      const buffers = [];\n",
              "      let downloaded = 0;\n",
              "\n",
              "      const channel = await google.colab.kernel.comms.open(id);\n",
              "      // Send a message to notify the kernel that we're ready.\n",
              "      channel.send({})\n",
              "\n",
              "      for await (const message of channel.messages) {\n",
              "        // Send a message to notify the kernel that we're ready.\n",
              "        channel.send({})\n",
              "        if (message.buffers) {\n",
              "          for (const buffer of message.buffers) {\n",
              "            buffers.push(buffer);\n",
              "            downloaded += buffer.byteLength;\n",
              "            progress.value = downloaded;\n",
              "          }\n",
              "        }\n",
              "      }\n",
              "      const blob = new Blob(buffers, {type: 'application/binary'});\n",
              "      const a = document.createElement('a');\n",
              "      a.href = window.URL.createObjectURL(blob);\n",
              "      a.download = filename;\n",
              "      div.appendChild(a);\n",
              "      a.click();\n",
              "      div.remove();\n",
              "    }\n",
              "  "
            ]
          },
          "metadata": {}
        },
        {
          "output_type": "display_data",
          "data": {
            "text/plain": [
              "<IPython.core.display.Javascript object>"
            ],
            "application/javascript": [
              "download(\"download_0e11c62f-e96f-4207-8a08-1dd9b45de1ce\", \"best.pt\", 6249187)"
            ]
          },
          "metadata": {}
        },
        {
          "output_type": "display_data",
          "data": {
            "text/plain": [
              "<IPython.core.display.Javascript object>"
            ],
            "application/javascript": [
              "\n",
              "    async function download(id, filename, size) {\n",
              "      if (!google.colab.kernel.accessAllowed) {\n",
              "        return;\n",
              "      }\n",
              "      const div = document.createElement('div');\n",
              "      const label = document.createElement('label');\n",
              "      label.textContent = `Downloading \"${filename}\": `;\n",
              "      div.appendChild(label);\n",
              "      const progress = document.createElement('progress');\n",
              "      progress.max = size;\n",
              "      div.appendChild(progress);\n",
              "      document.body.appendChild(div);\n",
              "\n",
              "      const buffers = [];\n",
              "      let downloaded = 0;\n",
              "\n",
              "      const channel = await google.colab.kernel.comms.open(id);\n",
              "      // Send a message to notify the kernel that we're ready.\n",
              "      channel.send({})\n",
              "\n",
              "      for await (const message of channel.messages) {\n",
              "        // Send a message to notify the kernel that we're ready.\n",
              "        channel.send({})\n",
              "        if (message.buffers) {\n",
              "          for (const buffer of message.buffers) {\n",
              "            buffers.push(buffer);\n",
              "            downloaded += buffer.byteLength;\n",
              "            progress.value = downloaded;\n",
              "          }\n",
              "        }\n",
              "      }\n",
              "      const blob = new Blob(buffers, {type: 'application/binary'});\n",
              "      const a = document.createElement('a');\n",
              "      a.href = window.URL.createObjectURL(blob);\n",
              "      a.download = filename;\n",
              "      div.appendChild(a);\n",
              "      a.click();\n",
              "      div.remove();\n",
              "    }\n",
              "  "
            ]
          },
          "metadata": {}
        },
        {
          "output_type": "display_data",
          "data": {
            "text/plain": [
              "<IPython.core.display.Javascript object>"
            ],
            "application/javascript": [
              "download(\"download_73660c30-563c-42ca-8f40-86a5fb922d9b\", \"best.onnx\", 12251040)"
            ]
          },
          "metadata": {}
        },
        {
          "output_type": "display_data",
          "data": {
            "text/plain": [
              "<IPython.core.display.Javascript object>"
            ],
            "application/javascript": [
              "\n",
              "    async function download(id, filename, size) {\n",
              "      if (!google.colab.kernel.accessAllowed) {\n",
              "        return;\n",
              "      }\n",
              "      const div = document.createElement('div');\n",
              "      const label = document.createElement('label');\n",
              "      label.textContent = `Downloading \"${filename}\": `;\n",
              "      div.appendChild(label);\n",
              "      const progress = document.createElement('progress');\n",
              "      progress.max = size;\n",
              "      div.appendChild(progress);\n",
              "      document.body.appendChild(div);\n",
              "\n",
              "      const buffers = [];\n",
              "      let downloaded = 0;\n",
              "\n",
              "      const channel = await google.colab.kernel.comms.open(id);\n",
              "      // Send a message to notify the kernel that we're ready.\n",
              "      channel.send({})\n",
              "\n",
              "      for await (const message of channel.messages) {\n",
              "        // Send a message to notify the kernel that we're ready.\n",
              "        channel.send({})\n",
              "        if (message.buffers) {\n",
              "          for (const buffer of message.buffers) {\n",
              "            buffers.push(buffer);\n",
              "            downloaded += buffer.byteLength;\n",
              "            progress.value = downloaded;\n",
              "          }\n",
              "        }\n",
              "      }\n",
              "      const blob = new Blob(buffers, {type: 'application/binary'});\n",
              "      const a = document.createElement('a');\n",
              "      a.href = window.URL.createObjectURL(blob);\n",
              "      a.download = filename;\n",
              "      div.appendChild(a);\n",
              "      a.click();\n",
              "      div.remove();\n",
              "    }\n",
              "  "
            ]
          },
          "metadata": {}
        },
        {
          "output_type": "display_data",
          "data": {
            "text/plain": [
              "<IPython.core.display.Javascript object>"
            ],
            "application/javascript": [
              "download(\"download_70048f05-9283-4b85-803a-c634ddc36d29\", \"planetary_classifier.pkl\", 49)"
            ]
          },
          "metadata": {}
        },
        {
          "output_type": "stream",
          "name": "stdout",
          "text": [
            "Models saved successfully!\n"
          ]
        }
      ]
    },
    {
      "cell_type": "code",
      "source": [
        "# Upload a video file to test (if available)\n",
        "print(\"Upload a video file to test (optional):\")\n",
        "try:\n",
        "    uploaded = files.upload()\n",
        "    if uploaded:\n",
        "        video_path = list(uploaded.keys())[0]\n",
        "        output_video = process_video(video_path, yolo_model, surface_classifier)\n",
        "        print(f\"Processed video saved to: {output_video}\")\n",
        "        files.download(output_video)\n",
        "except:\n",
        "    print(\"Video processing skipped\")"
      ],
      "metadata": {
        "colab": {
          "base_uri": "https://localhost:8080/",
          "height": 55
        },
        "id": "lSpfAw3OXPDI",
        "outputId": "668a2d77-4a58-4ab5-870d-19bf8f5db755"
      },
      "execution_count": 14,
      "outputs": [
        {
          "output_type": "stream",
          "name": "stdout",
          "text": [
            "Upload a video file to test (optional):\n"
          ]
        },
        {
          "output_type": "display_data",
          "data": {
            "text/plain": [
              "<IPython.core.display.HTML object>"
            ],
            "text/html": [
              "\n",
              "     <input type=\"file\" id=\"files-8d7ffe6d-09e8-4d97-9e5f-b5030f775412\" name=\"files[]\" multiple disabled\n",
              "        style=\"border:none\" />\n",
              "     <output id=\"result-8d7ffe6d-09e8-4d97-9e5f-b5030f775412\">\n",
              "      Upload widget is only available when the cell has been executed in the\n",
              "      current browser session. Please rerun this cell to enable.\n",
              "      </output>\n",
              "      <script>// Copyright 2017 Google LLC\n",
              "//\n",
              "// Licensed under the Apache License, Version 2.0 (the \"License\");\n",
              "// you may not use this file except in compliance with the License.\n",
              "// You may obtain a copy of the License at\n",
              "//\n",
              "//      http://www.apache.org/licenses/LICENSE-2.0\n",
              "//\n",
              "// Unless required by applicable law or agreed to in writing, software\n",
              "// distributed under the License is distributed on an \"AS IS\" BASIS,\n",
              "// WITHOUT WARRANTIES OR CONDITIONS OF ANY KIND, either express or implied.\n",
              "// See the License for the specific language governing permissions and\n",
              "// limitations under the License.\n",
              "\n",
              "/**\n",
              " * @fileoverview Helpers for google.colab Python module.\n",
              " */\n",
              "(function(scope) {\n",
              "function span(text, styleAttributes = {}) {\n",
              "  const element = document.createElement('span');\n",
              "  element.textContent = text;\n",
              "  for (const key of Object.keys(styleAttributes)) {\n",
              "    element.style[key] = styleAttributes[key];\n",
              "  }\n",
              "  return element;\n",
              "}\n",
              "\n",
              "// Max number of bytes which will be uploaded at a time.\n",
              "const MAX_PAYLOAD_SIZE = 100 * 1024;\n",
              "\n",
              "function _uploadFiles(inputId, outputId) {\n",
              "  const steps = uploadFilesStep(inputId, outputId);\n",
              "  const outputElement = document.getElementById(outputId);\n",
              "  // Cache steps on the outputElement to make it available for the next call\n",
              "  // to uploadFilesContinue from Python.\n",
              "  outputElement.steps = steps;\n",
              "\n",
              "  return _uploadFilesContinue(outputId);\n",
              "}\n",
              "\n",
              "// This is roughly an async generator (not supported in the browser yet),\n",
              "// where there are multiple asynchronous steps and the Python side is going\n",
              "// to poll for completion of each step.\n",
              "// This uses a Promise to block the python side on completion of each step,\n",
              "// then passes the result of the previous step as the input to the next step.\n",
              "function _uploadFilesContinue(outputId) {\n",
              "  const outputElement = document.getElementById(outputId);\n",
              "  const steps = outputElement.steps;\n",
              "\n",
              "  const next = steps.next(outputElement.lastPromiseValue);\n",
              "  return Promise.resolve(next.value.promise).then((value) => {\n",
              "    // Cache the last promise value to make it available to the next\n",
              "    // step of the generator.\n",
              "    outputElement.lastPromiseValue = value;\n",
              "    return next.value.response;\n",
              "  });\n",
              "}\n",
              "\n",
              "/**\n",
              " * Generator function which is called between each async step of the upload\n",
              " * process.\n",
              " * @param {string} inputId Element ID of the input file picker element.\n",
              " * @param {string} outputId Element ID of the output display.\n",
              " * @return {!Iterable<!Object>} Iterable of next steps.\n",
              " */\n",
              "function* uploadFilesStep(inputId, outputId) {\n",
              "  const inputElement = document.getElementById(inputId);\n",
              "  inputElement.disabled = false;\n",
              "\n",
              "  const outputElement = document.getElementById(outputId);\n",
              "  outputElement.innerHTML = '';\n",
              "\n",
              "  const pickedPromise = new Promise((resolve) => {\n",
              "    inputElement.addEventListener('change', (e) => {\n",
              "      resolve(e.target.files);\n",
              "    });\n",
              "  });\n",
              "\n",
              "  const cancel = document.createElement('button');\n",
              "  inputElement.parentElement.appendChild(cancel);\n",
              "  cancel.textContent = 'Cancel upload';\n",
              "  const cancelPromise = new Promise((resolve) => {\n",
              "    cancel.onclick = () => {\n",
              "      resolve(null);\n",
              "    };\n",
              "  });\n",
              "\n",
              "  // Wait for the user to pick the files.\n",
              "  const files = yield {\n",
              "    promise: Promise.race([pickedPromise, cancelPromise]),\n",
              "    response: {\n",
              "      action: 'starting',\n",
              "    }\n",
              "  };\n",
              "\n",
              "  cancel.remove();\n",
              "\n",
              "  // Disable the input element since further picks are not allowed.\n",
              "  inputElement.disabled = true;\n",
              "\n",
              "  if (!files) {\n",
              "    return {\n",
              "      response: {\n",
              "        action: 'complete',\n",
              "      }\n",
              "    };\n",
              "  }\n",
              "\n",
              "  for (const file of files) {\n",
              "    const li = document.createElement('li');\n",
              "    li.append(span(file.name, {fontWeight: 'bold'}));\n",
              "    li.append(span(\n",
              "        `(${file.type || 'n/a'}) - ${file.size} bytes, ` +\n",
              "        `last modified: ${\n",
              "            file.lastModifiedDate ? file.lastModifiedDate.toLocaleDateString() :\n",
              "                                    'n/a'} - `));\n",
              "    const percent = span('0% done');\n",
              "    li.appendChild(percent);\n",
              "\n",
              "    outputElement.appendChild(li);\n",
              "\n",
              "    const fileDataPromise = new Promise((resolve) => {\n",
              "      const reader = new FileReader();\n",
              "      reader.onload = (e) => {\n",
              "        resolve(e.target.result);\n",
              "      };\n",
              "      reader.readAsArrayBuffer(file);\n",
              "    });\n",
              "    // Wait for the data to be ready.\n",
              "    let fileData = yield {\n",
              "      promise: fileDataPromise,\n",
              "      response: {\n",
              "        action: 'continue',\n",
              "      }\n",
              "    };\n",
              "\n",
              "    // Use a chunked sending to avoid message size limits. See b/62115660.\n",
              "    let position = 0;\n",
              "    do {\n",
              "      const length = Math.min(fileData.byteLength - position, MAX_PAYLOAD_SIZE);\n",
              "      const chunk = new Uint8Array(fileData, position, length);\n",
              "      position += length;\n",
              "\n",
              "      const base64 = btoa(String.fromCharCode.apply(null, chunk));\n",
              "      yield {\n",
              "        response: {\n",
              "          action: 'append',\n",
              "          file: file.name,\n",
              "          data: base64,\n",
              "        },\n",
              "      };\n",
              "\n",
              "      let percentDone = fileData.byteLength === 0 ?\n",
              "          100 :\n",
              "          Math.round((position / fileData.byteLength) * 100);\n",
              "      percent.textContent = `${percentDone}% done`;\n",
              "\n",
              "    } while (position < fileData.byteLength);\n",
              "  }\n",
              "\n",
              "  // All done.\n",
              "  yield {\n",
              "    response: {\n",
              "      action: 'complete',\n",
              "    }\n",
              "  };\n",
              "}\n",
              "\n",
              "scope.google = scope.google || {};\n",
              "scope.google.colab = scope.google.colab || {};\n",
              "scope.google.colab._files = {\n",
              "  _uploadFiles,\n",
              "  _uploadFilesContinue,\n",
              "};\n",
              "})(self);\n",
              "</script> "
            ]
          },
          "metadata": {}
        }
      ]
    },
    {
      "cell_type": "code",
      "source": [
        "# prompt: how to know accuracy of the model\n",
        "\n",
        "import matplotlib.pyplot as plt\n",
        "import glob\n",
        "\n",
        "# Find the results.csv file\n",
        "results_files = glob.glob('/content/runs/detect/crater_model/*.csv')\n",
        "print(f\"Found results files: {results_files}\")\n",
        "\n",
        "if results_files:\n",
        "    # Use the first results file found\n",
        "    plot_results(file=results_files[0])\n",
        "else:\n",
        "    print(\"No results.csv files found, skipping plotting\")\n"
      ],
      "metadata": {
        "colab": {
          "base_uri": "https://localhost:8080/"
        },
        "id": "UMr0sK59XtaX",
        "outputId": "989cc75a-bcd2-4543-c93b-b9d238f40470"
      },
      "execution_count": 15,
      "outputs": [
        {
          "output_type": "stream",
          "name": "stdout",
          "text": [
            "Found results files: ['/content/runs/detect/crater_model/results.csv']\n"
          ]
        }
      ]
    },
    {
      "cell_type": "code",
      "source": [
        "# prompt: can you provide the model accuracy and losses in percentage and show graph for it\n",
        "\n",
        "import pandas as pd\n",
        "import matplotlib.pyplot as plt\n",
        "\n",
        "# Find the results.csv file\n",
        "results_files = glob.glob('/content/runs/detect/crater_model/*.csv')\n",
        "print(f\"Found results files: {results_files}\")\n",
        "\n",
        "if results_files:\n",
        "    results_df = pd.read_csv(results_files[0])\n",
        "\n",
        "    # Extract relevant columns\n",
        "    metrics = ['metrics/precision(B)', 'metrics/recall(B)', 'metrics/mAP50(B)', 'metrics/mAP50-95(B)']  # Box metrics\n",
        "\n",
        "    # Calculate percentages\n",
        "    for col in metrics:\n",
        "      results_df[col] = results_df[col] * 100\n",
        "\n",
        "    # Plotting\n",
        "    plt.figure(figsize=(12, 6))\n",
        "\n",
        "    # Plot metrics\n",
        "    for metric in metrics:\n",
        "        plt.plot(results_df['epoch'], results_df[metric], label=metric.replace('metrics/', ''))\n",
        "\n",
        "    plt.xlabel('Epoch')\n",
        "    plt.ylabel('Percentage')  # Updated y-label\n",
        "    plt.title('YOLOv8 Training Metrics')\n",
        "    plt.legend()\n",
        "    plt.grid(True)\n",
        "    plt.show()\n",
        "\n",
        "    # Print the last row of metrics for easy access\n",
        "    last_metrics = results_df.iloc[-1][metrics].to_dict()\n",
        "    print(f\"Final Metrics:\")\n",
        "    for metric_name, metric_value in last_metrics.items():\n",
        "        print(f\"{metric_name.replace('metrics/', '')}: {metric_value:.2f}%\")  # Added percentage format\n",
        "\n",
        "    # Plotting Losses\n",
        "    plt.figure(figsize=(12, 6))\n",
        "    plt.plot(results_df['epoch'], results_df['train/box_loss'], label='Train Box Loss')\n",
        "    plt.plot(results_df['epoch'], results_df['val/box_loss'], label='Validation Box Loss')\n",
        "    plt.xlabel('Epoch')\n",
        "    plt.ylabel('Loss')\n",
        "    plt.title('YOLOv8 Box Loss')\n",
        "    plt.legend()\n",
        "    plt.grid(True)\n",
        "    plt.show()\n",
        "\n",
        "else:\n",
        "    print(\"No results.csv files found, skipping plotting and metrics display.\")\n"
      ],
      "metadata": {
        "colab": {
          "base_uri": "https://localhost:8080/",
          "height": 1000
        },
        "id": "wZaXYxv0z_E9",
        "outputId": "03e94d97-0438-4a5b-a4d8-9c2d768ed069"
      },
      "execution_count": 17,
      "outputs": [
        {
          "output_type": "stream",
          "name": "stdout",
          "text": [
            "Found results files: ['/content/runs/detect/crater_model/results.csv']\n"
          ]
        },
        {
          "output_type": "display_data",
          "data": {
            "text/plain": [
              "<Figure size 1200x600 with 1 Axes>"
            ],
            "image/png": "[encoded data removed]"
          },
          "metadata": {}
        },
        {
          "output_type": "stream",
          "name": "stdout",
          "text": [
            "Final Metrics:\n",
            "precision(B): 72.17%\n",
            "recall(B): 61.45%\n",
            "mAP50(B): 68.21%\n",
            "mAP50-95(B): 37.93%\n"
          ]
        },
        {
          "output_type": "display_data",
          "data": {
            "text/plain": [
              "<Figure size 1200x600 with 1 Axes>"
            ],
            "image/png": "[encoded data removed]"
          },
          "metadata": {}
        }
      ]
    },
    {
      "cell_type": "code",
      "source": [],
      "metadata": {
        "id": "KL0mOC2s42j5"
      },
      "execution_count": null,
      "outputs": []
    }
  ]
}